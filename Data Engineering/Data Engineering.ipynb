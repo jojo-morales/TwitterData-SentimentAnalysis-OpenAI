{
 "cells": [
  {
   "cell_type": "code",
   "execution_count": 108,
   "metadata": {},
   "outputs": [
    {
     "name": "stderr",
     "output_type": "stream",
     "text": [
      "[nltk_data] Downloading package stopwords to\n",
      "[nltk_data]     C:\\Users\\admin\\AppData\\Roaming\\nltk_data...\n",
      "[nltk_data]   Package stopwords is already up-to-date!\n",
      "[nltk_data] Downloading package punkt to\n",
      "[nltk_data]     C:\\Users\\admin\\AppData\\Roaming\\nltk_data...\n",
      "[nltk_data]   Package punkt is already up-to-date!\n"
     ]
    }
   ],
   "source": [
    "#importing the libraries\n",
    "import pandas as pd\n",
    "import numpy as np\n",
    "import matplotlib.pyplot as plt\n",
    "import seaborn as sns\n",
    "\n",
    "import nltk\n",
    "from nltk.corpus import stopwords\n",
    "from nltk.tokenize import word_tokenize\n",
    "from nltk.stem.wordnet import WordNetLemmatizer\n",
    "\n",
    "nltk.download('stopwords')\n",
    "nltk.download('punkt')\n",
    "\n",
    "import re\n"
   ]
  },
  {
   "cell_type": "code",
   "execution_count": 128,
   "metadata": {},
   "outputs": [],
   "source": [
    "#loading the dataset\n",
    "df=pd.read_csv('Final_Data_Cleaning.csv')"
   ]
  },
  {
   "cell_type": "code",
   "execution_count": 129,
   "metadata": {},
   "outputs": [
    {
     "data": {
      "text/html": [
       "<div>\n",
       "<style scoped>\n",
       "    .dataframe tbody tr th:only-of-type {\n",
       "        vertical-align: middle;\n",
       "    }\n",
       "\n",
       "    .dataframe tbody tr th {\n",
       "        vertical-align: top;\n",
       "    }\n",
       "\n",
       "    .dataframe thead th {\n",
       "        text-align: right;\n",
       "    }\n",
       "</style>\n",
       "<table border=\"1\" class=\"dataframe\">\n",
       "  <thead>\n",
       "    <tr style=\"text-align: right;\">\n",
       "      <th></th>\n",
       "      <th>Unnamed: 0</th>\n",
       "      <th>Gender</th>\n",
       "      <th>Country</th>\n",
       "      <th>Hour</th>\n",
       "      <th>Day</th>\n",
       "      <th>Weekday</th>\n",
       "      <th>IsReshare</th>\n",
       "      <th>Reach</th>\n",
       "      <th>RetweetCount</th>\n",
       "      <th>Likes</th>\n",
       "      <th>Klout</th>\n",
       "      <th>Sentiment</th>\n",
       "      <th>Lang</th>\n",
       "      <th>text</th>\n",
       "      <th>clean_text</th>\n",
       "      <th>translated_text</th>\n",
       "      <th>tokens</th>\n",
       "    </tr>\n",
       "  </thead>\n",
       "  <tbody>\n",
       "    <tr>\n",
       "      <th>0</th>\n",
       "      <td>0</td>\n",
       "      <td>Unknown</td>\n",
       "      <td>Albania</td>\n",
       "      <td>7</td>\n",
       "      <td>12</td>\n",
       "      <td>Friday</td>\n",
       "      <td>True</td>\n",
       "      <td>339.0</td>\n",
       "      <td>127.0</td>\n",
       "      <td>0.0</td>\n",
       "      <td>44.0</td>\n",
       "      <td>0.0</td>\n",
       "      <td>en</td>\n",
       "      <td>\"RT @AdrianRusso82: Our Innovation Lab is offi...</td>\n",
       "      <td>our innovation lab officially open click learn...</td>\n",
       "      <td>innovation officially open click learn tech sc...</td>\n",
       "      <td>['innovation', 'officially', 'open', 'click', ...</td>\n",
       "    </tr>\n",
       "    <tr>\n",
       "      <th>1</th>\n",
       "      <td>1</td>\n",
       "      <td>Male</td>\n",
       "      <td>Albania</td>\n",
       "      <td>11</td>\n",
       "      <td>7</td>\n",
       "      <td>Thursday</td>\n",
       "      <td>False</td>\n",
       "      <td>87.0</td>\n",
       "      <td>0.0</td>\n",
       "      <td>0.0</td>\n",
       "      <td>22.0</td>\n",
       "      <td>0.0</td>\n",
       "      <td>en</td>\n",
       "      <td>Now Open  AWS Asia Pacific (Seoul) Region via ...</td>\n",
       "      <td>now open aws asia pacific seoul region via are...</td>\n",
       "      <td>open pacific region</td>\n",
       "      <td>['open', 'pacific', 'region']</td>\n",
       "    </tr>\n",
       "    <tr>\n",
       "      <th>2</th>\n",
       "      <td>2</td>\n",
       "      <td>Male</td>\n",
       "      <td>Albania</td>\n",
       "      <td>6</td>\n",
       "      <td>12</td>\n",
       "      <td>Tuesday</td>\n",
       "      <td>False</td>\n",
       "      <td>87.0</td>\n",
       "      <td>0.0</td>\n",
       "      <td>0.0</td>\n",
       "      <td>22.0</td>\n",
       "      <td>0.0</td>\n",
       "      <td>en</td>\n",
       "      <td>A Beginner's Guide to Scaling to 11 Million+ U...</td>\n",
       "      <td>a beginners guide scaling million users amazon...</td>\n",
       "      <td>guide scaling million</td>\n",
       "      <td>['guide', 'scaling', 'million']</td>\n",
       "    </tr>\n",
       "    <tr>\n",
       "      <th>3</th>\n",
       "      <td>3</td>\n",
       "      <td>Male</td>\n",
       "      <td>Albania</td>\n",
       "      <td>10</td>\n",
       "      <td>12</td>\n",
       "      <td>Tuesday</td>\n",
       "      <td>False</td>\n",
       "      <td>87.0</td>\n",
       "      <td>0.0</td>\n",
       "      <td>0.0</td>\n",
       "      <td>22.0</td>\n",
       "      <td>0.0</td>\n",
       "      <td>en</td>\n",
       "      <td>Bridging AWS and Azure environments via VPN vi...</td>\n",
       "      <td>bridging aws azure environment via vpn via are...</td>\n",
       "      <td>bridging azure environment</td>\n",
       "      <td>['bridging', 'azure', 'environment']</td>\n",
       "    </tr>\n",
       "    <tr>\n",
       "      <th>4</th>\n",
       "      <td>4</td>\n",
       "      <td>Male</td>\n",
       "      <td>Albania</td>\n",
       "      <td>9</td>\n",
       "      <td>21</td>\n",
       "      <td>Thursday</td>\n",
       "      <td>False</td>\n",
       "      <td>85.0</td>\n",
       "      <td>0.0</td>\n",
       "      <td>0.0</td>\n",
       "      <td>21.0</td>\n",
       "      <td>0.0</td>\n",
       "      <td>en</td>\n",
       "      <td>ELK on AWS ElasticSearch Service + ElasticBean...</td>\n",
       "      <td>elk aws elasticsearch service elasticbeanstalk...</td>\n",
       "      <td>service</td>\n",
       "      <td>['service']</td>\n",
       "    </tr>\n",
       "  </tbody>\n",
       "</table>\n",
       "</div>"
      ],
      "text/plain": [
       "   Unnamed: 0   Gender  Country  Hour  Day   Weekday  IsReshare  Reach  \\\n",
       "0           0  Unknown  Albania     7   12    Friday       True  339.0   \n",
       "1           1     Male  Albania    11    7  Thursday      False   87.0   \n",
       "2           2     Male  Albania     6   12   Tuesday      False   87.0   \n",
       "3           3     Male  Albania    10   12   Tuesday      False   87.0   \n",
       "4           4     Male  Albania     9   21  Thursday      False   85.0   \n",
       "\n",
       "   RetweetCount  Likes  Klout  Sentiment Lang  \\\n",
       "0         127.0    0.0   44.0        0.0   en   \n",
       "1           0.0    0.0   22.0        0.0   en   \n",
       "2           0.0    0.0   22.0        0.0   en   \n",
       "3           0.0    0.0   22.0        0.0   en   \n",
       "4           0.0    0.0   21.0        0.0   en   \n",
       "\n",
       "                                                text  \\\n",
       "0  \"RT @AdrianRusso82: Our Innovation Lab is offi...   \n",
       "1  Now Open  AWS Asia Pacific (Seoul) Region via ...   \n",
       "2  A Beginner's Guide to Scaling to 11 Million+ U...   \n",
       "3  Bridging AWS and Azure environments via VPN vi...   \n",
       "4  ELK on AWS ElasticSearch Service + ElasticBean...   \n",
       "\n",
       "                                          clean_text  \\\n",
       "0  our innovation lab officially open click learn...   \n",
       "1  now open aws asia pacific seoul region via are...   \n",
       "2  a beginners guide scaling million users amazon...   \n",
       "3  bridging aws azure environment via vpn via are...   \n",
       "4  elk aws elasticsearch service elasticbeanstalk...   \n",
       "\n",
       "                                     translated_text  \\\n",
       "0  innovation officially open click learn tech sc...   \n",
       "1                                open pacific region   \n",
       "2                              guide scaling million   \n",
       "3                         bridging azure environment   \n",
       "4                                            service   \n",
       "\n",
       "                                              tokens  \n",
       "0  ['innovation', 'officially', 'open', 'click', ...  \n",
       "1                      ['open', 'pacific', 'region']  \n",
       "2                    ['guide', 'scaling', 'million']  \n",
       "3               ['bridging', 'azure', 'environment']  \n",
       "4                                        ['service']  "
      ]
     },
     "execution_count": 129,
     "metadata": {},
     "output_type": "execute_result"
    }
   ],
   "source": [
    "df.head()"
   ]
  },
  {
   "cell_type": "code",
   "execution_count": 130,
   "metadata": {},
   "outputs": [],
   "source": [
    "# dropping columns\n",
    "df.drop(['Unnamed: 0'],axis=1,inplace=True)"
   ]
  },
  {
   "cell_type": "code",
   "execution_count": 131,
   "metadata": {},
   "outputs": [
    {
     "data": {
      "text/plain": [
       "Lang\n",
       "en    91414\n",
       "es     1564\n",
       "fr     1006\n",
       "tr      664\n",
       "de      530\n",
       "_u      339\n",
       "ja      335\n",
       "tl      291\n",
       "in      242\n",
       "pt      196\n",
       "nl      161\n",
       "ko      126\n",
       "it      116\n",
       "pl       70\n",
       "cs       59\n",
       "zh       56\n",
       "fi       47\n",
       "th       45\n",
       "et       38\n",
       "ro       35\n",
       "da       23\n",
       "cy       23\n",
       "ru       21\n",
       "ht       20\n",
       "sv       19\n",
       "hu       13\n",
       "no       11\n",
       "lt        8\n",
       "hi        3\n",
       "sl        2\n",
       "lv        1\n",
       "uk        1\n",
       "Name: count, dtype: int64"
      ]
     },
     "execution_count": 131,
     "metadata": {},
     "output_type": "execute_result"
    }
   ],
   "source": [
    "df['Lang'].value_counts()"
   ]
  },
  {
   "cell_type": "code",
   "execution_count": 132,
   "metadata": {},
   "outputs": [
    {
     "data": {
      "text/plain": [
       "(97479, 16)"
      ]
     },
     "execution_count": 132,
     "metadata": {},
     "output_type": "execute_result"
    }
   ],
   "source": [
    "df.shape"
   ]
  },
  {
   "cell_type": "markdown",
   "metadata": {},
   "source": [
    "#### At this point we are decided to drop the rows by using `Lang` column which are not translated in english as most of them are translated in it."
   ]
  },
  {
   "cell_type": "code",
   "execution_count": 133,
   "metadata": {},
   "outputs": [],
   "source": [
    "# List of substrings to remove\n",
    "substrings_to_remove = ['_u','es', 'ht','in','it','ja','nl','pt','ro','tl','tr','zh']\n",
    "# Create a regex pattern to match any of the substrings\n",
    "pattern = '|'.join(substrings_to_remove)\n",
    "# Remove rows where 'Lang' contains any of the substrings\n",
    "df = df[~df['Lang'].str.contains(pattern)]"
   ]
  },
  {
   "cell_type": "code",
   "execution_count": 134,
   "metadata": {},
   "outputs": [
    {
     "data": {
      "text/plain": [
       "(93460, 16)"
      ]
     },
     "execution_count": 134,
     "metadata": {},
     "output_type": "execute_result"
    }
   ],
   "source": [
    "df.shape"
   ]
  },
  {
   "cell_type": "markdown",
   "metadata": {},
   "source": [
    "# Data Engineering"
   ]
  },
  {
   "cell_type": "code",
   "execution_count": 135,
   "metadata": {},
   "outputs": [],
   "source": [
    "# dropping columns\n",
    "df.drop(['Gender','Country','Hour','Day','Weekday','IsReshare','Reach','RetweetCount','Likes','Klout','Lang','text'],axis=1,inplace=True)"
   ]
  },
  {
   "cell_type": "markdown",
   "metadata": {},
   "source": [
    "In `Sentiment` column, the values are not well defined. So, We are dividing them into 3 categories and then applying mapping."
   ]
  },
  {
   "cell_type": "code",
   "execution_count": 136,
   "metadata": {},
   "outputs": [],
   "source": [
    "# the values are not well defined. So, We are dividing them into 3 categories and then applying mapping.\n",
    "df['Mood'] = df['Sentiment'].apply(lambda x: \n",
    "                                       ('Positive' if x > 0 \n",
    "                                             else ('Neutral' if x == 0 \n",
    "                                                   else  'Negative')))"
   ]
  },
  {
   "cell_type": "code",
   "execution_count": 137,
   "metadata": {},
   "outputs": [],
   "source": [
    "# Mapping dictionary\n",
    "mood_mapping = {\n",
    "    'Neutral': 0,\n",
    "    'Positive': 1,\n",
    "    'Negative': 2\n",
    "}\n",
    "\n",
    "df['Mood'] = df['Mood'].map(mood_mapping)"
   ]
  },
  {
   "cell_type": "code",
   "execution_count": 138,
   "metadata": {},
   "outputs": [],
   "source": [
    "# Mapping dictionary\n",
    "mood_mapping = {\n",
    "    0: 'Neutral',\n",
    "    1: 'Positive',\n",
    "    2: 'Negative'\n",
    "}\n",
    "\n",
    "df['Sentiment'] = df['Mood'].map(mood_mapping)"
   ]
  },
  {
   "cell_type": "code",
   "execution_count": 139,
   "metadata": {},
   "outputs": [],
   "source": [
    "# Handle missing values by replacing NaNs with an empty string\n",
    "df['translated_text'] = df['translated_text'].fillna('')\n",
    "\n",
    "# Convert non-string values to string\n",
    "df['translated_text'] = df['translated_text'].astype(str)"
   ]
  },
  {
   "cell_type": "code",
   "execution_count": 140,
   "metadata": {},
   "outputs": [],
   "source": [
    "df.to_csv(\"Final_Data_Engineering_Data.csv\",index=True)"
   ]
  }
 ],
 "metadata": {
  "kernelspec": {
   "display_name": "Python 3",
   "language": "python",
   "name": "python3"
  },
  "language_info": {
   "codemirror_mode": {
    "name": "ipython",
    "version": 3
   },
   "file_extension": ".py",
   "mimetype": "text/x-python",
   "name": "python",
   "nbconvert_exporter": "python",
   "pygments_lexer": "ipython3",
   "version": "3.11.3"
  }
 },
 "nbformat": 4,
 "nbformat_minor": 2
}
