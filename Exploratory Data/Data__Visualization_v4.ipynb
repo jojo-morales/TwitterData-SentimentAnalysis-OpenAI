{
  "cells": [
    {
      "cell_type": "code",
      "execution_count": 11,
      "metadata": {
        "id": "CYj2DgU2T4b5"
      },
      "outputs": [],
      "source": [
        "#importing the libraries\n",
        "import pandas as pd\n",
        "import numpy as np\n",
        "import matplotlib.pyplot as plt\n",
        "import seaborn as sns"
      ]
    },
    {
      "cell_type": "code",
      "execution_count": 12,
      "metadata": {
        "id": "IJF5omfzT-uM"
      },
      "outputs": [],
      "source": [
        "#loading the dataset\n",
        "df=pd.read_csv(r'D:\\Jojo\\LAMBTON\\3. Spring May2024\\1. BDM 3035 - Big Data Capstone Project\\Capstone Project\\datasets\\translation data1.csv')"
      ]
    },
    {
      "cell_type": "code",
      "execution_count": 13,
      "metadata": {
        "colab": {
          "base_uri": "https://localhost:8080/"
        },
        "id": "PCYXcuA7nkVI",
        "outputId": "a4ef536a-62ab-488d-87fb-50891ccba510"
      },
      "outputs": [
        {
          "data": {
            "text/plain": [
              "0        127.0\n",
              "1          0.0\n",
              "2          0.0\n",
              "3          0.0\n",
              "4          0.0\n",
              "         ...  \n",
              "96003      3.0\n",
              "96004    102.0\n",
              "96005      0.0\n",
              "96006      5.0\n",
              "96007      3.0\n",
              "Name: RetweetCount, Length: 96008, dtype: float64"
            ]
          },
          "execution_count": 13,
          "metadata": {},
          "output_type": "execute_result"
        }
      ],
      "source": [
        "df['RetweetCount']"
      ]
    },
    {
      "cell_type": "code",
      "execution_count": 14,
      "metadata": {
        "colab": {
          "base_uri": "https://localhost:8080/",
          "height": 504
        },
        "id": "obYpeNBjUIHj",
        "outputId": "4231788d-02b3-4473-aa18-8ca1013f98dd"
      },
      "outputs": [
        {
          "data": {
            "text/html": [
              "<div>\n",
              "<style scoped>\n",
              "    .dataframe tbody tr th:only-of-type {\n",
              "        vertical-align: middle;\n",
              "    }\n",
              "\n",
              "    .dataframe tbody tr th {\n",
              "        vertical-align: top;\n",
              "    }\n",
              "\n",
              "    .dataframe thead th {\n",
              "        text-align: right;\n",
              "    }\n",
              "</style>\n",
              "<table border=\"1\" class=\"dataframe\">\n",
              "  <thead>\n",
              "    <tr style=\"text-align: right;\">\n",
              "      <th></th>\n",
              "      <th>Unnamed: 0</th>\n",
              "      <th>Gender</th>\n",
              "      <th>Country</th>\n",
              "      <th>Hour</th>\n",
              "      <th>Day</th>\n",
              "      <th>Weekday</th>\n",
              "      <th>IsReshare</th>\n",
              "      <th>Reach</th>\n",
              "      <th>RetweetCount</th>\n",
              "      <th>Likes</th>\n",
              "      <th>Klout</th>\n",
              "      <th>Sentiment</th>\n",
              "      <th>Lang</th>\n",
              "      <th>text</th>\n",
              "      <th>clean_text</th>\n",
              "      <th>clean_text_processed</th>\n",
              "    </tr>\n",
              "  </thead>\n",
              "  <tbody>\n",
              "    <tr>\n",
              "      <th>0</th>\n",
              "      <td>0</td>\n",
              "      <td>Unknown</td>\n",
              "      <td>Albania</td>\n",
              "      <td>7</td>\n",
              "      <td>12</td>\n",
              "      <td>Friday</td>\n",
              "      <td>True</td>\n",
              "      <td>339.0</td>\n",
              "      <td>127.0</td>\n",
              "      <td>0.0</td>\n",
              "      <td>44.0</td>\n",
              "      <td>0.0</td>\n",
              "      <td>en</td>\n",
              "      <td>\"RT @AdrianRusso82: Our Innovation Lab is offi...</td>\n",
              "      <td>adrianrusso our innovation lab is officially ...</td>\n",
              "      <td>['adrianrusso', 'innovation', 'lab', 'official...</td>\n",
              "    </tr>\n",
              "    <tr>\n",
              "      <th>1</th>\n",
              "      <td>1</td>\n",
              "      <td>Male</td>\n",
              "      <td>Albania</td>\n",
              "      <td>11</td>\n",
              "      <td>7</td>\n",
              "      <td>Thursday</td>\n",
              "      <td>False</td>\n",
              "      <td>87.0</td>\n",
              "      <td>0.0</td>\n",
              "      <td>0.0</td>\n",
              "      <td>22.0</td>\n",
              "      <td>0.0</td>\n",
              "      <td>en</td>\n",
              "      <td>Now Open  AWS Asia Pacific (Seoul) Region via ...</td>\n",
              "      <td>now open aws asia pacific seoul region via rsy...</td>\n",
              "      <td>['open', 'aws', 'asia', 'pacific', 'seoul', 'r...</td>\n",
              "    </tr>\n",
              "    <tr>\n",
              "      <th>2</th>\n",
              "      <td>2</td>\n",
              "      <td>Male</td>\n",
              "      <td>Albania</td>\n",
              "      <td>6</td>\n",
              "      <td>12</td>\n",
              "      <td>Tuesday</td>\n",
              "      <td>False</td>\n",
              "      <td>87.0</td>\n",
              "      <td>0.0</td>\n",
              "      <td>0.0</td>\n",
              "      <td>22.0</td>\n",
              "      <td>0.0</td>\n",
              "      <td>en</td>\n",
              "      <td>A Beginner's Guide to Scaling to 11 Million+ U...</td>\n",
              "      <td>a beginners guide to scaling to million users ...</td>\n",
              "      <td>['beginner', 'guide', 'scaling', 'million', 'u...</td>\n",
              "    </tr>\n",
              "    <tr>\n",
              "      <th>3</th>\n",
              "      <td>3</td>\n",
              "      <td>Male</td>\n",
              "      <td>Albania</td>\n",
              "      <td>10</td>\n",
              "      <td>12</td>\n",
              "      <td>Tuesday</td>\n",
              "      <td>False</td>\n",
              "      <td>87.0</td>\n",
              "      <td>0.0</td>\n",
              "      <td>0.0</td>\n",
              "      <td>22.0</td>\n",
              "      <td>0.0</td>\n",
              "      <td>en</td>\n",
              "      <td>Bridging AWS and Azure environments via VPN vi...</td>\n",
              "      <td>bridging aws and azure environments via vpn vi...</td>\n",
              "      <td>['bridging', 'aws', 'azure', 'environment', 'v...</td>\n",
              "    </tr>\n",
              "    <tr>\n",
              "      <th>4</th>\n",
              "      <td>4</td>\n",
              "      <td>Male</td>\n",
              "      <td>Albania</td>\n",
              "      <td>9</td>\n",
              "      <td>21</td>\n",
              "      <td>Thursday</td>\n",
              "      <td>False</td>\n",
              "      <td>85.0</td>\n",
              "      <td>0.0</td>\n",
              "      <td>0.0</td>\n",
              "      <td>21.0</td>\n",
              "      <td>0.0</td>\n",
              "      <td>en</td>\n",
              "      <td>ELK on AWS ElasticSearch Service + ElasticBean...</td>\n",
              "      <td>elk on aws elasticsearch service elasticbeanst...</td>\n",
              "      <td>['elk', 'aws', 'elasticsearch', 'service', 'el...</td>\n",
              "    </tr>\n",
              "  </tbody>\n",
              "</table>\n",
              "</div>"
            ],
            "text/plain": [
              "   Unnamed: 0   Gender  Country  Hour  Day   Weekday  IsReshare  Reach  \\\n",
              "0           0  Unknown  Albania     7   12    Friday       True  339.0   \n",
              "1           1     Male  Albania    11    7  Thursday      False   87.0   \n",
              "2           2     Male  Albania     6   12   Tuesday      False   87.0   \n",
              "3           3     Male  Albania    10   12   Tuesday      False   87.0   \n",
              "4           4     Male  Albania     9   21  Thursday      False   85.0   \n",
              "\n",
              "   RetweetCount  Likes  Klout  Sentiment Lang  \\\n",
              "0         127.0    0.0   44.0        0.0   en   \n",
              "1           0.0    0.0   22.0        0.0   en   \n",
              "2           0.0    0.0   22.0        0.0   en   \n",
              "3           0.0    0.0   22.0        0.0   en   \n",
              "4           0.0    0.0   21.0        0.0   en   \n",
              "\n",
              "                                                text  \\\n",
              "0  \"RT @AdrianRusso82: Our Innovation Lab is offi...   \n",
              "1  Now Open  AWS Asia Pacific (Seoul) Region via ...   \n",
              "2  A Beginner's Guide to Scaling to 11 Million+ U...   \n",
              "3  Bridging AWS and Azure environments via VPN vi...   \n",
              "4  ELK on AWS ElasticSearch Service + ElasticBean...   \n",
              "\n",
              "                                          clean_text  \\\n",
              "0   adrianrusso our innovation lab is officially ...   \n",
              "1  now open aws asia pacific seoul region via rsy...   \n",
              "2  a beginners guide to scaling to million users ...   \n",
              "3  bridging aws and azure environments via vpn vi...   \n",
              "4  elk on aws elasticsearch service elasticbeanst...   \n",
              "\n",
              "                                clean_text_processed  \n",
              "0  ['adrianrusso', 'innovation', 'lab', 'official...  \n",
              "1  ['open', 'aws', 'asia', 'pacific', 'seoul', 'r...  \n",
              "2  ['beginner', 'guide', 'scaling', 'million', 'u...  \n",
              "3  ['bridging', 'aws', 'azure', 'environment', 'v...  \n",
              "4  ['elk', 'aws', 'elasticsearch', 'service', 'el...  "
            ]
          },
          "execution_count": 14,
          "metadata": {},
          "output_type": "execute_result"
        }
      ],
      "source": [
        "df.head()"
      ]
    },
    {
      "cell_type": "markdown",
      "metadata": {
        "id": "7tWIlHuTVF1C"
      },
      "source": [
        "### **DATA VISUALIZATION**"
      ]
    },
    {
      "cell_type": "code",
      "execution_count": 15,
      "metadata": {
        "colab": {
          "base_uri": "https://localhost:8080/",
          "height": 504
        },
        "id": "5YTMqBLucnJY",
        "outputId": "d33691f6-96da-4dbd-cfec-070b517e084e"
      },
      "outputs": [
        {
          "data": {
            "text/html": [
              "<div>\n",
              "<style scoped>\n",
              "    .dataframe tbody tr th:only-of-type {\n",
              "        vertical-align: middle;\n",
              "    }\n",
              "\n",
              "    .dataframe tbody tr th {\n",
              "        vertical-align: top;\n",
              "    }\n",
              "\n",
              "    .dataframe thead th {\n",
              "        text-align: right;\n",
              "    }\n",
              "</style>\n",
              "<table border=\"1\" class=\"dataframe\">\n",
              "  <thead>\n",
              "    <tr style=\"text-align: right;\">\n",
              "      <th></th>\n",
              "      <th>Unnamed: 0</th>\n",
              "      <th>Gender</th>\n",
              "      <th>Country</th>\n",
              "      <th>Hour</th>\n",
              "      <th>Day</th>\n",
              "      <th>Weekday</th>\n",
              "      <th>IsReshare</th>\n",
              "      <th>Reach</th>\n",
              "      <th>RetweetCount</th>\n",
              "      <th>Likes</th>\n",
              "      <th>Klout</th>\n",
              "      <th>Sentiment</th>\n",
              "      <th>Lang</th>\n",
              "      <th>text</th>\n",
              "      <th>clean_text</th>\n",
              "      <th>clean_text_processed</th>\n",
              "    </tr>\n",
              "  </thead>\n",
              "  <tbody>\n",
              "    <tr>\n",
              "      <th>0</th>\n",
              "      <td>0</td>\n",
              "      <td>Unknown</td>\n",
              "      <td>Albania</td>\n",
              "      <td>7</td>\n",
              "      <td>12</td>\n",
              "      <td>Friday</td>\n",
              "      <td>True</td>\n",
              "      <td>339</td>\n",
              "      <td>127</td>\n",
              "      <td>0</td>\n",
              "      <td>44.0</td>\n",
              "      <td>0.0</td>\n",
              "      <td>en</td>\n",
              "      <td>\"RT @AdrianRusso82: Our Innovation Lab is offi...</td>\n",
              "      <td>adrianrusso our innovation lab is officially ...</td>\n",
              "      <td>['adrianrusso', 'innovation', 'lab', 'official...</td>\n",
              "    </tr>\n",
              "    <tr>\n",
              "      <th>1</th>\n",
              "      <td>1</td>\n",
              "      <td>Male</td>\n",
              "      <td>Albania</td>\n",
              "      <td>11</td>\n",
              "      <td>7</td>\n",
              "      <td>Thursday</td>\n",
              "      <td>False</td>\n",
              "      <td>87</td>\n",
              "      <td>0</td>\n",
              "      <td>0</td>\n",
              "      <td>22.0</td>\n",
              "      <td>0.0</td>\n",
              "      <td>en</td>\n",
              "      <td>Now Open  AWS Asia Pacific (Seoul) Region via ...</td>\n",
              "      <td>now open aws asia pacific seoul region via rsy...</td>\n",
              "      <td>['open', 'aws', 'asia', 'pacific', 'seoul', 'r...</td>\n",
              "    </tr>\n",
              "    <tr>\n",
              "      <th>2</th>\n",
              "      <td>2</td>\n",
              "      <td>Male</td>\n",
              "      <td>Albania</td>\n",
              "      <td>6</td>\n",
              "      <td>12</td>\n",
              "      <td>Tuesday</td>\n",
              "      <td>False</td>\n",
              "      <td>87</td>\n",
              "      <td>0</td>\n",
              "      <td>0</td>\n",
              "      <td>22.0</td>\n",
              "      <td>0.0</td>\n",
              "      <td>en</td>\n",
              "      <td>A Beginner's Guide to Scaling to 11 Million+ U...</td>\n",
              "      <td>a beginners guide to scaling to million users ...</td>\n",
              "      <td>['beginner', 'guide', 'scaling', 'million', 'u...</td>\n",
              "    </tr>\n",
              "    <tr>\n",
              "      <th>3</th>\n",
              "      <td>3</td>\n",
              "      <td>Male</td>\n",
              "      <td>Albania</td>\n",
              "      <td>10</td>\n",
              "      <td>12</td>\n",
              "      <td>Tuesday</td>\n",
              "      <td>False</td>\n",
              "      <td>87</td>\n",
              "      <td>0</td>\n",
              "      <td>0</td>\n",
              "      <td>22.0</td>\n",
              "      <td>0.0</td>\n",
              "      <td>en</td>\n",
              "      <td>Bridging AWS and Azure environments via VPN vi...</td>\n",
              "      <td>bridging aws and azure environments via vpn vi...</td>\n",
              "      <td>['bridging', 'aws', 'azure', 'environment', 'v...</td>\n",
              "    </tr>\n",
              "    <tr>\n",
              "      <th>4</th>\n",
              "      <td>4</td>\n",
              "      <td>Male</td>\n",
              "      <td>Albania</td>\n",
              "      <td>9</td>\n",
              "      <td>21</td>\n",
              "      <td>Thursday</td>\n",
              "      <td>False</td>\n",
              "      <td>85</td>\n",
              "      <td>0</td>\n",
              "      <td>0</td>\n",
              "      <td>21.0</td>\n",
              "      <td>0.0</td>\n",
              "      <td>en</td>\n",
              "      <td>ELK on AWS ElasticSearch Service + ElasticBean...</td>\n",
              "      <td>elk on aws elasticsearch service elasticbeanst...</td>\n",
              "      <td>['elk', 'aws', 'elasticsearch', 'service', 'el...</td>\n",
              "    </tr>\n",
              "  </tbody>\n",
              "</table>\n",
              "</div>"
            ],
            "text/plain": [
              "   Unnamed: 0   Gender  Country  Hour  Day   Weekday  IsReshare  Reach  \\\n",
              "0           0  Unknown  Albania     7   12    Friday       True    339   \n",
              "1           1     Male  Albania    11    7  Thursday      False     87   \n",
              "2           2     Male  Albania     6   12   Tuesday      False     87   \n",
              "3           3     Male  Albania    10   12   Tuesday      False     87   \n",
              "4           4     Male  Albania     9   21  Thursday      False     85   \n",
              "\n",
              "   RetweetCount  Likes  Klout  Sentiment Lang  \\\n",
              "0           127      0   44.0        0.0   en   \n",
              "1             0      0   22.0        0.0   en   \n",
              "2             0      0   22.0        0.0   en   \n",
              "3             0      0   22.0        0.0   en   \n",
              "4             0      0   21.0        0.0   en   \n",
              "\n",
              "                                                text  \\\n",
              "0  \"RT @AdrianRusso82: Our Innovation Lab is offi...   \n",
              "1  Now Open  AWS Asia Pacific (Seoul) Region via ...   \n",
              "2  A Beginner's Guide to Scaling to 11 Million+ U...   \n",
              "3  Bridging AWS and Azure environments via VPN vi...   \n",
              "4  ELK on AWS ElasticSearch Service + ElasticBean...   \n",
              "\n",
              "                                          clean_text  \\\n",
              "0   adrianrusso our innovation lab is officially ...   \n",
              "1  now open aws asia pacific seoul region via rsy...   \n",
              "2  a beginners guide to scaling to million users ...   \n",
              "3  bridging aws and azure environments via vpn vi...   \n",
              "4  elk on aws elasticsearch service elasticbeanst...   \n",
              "\n",
              "                                clean_text_processed  \n",
              "0  ['adrianrusso', 'innovation', 'lab', 'official...  \n",
              "1  ['open', 'aws', 'asia', 'pacific', 'seoul', 'r...  \n",
              "2  ['beginner', 'guide', 'scaling', 'million', 'u...  \n",
              "3  ['bridging', 'aws', 'azure', 'environment', 'v...  \n",
              "4  ['elk', 'aws', 'elasticsearch', 'service', 'el...  "
            ]
          },
          "execution_count": 15,
          "metadata": {},
          "output_type": "execute_result"
        }
      ],
      "source": [
        "# Convert necessary columns to appropriate types\n",
        "df['Hour'] = df['Hour'].astype(int)\n",
        "df['Reach'] = df['Reach'].astype(int)\n",
        "df['RetweetCount'] = df['RetweetCount'].astype(int)\n",
        "df['Likes'] = df['Likes'].astype(int)\n",
        "df['Sentiment'] = df['Sentiment'].astype(float)\n",
        "\n",
        "# Display the first few rows of the DataFrame\n",
        "df.head()\n"
      ]
    },
    {
      "cell_type": "code",
      "execution_count": 16,
      "metadata": {
        "colab": {
          "base_uri": "https://localhost:8080/",
          "height": 617
        },
        "id": "Ia-pfEKKqD25",
        "outputId": "19bc2c52-441e-4e1a-a4bf-726b30705379"
      },
      "outputs": [
        {
          "data": {
            "application/vnd.plotly.v1+json": {
              "config": {
                "plotlyServerURL": "https://plot.ly"
              },
              "data": [
                {
                  "mode": "lines+markers",
                  "name": "Reach",
                  "type": "scatter",
                  "visible": true,
                  "x": [
                    0,
                    1,
                    2,
                    3,
                    4,
                    5,
                    6,
                    7,
                    8,
                    9,
                    10,
                    11,
                    12,
                    13,
                    14,
                    15,
                    16,
                    17,
                    18,
                    19,
                    20,
                    21,
                    22,
                    23
                  ],
                  "y": [
                    6732.850644427596,
                    10284.55697513812,
                    5702.008771929824,
                    2953.0934782608697,
                    2498.781079234973,
                    3001.009044317154,
                    4808.290378431858,
                    5263.614109647258,
                    7623.544451015178,
                    7948.345652939106,
                    11185.209604802401,
                    12425.791867219918,
                    11650.539925965099,
                    8985.868157286044,
                    11578.456862745097,
                    11376.829297578548,
                    14783.582109186582,
                    9116.326210826212,
                    9799.000289603244,
                    9632.865551425031,
                    7808.838584070796,
                    3080.1558675305973,
                    3701.508067689886,
                    3925.392901361948
                  ]
                },
                {
                  "mode": "lines+markers",
                  "name": "Retweet Count",
                  "type": "scatter",
                  "visible": false,
                  "x": [
                    0,
                    1,
                    2,
                    3,
                    4,
                    5,
                    6,
                    7,
                    8,
                    9,
                    10,
                    11,
                    12,
                    13,
                    14,
                    15,
                    16,
                    17,
                    18,
                    19,
                    20,
                    21,
                    22,
                    23
                  ],
                  "y": [
                    11.775587566338135,
                    10.481698895027625,
                    10.645411605937921,
                    9.892028985507247,
                    8.815573770491802,
                    6.392221887247513,
                    8.259213455354935,
                    10.178070548236294,
                    6.697811945594323,
                    7.537662794790567,
                    8.205102551275639,
                    6.166804979253112,
                    6.123920324343381,
                    7.382806476484194,
                    7.281764705882353,
                    7.106864118471083,
                    6.975663231747424,
                    6.587844254510921,
                    6.3495511149724875,
                    15.427819083023545,
                    9.558230088495575,
                    10.378689704823614,
                    12.629673356946084,
                    12.619067271976888
                  ]
                },
                {
                  "mode": "lines+markers",
                  "name": "Likes",
                  "type": "scatter",
                  "visible": false,
                  "x": [
                    0,
                    1,
                    2,
                    3,
                    4,
                    5,
                    6,
                    7,
                    8,
                    9,
                    10,
                    11,
                    12,
                    13,
                    14,
                    15,
                    16,
                    17,
                    18,
                    19,
                    20,
                    21,
                    22,
                    23
                  ],
                  "y": [
                    0.02880970432145565,
                    0.05006906077348066,
                    0.0016869095816464238,
                    0.02246376811594203,
                    0,
                    0.0021103406692794696,
                    0.013356418501113035,
                    0.0416489587760306,
                    0.03252513305736251,
                    0.16455473424850406,
                    0.2066033016508254,
                    0.23800829875518673,
                    0.37176097303014277,
                    0.19834232845026986,
                    0.23862745098039215,
                    0.28757254352611566,
                    0.526200394650296,
                    0.21035137701804368,
                    0.1520417028670721,
                    0.2868649318463445,
                    0.10053097345132743,
                    0.01655867530597552,
                    0.02085792994883904,
                    0.01609574907139909
                  ]
                }
              ],
              "layout": {
                "height": 600,
                "showlegend": false,
                "template": {
                  "data": {
                    "bar": [
                      {
                        "error_x": {
                          "color": "#2a3f5f"
                        },
                        "error_y": {
                          "color": "#2a3f5f"
                        },
                        "marker": {
                          "line": {
                            "color": "#E5ECF6",
                            "width": 0.5
                          },
                          "pattern": {
                            "fillmode": "overlay",
                            "size": 10,
                            "solidity": 0.2
                          }
                        },
                        "type": "bar"
                      }
                    ],
                    "barpolar": [
                      {
                        "marker": {
                          "line": {
                            "color": "#E5ECF6",
                            "width": 0.5
                          },
                          "pattern": {
                            "fillmode": "overlay",
                            "size": 10,
                            "solidity": 0.2
                          }
                        },
                        "type": "barpolar"
                      }
                    ],
                    "carpet": [
                      {
                        "aaxis": {
                          "endlinecolor": "#2a3f5f",
                          "gridcolor": "white",
                          "linecolor": "white",
                          "minorgridcolor": "white",
                          "startlinecolor": "#2a3f5f"
                        },
                        "baxis": {
                          "endlinecolor": "#2a3f5f",
                          "gridcolor": "white",
                          "linecolor": "white",
                          "minorgridcolor": "white",
                          "startlinecolor": "#2a3f5f"
                        },
                        "type": "carpet"
                      }
                    ],
                    "choropleth": [
                      {
                        "colorbar": {
                          "outlinewidth": 0,
                          "ticks": ""
                        },
                        "type": "choropleth"
                      }
                    ],
                    "contour": [
                      {
                        "colorbar": {
                          "outlinewidth": 0,
                          "ticks": ""
                        },
                        "colorscale": [
                          [
                            0,
                            "#0d0887"
                          ],
                          [
                            0.1111111111111111,
                            "#46039f"
                          ],
                          [
                            0.2222222222222222,
                            "#7201a8"
                          ],
                          [
                            0.3333333333333333,
                            "#9c179e"
                          ],
                          [
                            0.4444444444444444,
                            "#bd3786"
                          ],
                          [
                            0.5555555555555556,
                            "#d8576b"
                          ],
                          [
                            0.6666666666666666,
                            "#ed7953"
                          ],
                          [
                            0.7777777777777778,
                            "#fb9f3a"
                          ],
                          [
                            0.8888888888888888,
                            "#fdca26"
                          ],
                          [
                            1,
                            "#f0f921"
                          ]
                        ],
                        "type": "contour"
                      }
                    ],
                    "contourcarpet": [
                      {
                        "colorbar": {
                          "outlinewidth": 0,
                          "ticks": ""
                        },
                        "type": "contourcarpet"
                      }
                    ],
                    "heatmap": [
                      {
                        "colorbar": {
                          "outlinewidth": 0,
                          "ticks": ""
                        },
                        "colorscale": [
                          [
                            0,
                            "#0d0887"
                          ],
                          [
                            0.1111111111111111,
                            "#46039f"
                          ],
                          [
                            0.2222222222222222,
                            "#7201a8"
                          ],
                          [
                            0.3333333333333333,
                            "#9c179e"
                          ],
                          [
                            0.4444444444444444,
                            "#bd3786"
                          ],
                          [
                            0.5555555555555556,
                            "#d8576b"
                          ],
                          [
                            0.6666666666666666,
                            "#ed7953"
                          ],
                          [
                            0.7777777777777778,
                            "#fb9f3a"
                          ],
                          [
                            0.8888888888888888,
                            "#fdca26"
                          ],
                          [
                            1,
                            "#f0f921"
                          ]
                        ],
                        "type": "heatmap"
                      }
                    ],
                    "heatmapgl": [
                      {
                        "colorbar": {
                          "outlinewidth": 0,
                          "ticks": ""
                        },
                        "colorscale": [
                          [
                            0,
                            "#0d0887"
                          ],
                          [
                            0.1111111111111111,
                            "#46039f"
                          ],
                          [
                            0.2222222222222222,
                            "#7201a8"
                          ],
                          [
                            0.3333333333333333,
                            "#9c179e"
                          ],
                          [
                            0.4444444444444444,
                            "#bd3786"
                          ],
                          [
                            0.5555555555555556,
                            "#d8576b"
                          ],
                          [
                            0.6666666666666666,
                            "#ed7953"
                          ],
                          [
                            0.7777777777777778,
                            "#fb9f3a"
                          ],
                          [
                            0.8888888888888888,
                            "#fdca26"
                          ],
                          [
                            1,
                            "#f0f921"
                          ]
                        ],
                        "type": "heatmapgl"
                      }
                    ],
                    "histogram": [
                      {
                        "marker": {
                          "pattern": {
                            "fillmode": "overlay",
                            "size": 10,
                            "solidity": 0.2
                          }
                        },
                        "type": "histogram"
                      }
                    ],
                    "histogram2d": [
                      {
                        "colorbar": {
                          "outlinewidth": 0,
                          "ticks": ""
                        },
                        "colorscale": [
                          [
                            0,
                            "#0d0887"
                          ],
                          [
                            0.1111111111111111,
                            "#46039f"
                          ],
                          [
                            0.2222222222222222,
                            "#7201a8"
                          ],
                          [
                            0.3333333333333333,
                            "#9c179e"
                          ],
                          [
                            0.4444444444444444,
                            "#bd3786"
                          ],
                          [
                            0.5555555555555556,
                            "#d8576b"
                          ],
                          [
                            0.6666666666666666,
                            "#ed7953"
                          ],
                          [
                            0.7777777777777778,
                            "#fb9f3a"
                          ],
                          [
                            0.8888888888888888,
                            "#fdca26"
                          ],
                          [
                            1,
                            "#f0f921"
                          ]
                        ],
                        "type": "histogram2d"
                      }
                    ],
                    "histogram2dcontour": [
                      {
                        "colorbar": {
                          "outlinewidth": 0,
                          "ticks": ""
                        },
                        "colorscale": [
                          [
                            0,
                            "#0d0887"
                          ],
                          [
                            0.1111111111111111,
                            "#46039f"
                          ],
                          [
                            0.2222222222222222,
                            "#7201a8"
                          ],
                          [
                            0.3333333333333333,
                            "#9c179e"
                          ],
                          [
                            0.4444444444444444,
                            "#bd3786"
                          ],
                          [
                            0.5555555555555556,
                            "#d8576b"
                          ],
                          [
                            0.6666666666666666,
                            "#ed7953"
                          ],
                          [
                            0.7777777777777778,
                            "#fb9f3a"
                          ],
                          [
                            0.8888888888888888,
                            "#fdca26"
                          ],
                          [
                            1,
                            "#f0f921"
                          ]
                        ],
                        "type": "histogram2dcontour"
                      }
                    ],
                    "mesh3d": [
                      {
                        "colorbar": {
                          "outlinewidth": 0,
                          "ticks": ""
                        },
                        "type": "mesh3d"
                      }
                    ],
                    "parcoords": [
                      {
                        "line": {
                          "colorbar": {
                            "outlinewidth": 0,
                            "ticks": ""
                          }
                        },
                        "type": "parcoords"
                      }
                    ],
                    "pie": [
                      {
                        "automargin": true,
                        "type": "pie"
                      }
                    ],
                    "scatter": [
                      {
                        "fillpattern": {
                          "fillmode": "overlay",
                          "size": 10,
                          "solidity": 0.2
                        },
                        "type": "scatter"
                      }
                    ],
                    "scatter3d": [
                      {
                        "line": {
                          "colorbar": {
                            "outlinewidth": 0,
                            "ticks": ""
                          }
                        },
                        "marker": {
                          "colorbar": {
                            "outlinewidth": 0,
                            "ticks": ""
                          }
                        },
                        "type": "scatter3d"
                      }
                    ],
                    "scattercarpet": [
                      {
                        "marker": {
                          "colorbar": {
                            "outlinewidth": 0,
                            "ticks": ""
                          }
                        },
                        "type": "scattercarpet"
                      }
                    ],
                    "scattergeo": [
                      {
                        "marker": {
                          "colorbar": {
                            "outlinewidth": 0,
                            "ticks": ""
                          }
                        },
                        "type": "scattergeo"
                      }
                    ],
                    "scattergl": [
                      {
                        "marker": {
                          "colorbar": {
                            "outlinewidth": 0,
                            "ticks": ""
                          }
                        },
                        "type": "scattergl"
                      }
                    ],
                    "scattermapbox": [
                      {
                        "marker": {
                          "colorbar": {
                            "outlinewidth": 0,
                            "ticks": ""
                          }
                        },
                        "type": "scattermapbox"
                      }
                    ],
                    "scatterpolar": [
                      {
                        "marker": {
                          "colorbar": {
                            "outlinewidth": 0,
                            "ticks": ""
                          }
                        },
                        "type": "scatterpolar"
                      }
                    ],
                    "scatterpolargl": [
                      {
                        "marker": {
                          "colorbar": {
                            "outlinewidth": 0,
                            "ticks": ""
                          }
                        },
                        "type": "scatterpolargl"
                      }
                    ],
                    "scatterternary": [
                      {
                        "marker": {
                          "colorbar": {
                            "outlinewidth": 0,
                            "ticks": ""
                          }
                        },
                        "type": "scatterternary"
                      }
                    ],
                    "surface": [
                      {
                        "colorbar": {
                          "outlinewidth": 0,
                          "ticks": ""
                        },
                        "colorscale": [
                          [
                            0,
                            "#0d0887"
                          ],
                          [
                            0.1111111111111111,
                            "#46039f"
                          ],
                          [
                            0.2222222222222222,
                            "#7201a8"
                          ],
                          [
                            0.3333333333333333,
                            "#9c179e"
                          ],
                          [
                            0.4444444444444444,
                            "#bd3786"
                          ],
                          [
                            0.5555555555555556,
                            "#d8576b"
                          ],
                          [
                            0.6666666666666666,
                            "#ed7953"
                          ],
                          [
                            0.7777777777777778,
                            "#fb9f3a"
                          ],
                          [
                            0.8888888888888888,
                            "#fdca26"
                          ],
                          [
                            1,
                            "#f0f921"
                          ]
                        ],
                        "type": "surface"
                      }
                    ],
                    "table": [
                      {
                        "cells": {
                          "fill": {
                            "color": "#EBF0F8"
                          },
                          "line": {
                            "color": "white"
                          }
                        },
                        "header": {
                          "fill": {
                            "color": "#C8D4E3"
                          },
                          "line": {
                            "color": "white"
                          }
                        },
                        "type": "table"
                      }
                    ]
                  },
                  "layout": {
                    "annotationdefaults": {
                      "arrowcolor": "#2a3f5f",
                      "arrowhead": 0,
                      "arrowwidth": 1
                    },
                    "autotypenumbers": "strict",
                    "coloraxis": {
                      "colorbar": {
                        "outlinewidth": 0,
                        "ticks": ""
                      }
                    },
                    "colorscale": {
                      "diverging": [
                        [
                          0,
                          "#8e0152"
                        ],
                        [
                          0.1,
                          "#c51b7d"
                        ],
                        [
                          0.2,
                          "#de77ae"
                        ],
                        [
                          0.3,
                          "#f1b6da"
                        ],
                        [
                          0.4,
                          "#fde0ef"
                        ],
                        [
                          0.5,
                          "#f7f7f7"
                        ],
                        [
                          0.6,
                          "#e6f5d0"
                        ],
                        [
                          0.7,
                          "#b8e186"
                        ],
                        [
                          0.8,
                          "#7fbc41"
                        ],
                        [
                          0.9,
                          "#4d9221"
                        ],
                        [
                          1,
                          "#276419"
                        ]
                      ],
                      "sequential": [
                        [
                          0,
                          "#0d0887"
                        ],
                        [
                          0.1111111111111111,
                          "#46039f"
                        ],
                        [
                          0.2222222222222222,
                          "#7201a8"
                        ],
                        [
                          0.3333333333333333,
                          "#9c179e"
                        ],
                        [
                          0.4444444444444444,
                          "#bd3786"
                        ],
                        [
                          0.5555555555555556,
                          "#d8576b"
                        ],
                        [
                          0.6666666666666666,
                          "#ed7953"
                        ],
                        [
                          0.7777777777777778,
                          "#fb9f3a"
                        ],
                        [
                          0.8888888888888888,
                          "#fdca26"
                        ],
                        [
                          1,
                          "#f0f921"
                        ]
                      ],
                      "sequentialminus": [
                        [
                          0,
                          "#0d0887"
                        ],
                        [
                          0.1111111111111111,
                          "#46039f"
                        ],
                        [
                          0.2222222222222222,
                          "#7201a8"
                        ],
                        [
                          0.3333333333333333,
                          "#9c179e"
                        ],
                        [
                          0.4444444444444444,
                          "#bd3786"
                        ],
                        [
                          0.5555555555555556,
                          "#d8576b"
                        ],
                        [
                          0.6666666666666666,
                          "#ed7953"
                        ],
                        [
                          0.7777777777777778,
                          "#fb9f3a"
                        ],
                        [
                          0.8888888888888888,
                          "#fdca26"
                        ],
                        [
                          1,
                          "#f0f921"
                        ]
                      ]
                    },
                    "colorway": [
                      "#636efa",
                      "#EF553B",
                      "#00cc96",
                      "#ab63fa",
                      "#FFA15A",
                      "#19d3f3",
                      "#FF6692",
                      "#B6E880",
                      "#FF97FF",
                      "#FECB52"
                    ],
                    "font": {
                      "color": "#2a3f5f"
                    },
                    "geo": {
                      "bgcolor": "white",
                      "lakecolor": "white",
                      "landcolor": "#E5ECF6",
                      "showlakes": true,
                      "showland": true,
                      "subunitcolor": "white"
                    },
                    "hoverlabel": {
                      "align": "left"
                    },
                    "hovermode": "closest",
                    "mapbox": {
                      "style": "light"
                    },
                    "paper_bgcolor": "white",
                    "plot_bgcolor": "#E5ECF6",
                    "polar": {
                      "angularaxis": {
                        "gridcolor": "white",
                        "linecolor": "white",
                        "ticks": ""
                      },
                      "bgcolor": "#E5ECF6",
                      "radialaxis": {
                        "gridcolor": "white",
                        "linecolor": "white",
                        "ticks": ""
                      }
                    },
                    "scene": {
                      "xaxis": {
                        "backgroundcolor": "#E5ECF6",
                        "gridcolor": "white",
                        "gridwidth": 2,
                        "linecolor": "white",
                        "showbackground": true,
                        "ticks": "",
                        "zerolinecolor": "white"
                      },
                      "yaxis": {
                        "backgroundcolor": "#E5ECF6",
                        "gridcolor": "white",
                        "gridwidth": 2,
                        "linecolor": "white",
                        "showbackground": true,
                        "ticks": "",
                        "zerolinecolor": "white"
                      },
                      "zaxis": {
                        "backgroundcolor": "#E5ECF6",
                        "gridcolor": "white",
                        "gridwidth": 2,
                        "linecolor": "white",
                        "showbackground": true,
                        "ticks": "",
                        "zerolinecolor": "white"
                      }
                    },
                    "shapedefaults": {
                      "line": {
                        "color": "#2a3f5f"
                      }
                    },
                    "ternary": {
                      "aaxis": {
                        "gridcolor": "white",
                        "linecolor": "white",
                        "ticks": ""
                      },
                      "baxis": {
                        "gridcolor": "white",
                        "linecolor": "white",
                        "ticks": ""
                      },
                      "bgcolor": "#E5ECF6",
                      "caxis": {
                        "gridcolor": "white",
                        "linecolor": "white",
                        "ticks": ""
                      }
                    },
                    "title": {
                      "x": 0.05
                    },
                    "xaxis": {
                      "automargin": true,
                      "gridcolor": "white",
                      "linecolor": "white",
                      "ticks": "",
                      "title": {
                        "standoff": 15
                      },
                      "zerolinecolor": "white",
                      "zerolinewidth": 2
                    },
                    "yaxis": {
                      "automargin": true,
                      "gridcolor": "white",
                      "linecolor": "white",
                      "ticks": "",
                      "title": {
                        "standoff": 15
                      },
                      "zerolinecolor": "white",
                      "zerolinewidth": 2
                    }
                  }
                },
                "title": {
                  "text": "Tweet Metrics Over Time (Aggregated)"
                },
                "updatemenus": [
                  {
                    "buttons": [
                      {
                        "args": [
                          {
                            "visible": [
                              true,
                              false,
                              false
                            ]
                          },
                          {
                            "title": "Reach Over Time"
                          }
                        ],
                        "label": "Reach",
                        "method": "update"
                      },
                      {
                        "args": [
                          {
                            "visible": [
                              false,
                              true,
                              false
                            ]
                          },
                          {
                            "title": "Retweet Count Over Time"
                          }
                        ],
                        "label": "Retweet Count",
                        "method": "update"
                      },
                      {
                        "args": [
                          {
                            "visible": [
                              false,
                              false,
                              true
                            ]
                          },
                          {
                            "title": "Likes Over Time"
                          }
                        ],
                        "label": "Likes",
                        "method": "update"
                      }
                    ],
                    "direction": "down",
                    "showactive": true
                  }
                ],
                "width": 800,
                "xaxis": {
                  "title": {
                    "text": "Hour of Day"
                  }
                }
              }
            }
          },
          "metadata": {},
          "output_type": "display_data"
        }
      ],
      "source": [
        "import plotly.graph_objects as go\n",
        "\n",
        "# Aggregate data by hour\n",
        "aggregated_df = df.groupby('Hour').agg({\n",
        "    'Reach': 'mean',\n",
        "    'RetweetCount': 'mean',\n",
        "    'Likes': 'mean'\n",
        "}).reset_index()\n",
        "\n",
        "#The data by the Hour column and calculates the mean for Reach, RetweetCount, and Likes for each hour. The result is a DataFrame where each row represents an hour of the day, and the columns contain the average values of the metrics for that hour.\n",
        "\n",
        "# Create figure with initial metric (Reach)\n",
        "fig = go.Figure()\n",
        "\n",
        "# Add traces for each metric but only make the first one visible\n",
        "fig.add_trace(go.Scatter(x=aggregated_df['Hour'], y=aggregated_df['Reach'], mode='lines+markers', name='Reach', visible=True))\n",
        "fig.add_trace(go.Scatter(x=aggregated_df['Hour'], y=aggregated_df['RetweetCount'], mode='lines+markers', name='Retweet Count', visible=False))\n",
        "fig.add_trace(go.Scatter(x=aggregated_df['Hour'], y=aggregated_df['Likes'], mode='lines+markers', name='Likes', visible=False))\n",
        "\n",
        "# Create update menus for dropdown selection\n",
        "fig.update_layout(\n",
        "    updatemenus=[\n",
        "        dict(\n",
        "            buttons=list([\n",
        "                dict(label='Reach', method='update', args=[{'visible': [True, False, False]}, {'title': 'Reach Over Time'}]),\n",
        "                dict(label='Retweet Count', method='update', args=[{'visible': [False, True, False]}, {'title': 'Retweet Count Over Time'}]),\n",
        "                dict(label='Likes', method='update', args=[{'visible': [False, False, True]}, {'title': 'Likes Over Time'}]),\n",
        "            ]),\n",
        "            direction='down',\n",
        "            showactive=True\n",
        "        )\n",
        "    ]\n",
        ")\n",
        "\n",
        "# Update layout\n",
        "fig.update_layout(height=600, width=800, title='Tweet Metrics Over Time (Aggregated)',\n",
        "                  xaxis_title='Hour of Day', showlegend=False)\n",
        "\n",
        "fig.show()\n"
      ]
    },
    {
      "cell_type": "markdown",
      "metadata": {
        "id": "bJgQ5ASez_ll"
      },
      "source": [
        "This interactive line plot with dropdown selection provides a comprehensive view of tweet metrics (Reach, Retweet Count, Likes) aggregated by hour. It facilitates dynamic exploration of hourly trends and enables data-driven insights into optimal posting times, engagement patterns, and content performance over time. Adjustments based on insights gained from this plot can potentially enhance social media strategies and improve overall engagement metrics.\n",
        "\n",
        "\n",
        "\n",
        "\n",
        "\n",
        "\n"
      ]
    },
    {
      "cell_type": "markdown",
      "metadata": {
        "id": "-o4_K9zg0Drq"
      },
      "source": [
        "## **Insights:**\n",
        "**Hourly Trends:**\n",
        "\n",
        "Analyze how metrics (Reach, Retweet Count, Likes) vary over different hours of the day.\n",
        "Identify peak hours where tweets tend to achieve higher reach, more retweets, or likes, which can guide optimal posting times.\n",
        "\n",
        "**Comparative Analysis:**\n",
        "\n",
        "Compare the average performance of tweets in terms of Reach, Retweet Count, and Likes over different hours.\n",
        "Determine which metrics show consistent trends throughout the day and which vary significantly.\n",
        "\n",
        "**Engagement Patterns:**\n",
        "\n",
        "Understand user engagement patterns based on when tweets receive the most interactions (Retweet Count, Likes) relative to their reach (Reach).\n",
        "Adjust content strategies to align with peak engagement hours identified from the plot.\n",
        "\n",
        "**Performance Evaluation:**\n",
        "\n",
        "Evaluate the effectiveness of tweets over time and identify opportunities for improving engagement based on hourly trends.\n",
        "Optimize content or timing strategies to maximize overall impact and audience interaction."
      ]
    },
    {
      "cell_type": "code",
      "execution_count": 17,
      "metadata": {
        "colab": {
          "base_uri": "https://localhost:8080/",
          "height": 542
        },
        "id": "isGAPe38ruL_",
        "outputId": "0faf7691-9c82-45f1-ac41-9a8520616273"
      },
      "outputs": [
        {
          "data": {
            "application/vnd.plotly.v1+json": {
              "config": {
                "plotlyServerURL": "https://plot.ly"
              },
              "data": [
                {
                  "coloraxis": "coloraxis",
                  "geo": "geo",
                  "hovertemplate": "Country=%{location}<br>Average Reach=%{z}<extra></extra>",
                  "locationmode": "country names",
                  "locations": [
                    "Albania",
                    "Algeria",
                    "Angola",
                    "Anguilla",
                    "Argentina",
                    "Armenia",
                    "Australia",
                    "Austria",
                    "Bahamas",
                    "Bangladesh",
                    "Belarus",
                    "Belgium",
                    "Benin",
                    "Bolivia",
                    "Bolivia (Plurinational State of)",
                    "Bosnia and Herzegovina",
                    "Botswana",
                    "Brazil",
                    "Bulgaria",
                    "Burkina Faso",
                    "Burundi",
                    "Cambodia",
                    "Cameroon",
                    "Canada",
                    "Chad",
                    "Chile",
                    "China",
                    "Colombia",
                    "Costa Rica",
                    "Croatia",
                    "Cte d'Ivoire",
                    "Cuba",
                    "Cyprus",
                    "Czech Republic",
                    "Democratic Republic of the Congo",
                    "Denmark",
                    "Dominican Republic",
                    "Ecuador",
                    "Egypt",
                    "El Salvador",
                    "Estonia",
                    "Finland",
                    "France",
                    "Georgia",
                    "Germany",
                    "Ghana",
                    "Greece",
                    "Greenland",
                    "Guatemala",
                    "Guinea",
                    "Guyana",
                    "Haiti",
                    "Honduras",
                    "Hong Kong",
                    "Hungary",
                    "Iceland",
                    "India",
                    "Indonesia",
                    "Iraq",
                    "Ireland",
                    "Israel",
                    "Italy",
                    "Ivory Coast",
                    "Jamaica",
                    "Japan",
                    "Jordan",
                    "Kenya",
                    "Korea (Republic of)",
                    "Kyrgyzstan",
                    "Latvia",
                    "Lebanon",
                    "Lithuania",
                    "Luxembourg",
                    "Macao",
                    "Macedonia",
                    "Malawi",
                    "Malaysia",
                    "Maldives",
                    "Mauritius",
                    "Mexico",
                    "Moldova",
                    "Mongolia",
                    "Montenegro",
                    "Morocco",
                    "Namibia",
                    "Nepal",
                    "Netherlands",
                    "New Zealand",
                    "Nicaragua",
                    "Nigeria",
                    "Norway",
                    "Oman",
                    "Pakistan",
                    "Palestinian Territory",
                    "Panama",
                    "Papua New Guinea",
                    "Paraguay",
                    "Peru",
                    "Philippines",
                    "Poland",
                    "Portugal",
                    "Puerto Rico",
                    "Qatar",
                    "Republic of the Congo",
                    "Romania",
                    "Russia",
                    "Russian Federation",
                    "Rwanda",
                    "Saint Vincent and the Grenadines",
                    "Saudi Arabia",
                    "Senegal",
                    "Serbia",
                    "Singapore",
                    "Slovakia",
                    "Slovenia",
                    "Solomon Islands",
                    "South Africa",
                    "South Korea",
                    "South Sudan",
                    "Spain",
                    "Sri Lanka",
                    "Sudan",
                    "Sweden",
                    "Switzerland",
                    "Syria",
                    "Taiwan",
                    "Tajikistan",
                    "Tanzania",
                    "Thailand",
                    "Tunisia",
                    "Turkey",
                    "Uganda",
                    "Ukraine",
                    "United Arab Emirates",
                    "United Kingdom",
                    "United States",
                    "Uruguay",
                    "Venezuela",
                    "Venezuela (Bolivarian Republic of)",
                    "Viet Nam",
                    "Vietnam",
                    "Zambia",
                    "Zimbabwe"
                  ],
                  "name": "",
                  "type": "choropleth",
                  "z": [
                    122.42857142857143,
                    180.66666666666666,
                    67.4,
                    253,
                    952.2323232323232,
                    98.5,
                    1659.918918918919,
                    891.7705882352941,
                    141.5,
                    1501.0582010582011,
                    499.3333333333333,
                    2246.3074074074075,
                    157,
                    1532.875,
                    226,
                    143.75,
                    3714,
                    487.5121338912134,
                    736.5294117647059,
                    554,
                    599,
                    227.88888888888889,
                    1413.2727272727273,
                    5500.527375201288,
                    167,
                    3069.3469387755104,
                    398.00602409638554,
                    1131.6752136752136,
                    474.42857142857144,
                    582.7058823529412,
                    298,
                    477.09090909090907,
                    1537.1666666666667,
                    859.520325203252,
                    6,
                    480.2207792207792,
                    352.55555555555554,
                    502.1666666666667,
                    1583.6875,
                    2557.5,
                    818.24,
                    736.4613686534217,
                    1037.1830832196454,
                    405.14285714285717,
                    1787.8998865570052,
                    761.9310344827586,
                    994.4545454545455,
                    39,
                    1526.25,
                    897.9090909090909,
                    14,
                    1345,
                    540,
                    1195.4285714285713,
                    505.3652173913043,
                    801.2,
                    1400.5282548069868,
                    812.3896296296297,
                    2923,
                    895.8626262626262,
                    2473.7596153846152,
                    898.3888070692194,
                    279.2,
                    881.6666666666666,
                    1438.372764786795,
                    3403.0714285714284,
                    3183.9745222929937,
                    931.5714285714286,
                    534.6666666666666,
                    619.4918032786885,
                    141.46666666666667,
                    645.75,
                    1529.7368421052631,
                    39,
                    419.2,
                    1249,
                    1314.408695652174,
                    4810.666666666667,
                    1580.2,
                    2043.4325842696628,
                    12,
                    11975.142857142857,
                    208,
                    607.3636363636364,
                    397,
                    2024.8275862068965,
                    1819.6156462585034,
                    1720.4934036939314,
                    75.60714285714286,
                    1620.8778280542986,
                    799.7540983606557,
                    599.1428571428571,
                    2145.6194331983806,
                    1072,
                    745.5,
                    131,
                    178.4,
                    777.4818181818182,
                    1223.5964912280701,
                    994.1068702290077,
                    1689.108695652174,
                    380.5,
                    974.5,
                    18730,
                    545.2820512820513,
                    2305.573529411765,
                    189,
                    386,
                    759.7272727272727,
                    8087.684931506849,
                    192,
                    1071.4050632911392,
                    2264.9032258064517,
                    301.6666666666667,
                    880.25,
                    1688,
                    860.7982456140351,
                    4375.422480620155,
                    153,
                    1337.0788485607009,
                    1066.28125,
                    539.25,
                    2550.5676691729323,
                    818.4895104895105,
                    347,
                    1533.04012345679,
                    61.5,
                    505.1666666666667,
                    1899.1648351648353,
                    214.88888888888889,
                    1152.6851851851852,
                    624.3207547169811,
                    640.4583333333334,
                    2038.7153846153847,
                    2616.463226452906,
                    14340.357376210344,
                    372.57142857142856,
                    871.2786885245902,
                    782.3333333333334,
                    63.651428571428575,
                    448.88,
                    442.55555555555554,
                    1132.4285714285713
                  ]
                }
              ],
              "layout": {
                "coloraxis": {
                  "colorbar": {
                    "title": {
                      "text": "Average Reach"
                    }
                  },
                  "colorscale": [
                    [
                      0,
                      "#0d0887"
                    ],
                    [
                      0.1111111111111111,
                      "#46039f"
                    ],
                    [
                      0.2222222222222222,
                      "#7201a8"
                    ],
                    [
                      0.3333333333333333,
                      "#9c179e"
                    ],
                    [
                      0.4444444444444444,
                      "#bd3786"
                    ],
                    [
                      0.5555555555555556,
                      "#d8576b"
                    ],
                    [
                      0.6666666666666666,
                      "#ed7953"
                    ],
                    [
                      0.7777777777777778,
                      "#fb9f3a"
                    ],
                    [
                      0.8888888888888888,
                      "#fdca26"
                    ],
                    [
                      1,
                      "#f0f921"
                    ]
                  ]
                },
                "geo": {
                  "center": {},
                  "domain": {
                    "x": [
                      0,
                      1
                    ],
                    "y": [
                      0,
                      1
                    ]
                  }
                },
                "legend": {
                  "tracegroupgap": 0
                },
                "template": {
                  "data": {
                    "bar": [
                      {
                        "error_x": {
                          "color": "#2a3f5f"
                        },
                        "error_y": {
                          "color": "#2a3f5f"
                        },
                        "marker": {
                          "line": {
                            "color": "#E5ECF6",
                            "width": 0.5
                          },
                          "pattern": {
                            "fillmode": "overlay",
                            "size": 10,
                            "solidity": 0.2
                          }
                        },
                        "type": "bar"
                      }
                    ],
                    "barpolar": [
                      {
                        "marker": {
                          "line": {
                            "color": "#E5ECF6",
                            "width": 0.5
                          },
                          "pattern": {
                            "fillmode": "overlay",
                            "size": 10,
                            "solidity": 0.2
                          }
                        },
                        "type": "barpolar"
                      }
                    ],
                    "carpet": [
                      {
                        "aaxis": {
                          "endlinecolor": "#2a3f5f",
                          "gridcolor": "white",
                          "linecolor": "white",
                          "minorgridcolor": "white",
                          "startlinecolor": "#2a3f5f"
                        },
                        "baxis": {
                          "endlinecolor": "#2a3f5f",
                          "gridcolor": "white",
                          "linecolor": "white",
                          "minorgridcolor": "white",
                          "startlinecolor": "#2a3f5f"
                        },
                        "type": "carpet"
                      }
                    ],
                    "choropleth": [
                      {
                        "colorbar": {
                          "outlinewidth": 0,
                          "ticks": ""
                        },
                        "type": "choropleth"
                      }
                    ],
                    "contour": [
                      {
                        "colorbar": {
                          "outlinewidth": 0,
                          "ticks": ""
                        },
                        "colorscale": [
                          [
                            0,
                            "#0d0887"
                          ],
                          [
                            0.1111111111111111,
                            "#46039f"
                          ],
                          [
                            0.2222222222222222,
                            "#7201a8"
                          ],
                          [
                            0.3333333333333333,
                            "#9c179e"
                          ],
                          [
                            0.4444444444444444,
                            "#bd3786"
                          ],
                          [
                            0.5555555555555556,
                            "#d8576b"
                          ],
                          [
                            0.6666666666666666,
                            "#ed7953"
                          ],
                          [
                            0.7777777777777778,
                            "#fb9f3a"
                          ],
                          [
                            0.8888888888888888,
                            "#fdca26"
                          ],
                          [
                            1,
                            "#f0f921"
                          ]
                        ],
                        "type": "contour"
                      }
                    ],
                    "contourcarpet": [
                      {
                        "colorbar": {
                          "outlinewidth": 0,
                          "ticks": ""
                        },
                        "type": "contourcarpet"
                      }
                    ],
                    "heatmap": [
                      {
                        "colorbar": {
                          "outlinewidth": 0,
                          "ticks": ""
                        },
                        "colorscale": [
                          [
                            0,
                            "#0d0887"
                          ],
                          [
                            0.1111111111111111,
                            "#46039f"
                          ],
                          [
                            0.2222222222222222,
                            "#7201a8"
                          ],
                          [
                            0.3333333333333333,
                            "#9c179e"
                          ],
                          [
                            0.4444444444444444,
                            "#bd3786"
                          ],
                          [
                            0.5555555555555556,
                            "#d8576b"
                          ],
                          [
                            0.6666666666666666,
                            "#ed7953"
                          ],
                          [
                            0.7777777777777778,
                            "#fb9f3a"
                          ],
                          [
                            0.8888888888888888,
                            "#fdca26"
                          ],
                          [
                            1,
                            "#f0f921"
                          ]
                        ],
                        "type": "heatmap"
                      }
                    ],
                    "heatmapgl": [
                      {
                        "colorbar": {
                          "outlinewidth": 0,
                          "ticks": ""
                        },
                        "colorscale": [
                          [
                            0,
                            "#0d0887"
                          ],
                          [
                            0.1111111111111111,
                            "#46039f"
                          ],
                          [
                            0.2222222222222222,
                            "#7201a8"
                          ],
                          [
                            0.3333333333333333,
                            "#9c179e"
                          ],
                          [
                            0.4444444444444444,
                            "#bd3786"
                          ],
                          [
                            0.5555555555555556,
                            "#d8576b"
                          ],
                          [
                            0.6666666666666666,
                            "#ed7953"
                          ],
                          [
                            0.7777777777777778,
                            "#fb9f3a"
                          ],
                          [
                            0.8888888888888888,
                            "#fdca26"
                          ],
                          [
                            1,
                            "#f0f921"
                          ]
                        ],
                        "type": "heatmapgl"
                      }
                    ],
                    "histogram": [
                      {
                        "marker": {
                          "pattern": {
                            "fillmode": "overlay",
                            "size": 10,
                            "solidity": 0.2
                          }
                        },
                        "type": "histogram"
                      }
                    ],
                    "histogram2d": [
                      {
                        "colorbar": {
                          "outlinewidth": 0,
                          "ticks": ""
                        },
                        "colorscale": [
                          [
                            0,
                            "#0d0887"
                          ],
                          [
                            0.1111111111111111,
                            "#46039f"
                          ],
                          [
                            0.2222222222222222,
                            "#7201a8"
                          ],
                          [
                            0.3333333333333333,
                            "#9c179e"
                          ],
                          [
                            0.4444444444444444,
                            "#bd3786"
                          ],
                          [
                            0.5555555555555556,
                            "#d8576b"
                          ],
                          [
                            0.6666666666666666,
                            "#ed7953"
                          ],
                          [
                            0.7777777777777778,
                            "#fb9f3a"
                          ],
                          [
                            0.8888888888888888,
                            "#fdca26"
                          ],
                          [
                            1,
                            "#f0f921"
                          ]
                        ],
                        "type": "histogram2d"
                      }
                    ],
                    "histogram2dcontour": [
                      {
                        "colorbar": {
                          "outlinewidth": 0,
                          "ticks": ""
                        },
                        "colorscale": [
                          [
                            0,
                            "#0d0887"
                          ],
                          [
                            0.1111111111111111,
                            "#46039f"
                          ],
                          [
                            0.2222222222222222,
                            "#7201a8"
                          ],
                          [
                            0.3333333333333333,
                            "#9c179e"
                          ],
                          [
                            0.4444444444444444,
                            "#bd3786"
                          ],
                          [
                            0.5555555555555556,
                            "#d8576b"
                          ],
                          [
                            0.6666666666666666,
                            "#ed7953"
                          ],
                          [
                            0.7777777777777778,
                            "#fb9f3a"
                          ],
                          [
                            0.8888888888888888,
                            "#fdca26"
                          ],
                          [
                            1,
                            "#f0f921"
                          ]
                        ],
                        "type": "histogram2dcontour"
                      }
                    ],
                    "mesh3d": [
                      {
                        "colorbar": {
                          "outlinewidth": 0,
                          "ticks": ""
                        },
                        "type": "mesh3d"
                      }
                    ],
                    "parcoords": [
                      {
                        "line": {
                          "colorbar": {
                            "outlinewidth": 0,
                            "ticks": ""
                          }
                        },
                        "type": "parcoords"
                      }
                    ],
                    "pie": [
                      {
                        "automargin": true,
                        "type": "pie"
                      }
                    ],
                    "scatter": [
                      {
                        "fillpattern": {
                          "fillmode": "overlay",
                          "size": 10,
                          "solidity": 0.2
                        },
                        "type": "scatter"
                      }
                    ],
                    "scatter3d": [
                      {
                        "line": {
                          "colorbar": {
                            "outlinewidth": 0,
                            "ticks": ""
                          }
                        },
                        "marker": {
                          "colorbar": {
                            "outlinewidth": 0,
                            "ticks": ""
                          }
                        },
                        "type": "scatter3d"
                      }
                    ],
                    "scattercarpet": [
                      {
                        "marker": {
                          "colorbar": {
                            "outlinewidth": 0,
                            "ticks": ""
                          }
                        },
                        "type": "scattercarpet"
                      }
                    ],
                    "scattergeo": [
                      {
                        "marker": {
                          "colorbar": {
                            "outlinewidth": 0,
                            "ticks": ""
                          }
                        },
                        "type": "scattergeo"
                      }
                    ],
                    "scattergl": [
                      {
                        "marker": {
                          "colorbar": {
                            "outlinewidth": 0,
                            "ticks": ""
                          }
                        },
                        "type": "scattergl"
                      }
                    ],
                    "scattermapbox": [
                      {
                        "marker": {
                          "colorbar": {
                            "outlinewidth": 0,
                            "ticks": ""
                          }
                        },
                        "type": "scattermapbox"
                      }
                    ],
                    "scatterpolar": [
                      {
                        "marker": {
                          "colorbar": {
                            "outlinewidth": 0,
                            "ticks": ""
                          }
                        },
                        "type": "scatterpolar"
                      }
                    ],
                    "scatterpolargl": [
                      {
                        "marker": {
                          "colorbar": {
                            "outlinewidth": 0,
                            "ticks": ""
                          }
                        },
                        "type": "scatterpolargl"
                      }
                    ],
                    "scatterternary": [
                      {
                        "marker": {
                          "colorbar": {
                            "outlinewidth": 0,
                            "ticks": ""
                          }
                        },
                        "type": "scatterternary"
                      }
                    ],
                    "surface": [
                      {
                        "colorbar": {
                          "outlinewidth": 0,
                          "ticks": ""
                        },
                        "colorscale": [
                          [
                            0,
                            "#0d0887"
                          ],
                          [
                            0.1111111111111111,
                            "#46039f"
                          ],
                          [
                            0.2222222222222222,
                            "#7201a8"
                          ],
                          [
                            0.3333333333333333,
                            "#9c179e"
                          ],
                          [
                            0.4444444444444444,
                            "#bd3786"
                          ],
                          [
                            0.5555555555555556,
                            "#d8576b"
                          ],
                          [
                            0.6666666666666666,
                            "#ed7953"
                          ],
                          [
                            0.7777777777777778,
                            "#fb9f3a"
                          ],
                          [
                            0.8888888888888888,
                            "#fdca26"
                          ],
                          [
                            1,
                            "#f0f921"
                          ]
                        ],
                        "type": "surface"
                      }
                    ],
                    "table": [
                      {
                        "cells": {
                          "fill": {
                            "color": "#EBF0F8"
                          },
                          "line": {
                            "color": "white"
                          }
                        },
                        "header": {
                          "fill": {
                            "color": "#C8D4E3"
                          },
                          "line": {
                            "color": "white"
                          }
                        },
                        "type": "table"
                      }
                    ]
                  },
                  "layout": {
                    "annotationdefaults": {
                      "arrowcolor": "#2a3f5f",
                      "arrowhead": 0,
                      "arrowwidth": 1
                    },
                    "autotypenumbers": "strict",
                    "coloraxis": {
                      "colorbar": {
                        "outlinewidth": 0,
                        "ticks": ""
                      }
                    },
                    "colorscale": {
                      "diverging": [
                        [
                          0,
                          "#8e0152"
                        ],
                        [
                          0.1,
                          "#c51b7d"
                        ],
                        [
                          0.2,
                          "#de77ae"
                        ],
                        [
                          0.3,
                          "#f1b6da"
                        ],
                        [
                          0.4,
                          "#fde0ef"
                        ],
                        [
                          0.5,
                          "#f7f7f7"
                        ],
                        [
                          0.6,
                          "#e6f5d0"
                        ],
                        [
                          0.7,
                          "#b8e186"
                        ],
                        [
                          0.8,
                          "#7fbc41"
                        ],
                        [
                          0.9,
                          "#4d9221"
                        ],
                        [
                          1,
                          "#276419"
                        ]
                      ],
                      "sequential": [
                        [
                          0,
                          "#0d0887"
                        ],
                        [
                          0.1111111111111111,
                          "#46039f"
                        ],
                        [
                          0.2222222222222222,
                          "#7201a8"
                        ],
                        [
                          0.3333333333333333,
                          "#9c179e"
                        ],
                        [
                          0.4444444444444444,
                          "#bd3786"
                        ],
                        [
                          0.5555555555555556,
                          "#d8576b"
                        ],
                        [
                          0.6666666666666666,
                          "#ed7953"
                        ],
                        [
                          0.7777777777777778,
                          "#fb9f3a"
                        ],
                        [
                          0.8888888888888888,
                          "#fdca26"
                        ],
                        [
                          1,
                          "#f0f921"
                        ]
                      ],
                      "sequentialminus": [
                        [
                          0,
                          "#0d0887"
                        ],
                        [
                          0.1111111111111111,
                          "#46039f"
                        ],
                        [
                          0.2222222222222222,
                          "#7201a8"
                        ],
                        [
                          0.3333333333333333,
                          "#9c179e"
                        ],
                        [
                          0.4444444444444444,
                          "#bd3786"
                        ],
                        [
                          0.5555555555555556,
                          "#d8576b"
                        ],
                        [
                          0.6666666666666666,
                          "#ed7953"
                        ],
                        [
                          0.7777777777777778,
                          "#fb9f3a"
                        ],
                        [
                          0.8888888888888888,
                          "#fdca26"
                        ],
                        [
                          1,
                          "#f0f921"
                        ]
                      ]
                    },
                    "colorway": [
                      "#636efa",
                      "#EF553B",
                      "#00cc96",
                      "#ab63fa",
                      "#FFA15A",
                      "#19d3f3",
                      "#FF6692",
                      "#B6E880",
                      "#FF97FF",
                      "#FECB52"
                    ],
                    "font": {
                      "color": "#2a3f5f"
                    },
                    "geo": {
                      "bgcolor": "white",
                      "lakecolor": "white",
                      "landcolor": "#E5ECF6",
                      "showlakes": true,
                      "showland": true,
                      "subunitcolor": "white"
                    },
                    "hoverlabel": {
                      "align": "left"
                    },
                    "hovermode": "closest",
                    "mapbox": {
                      "style": "light"
                    },
                    "paper_bgcolor": "white",
                    "plot_bgcolor": "#E5ECF6",
                    "polar": {
                      "angularaxis": {
                        "gridcolor": "white",
                        "linecolor": "white",
                        "ticks": ""
                      },
                      "bgcolor": "#E5ECF6",
                      "radialaxis": {
                        "gridcolor": "white",
                        "linecolor": "white",
                        "ticks": ""
                      }
                    },
                    "scene": {
                      "xaxis": {
                        "backgroundcolor": "#E5ECF6",
                        "gridcolor": "white",
                        "gridwidth": 2,
                        "linecolor": "white",
                        "showbackground": true,
                        "ticks": "",
                        "zerolinecolor": "white"
                      },
                      "yaxis": {
                        "backgroundcolor": "#E5ECF6",
                        "gridcolor": "white",
                        "gridwidth": 2,
                        "linecolor": "white",
                        "showbackground": true,
                        "ticks": "",
                        "zerolinecolor": "white"
                      },
                      "zaxis": {
                        "backgroundcolor": "#E5ECF6",
                        "gridcolor": "white",
                        "gridwidth": 2,
                        "linecolor": "white",
                        "showbackground": true,
                        "ticks": "",
                        "zerolinecolor": "white"
                      }
                    },
                    "shapedefaults": {
                      "line": {
                        "color": "#2a3f5f"
                      }
                    },
                    "ternary": {
                      "aaxis": {
                        "gridcolor": "white",
                        "linecolor": "white",
                        "ticks": ""
                      },
                      "baxis": {
                        "gridcolor": "white",
                        "linecolor": "white",
                        "ticks": ""
                      },
                      "bgcolor": "#E5ECF6",
                      "caxis": {
                        "gridcolor": "white",
                        "linecolor": "white",
                        "ticks": ""
                      }
                    },
                    "title": {
                      "x": 0.05
                    },
                    "xaxis": {
                      "automargin": true,
                      "gridcolor": "white",
                      "linecolor": "white",
                      "ticks": "",
                      "title": {
                        "standoff": 15
                      },
                      "zerolinecolor": "white",
                      "zerolinewidth": 2
                    },
                    "yaxis": {
                      "automargin": true,
                      "gridcolor": "white",
                      "linecolor": "white",
                      "ticks": "",
                      "title": {
                        "standoff": 15
                      },
                      "zerolinecolor": "white",
                      "zerolinewidth": 2
                    }
                  }
                },
                "title": {
                  "text": "Geographic Heatmap of Reach"
                }
              }
            }
          },
          "metadata": {},
          "output_type": "display_data"
        }
      ],
      "source": [
        "import plotly.express as px\n",
        "\n",
        "# Aggregate data by Country\n",
        "aggregated_df = df.groupby('Country').agg({\n",
        "    'Reach': 'mean',\n",
        "    'RetweetCount': 'mean',\n",
        "    'Likes': 'mean'\n",
        "}).reset_index()\n",
        "\n",
        "# Create a geographic heatmap for Reach\n",
        "fig = px.choropleth(aggregated_df, locations='Country', locationmode='country names', color='Reach',\n",
        "                    title='Geographic Heatmap of Reach',\n",
        "                    labels={'Country': 'Country', 'Reach': 'Average Reach'})\n",
        "fig.show()\n"
      ]
    },
    {
      "cell_type": "markdown",
      "metadata": {
        "id": "gCzfXi52wsNb"
      },
      "source": [
        "The choropleth map of average reach by country provides a clear and visually compelling way to analyze and compare tweet performance metrics across different geographic regions. It enables data-driven insights that can help optimize social media strategies, target specific audience segments, and improve engagement metrics based on regional trends and performance benchmarks."
      ]
    },
    {
      "cell_type": "markdown",
      "metadata": {
        "id": "UIGLCp_wxIZE"
      },
      "source": [
        "## **Insights:**\n",
        "**Geographic Distribution:**\n",
        "The map shows how average reach varies geographically across different countries.\n",
        "\n",
        "Darker shades indicate countries with higher average reach, while lighter shades represent lower average reach.\n",
        "\n",
        "**Comparison Across Countries:**\n",
        "\n",
        "You can visually compare the average reach of tweets between countries.\n",
        "Identify countries where tweets generally reach a larger audience compared to others.\n",
        "\n",
        "**Regional Patterns:**\n",
        "\n",
        "Look for regional patterns or clusters where countries in the same region tend to have similar average reach values.\n",
        "\n",
        "This can be insightful for targeting specific regions with tailored social media strategies.\n",
        "\n",
        "**Performance Benchmarking:**\n",
        "\n",
        "Use the map to benchmark the performance of tweets in different countries.\n",
        "Understand which countries might offer higher engagement opportunities based on reach metrics.\n",
        "\n",
        "**Strategic Insights:**\n",
        "\n",
        "Gain insights into potential opportunities or challenges in different regions based on tweet reach.\n",
        "Inform decisions on resource allocation for social media campaigns or content localization strategies."
      ]
    },
    {
      "cell_type": "code",
      "execution_count": 18,
      "metadata": {
        "colab": {
          "base_uri": "https://localhost:8080/",
          "height": 542
        },
        "id": "MrSv33-hyTyh",
        "outputId": "28a8b946-335e-4475-b3fe-089bae5b75c2"
      },
      "outputs": [
        {
          "data": {
            "application/vnd.plotly.v1+json": {
              "config": {
                "plotlyServerURL": "https://plot.ly"
              },
              "data": [
                {
                  "hovertemplate": "Metric=Reach<br>Count=%{r}<br>Day of the Week=%{theta}<extra></extra>",
                  "legendgroup": "Reach",
                  "marker": {
                    "color": "rgb(127, 60, 141)",
                    "pattern": {
                      "shape": ""
                    }
                  },
                  "name": "Reach",
                  "r": [
                    111001761,
                    126338939,
                    35422213,
                    29125813,
                    189296641,
                    165674111,
                    151900720
                  ],
                  "showlegend": true,
                  "subplot": "polar",
                  "theta": [
                    "Friday",
                    "Monday",
                    "Saturday",
                    "Sunday",
                    "Thursday",
                    "Tuesday",
                    "Wednesday"
                  ],
                  "type": "barpolar"
                },
                {
                  "hovertemplate": "Metric=RetweetCount<br>Count=%{r}<br>Day of the Week=%{theta}<extra></extra>",
                  "legendgroup": "RetweetCount",
                  "marker": {
                    "color": "rgb(17, 165, 121)",
                    "pattern": {
                      "shape": ""
                    }
                  },
                  "name": "RetweetCount",
                  "r": [
                    119590,
                    108077,
                    67860,
                    65178,
                    138183,
                    142386,
                    165958
                  ],
                  "showlegend": true,
                  "subplot": "polar",
                  "theta": [
                    "Friday",
                    "Monday",
                    "Saturday",
                    "Sunday",
                    "Thursday",
                    "Tuesday",
                    "Wednesday"
                  ],
                  "type": "barpolar"
                },
                {
                  "hovertemplate": "Metric=Likes<br>Count=%{r}<br>Day of the Week=%{theta}<extra></extra>",
                  "legendgroup": "Likes",
                  "marker": {
                    "color": "rgb(57, 105, 172)",
                    "pattern": {
                      "shape": ""
                    }
                  },
                  "name": "Likes",
                  "r": [
                    2307,
                    2575,
                    1123,
                    567,
                    3109,
                    2699,
                    2889
                  ],
                  "showlegend": true,
                  "subplot": "polar",
                  "theta": [
                    "Friday",
                    "Monday",
                    "Saturday",
                    "Sunday",
                    "Thursday",
                    "Tuesday",
                    "Wednesday"
                  ],
                  "type": "barpolar"
                }
              ],
              "layout": {
                "barmode": "relative",
                "legend": {
                  "title": {
                    "text": "Metric"
                  },
                  "tracegroupgap": 0
                },
                "polar": {
                  "angularaxis": {
                    "direction": "clockwise",
                    "rotation": 90
                  },
                  "domain": {
                    "x": [
                      0,
                      1
                    ],
                    "y": [
                      0,
                      1
                    ]
                  }
                },
                "template": {
                  "data": {
                    "bar": [
                      {
                        "error_x": {
                          "color": "#f2f5fa"
                        },
                        "error_y": {
                          "color": "#f2f5fa"
                        },
                        "marker": {
                          "line": {
                            "color": "rgb(17,17,17)",
                            "width": 0.5
                          },
                          "pattern": {
                            "fillmode": "overlay",
                            "size": 10,
                            "solidity": 0.2
                          }
                        },
                        "type": "bar"
                      }
                    ],
                    "barpolar": [
                      {
                        "marker": {
                          "line": {
                            "color": "rgb(17,17,17)",
                            "width": 0.5
                          },
                          "pattern": {
                            "fillmode": "overlay",
                            "size": 10,
                            "solidity": 0.2
                          }
                        },
                        "type": "barpolar"
                      }
                    ],
                    "carpet": [
                      {
                        "aaxis": {
                          "endlinecolor": "#A2B1C6",
                          "gridcolor": "#506784",
                          "linecolor": "#506784",
                          "minorgridcolor": "#506784",
                          "startlinecolor": "#A2B1C6"
                        },
                        "baxis": {
                          "endlinecolor": "#A2B1C6",
                          "gridcolor": "#506784",
                          "linecolor": "#506784",
                          "minorgridcolor": "#506784",
                          "startlinecolor": "#A2B1C6"
                        },
                        "type": "carpet"
                      }
                    ],
                    "choropleth": [
                      {
                        "colorbar": {
                          "outlinewidth": 0,
                          "ticks": ""
                        },
                        "type": "choropleth"
                      }
                    ],
                    "contour": [
                      {
                        "colorbar": {
                          "outlinewidth": 0,
                          "ticks": ""
                        },
                        "colorscale": [
                          [
                            0,
                            "#0d0887"
                          ],
                          [
                            0.1111111111111111,
                            "#46039f"
                          ],
                          [
                            0.2222222222222222,
                            "#7201a8"
                          ],
                          [
                            0.3333333333333333,
                            "#9c179e"
                          ],
                          [
                            0.4444444444444444,
                            "#bd3786"
                          ],
                          [
                            0.5555555555555556,
                            "#d8576b"
                          ],
                          [
                            0.6666666666666666,
                            "#ed7953"
                          ],
                          [
                            0.7777777777777778,
                            "#fb9f3a"
                          ],
                          [
                            0.8888888888888888,
                            "#fdca26"
                          ],
                          [
                            1,
                            "#f0f921"
                          ]
                        ],
                        "type": "contour"
                      }
                    ],
                    "contourcarpet": [
                      {
                        "colorbar": {
                          "outlinewidth": 0,
                          "ticks": ""
                        },
                        "type": "contourcarpet"
                      }
                    ],
                    "heatmap": [
                      {
                        "colorbar": {
                          "outlinewidth": 0,
                          "ticks": ""
                        },
                        "colorscale": [
                          [
                            0,
                            "#0d0887"
                          ],
                          [
                            0.1111111111111111,
                            "#46039f"
                          ],
                          [
                            0.2222222222222222,
                            "#7201a8"
                          ],
                          [
                            0.3333333333333333,
                            "#9c179e"
                          ],
                          [
                            0.4444444444444444,
                            "#bd3786"
                          ],
                          [
                            0.5555555555555556,
                            "#d8576b"
                          ],
                          [
                            0.6666666666666666,
                            "#ed7953"
                          ],
                          [
                            0.7777777777777778,
                            "#fb9f3a"
                          ],
                          [
                            0.8888888888888888,
                            "#fdca26"
                          ],
                          [
                            1,
                            "#f0f921"
                          ]
                        ],
                        "type": "heatmap"
                      }
                    ],
                    "heatmapgl": [
                      {
                        "colorbar": {
                          "outlinewidth": 0,
                          "ticks": ""
                        },
                        "colorscale": [
                          [
                            0,
                            "#0d0887"
                          ],
                          [
                            0.1111111111111111,
                            "#46039f"
                          ],
                          [
                            0.2222222222222222,
                            "#7201a8"
                          ],
                          [
                            0.3333333333333333,
                            "#9c179e"
                          ],
                          [
                            0.4444444444444444,
                            "#bd3786"
                          ],
                          [
                            0.5555555555555556,
                            "#d8576b"
                          ],
                          [
                            0.6666666666666666,
                            "#ed7953"
                          ],
                          [
                            0.7777777777777778,
                            "#fb9f3a"
                          ],
                          [
                            0.8888888888888888,
                            "#fdca26"
                          ],
                          [
                            1,
                            "#f0f921"
                          ]
                        ],
                        "type": "heatmapgl"
                      }
                    ],
                    "histogram": [
                      {
                        "marker": {
                          "pattern": {
                            "fillmode": "overlay",
                            "size": 10,
                            "solidity": 0.2
                          }
                        },
                        "type": "histogram"
                      }
                    ],
                    "histogram2d": [
                      {
                        "colorbar": {
                          "outlinewidth": 0,
                          "ticks": ""
                        },
                        "colorscale": [
                          [
                            0,
                            "#0d0887"
                          ],
                          [
                            0.1111111111111111,
                            "#46039f"
                          ],
                          [
                            0.2222222222222222,
                            "#7201a8"
                          ],
                          [
                            0.3333333333333333,
                            "#9c179e"
                          ],
                          [
                            0.4444444444444444,
                            "#bd3786"
                          ],
                          [
                            0.5555555555555556,
                            "#d8576b"
                          ],
                          [
                            0.6666666666666666,
                            "#ed7953"
                          ],
                          [
                            0.7777777777777778,
                            "#fb9f3a"
                          ],
                          [
                            0.8888888888888888,
                            "#fdca26"
                          ],
                          [
                            1,
                            "#f0f921"
                          ]
                        ],
                        "type": "histogram2d"
                      }
                    ],
                    "histogram2dcontour": [
                      {
                        "colorbar": {
                          "outlinewidth": 0,
                          "ticks": ""
                        },
                        "colorscale": [
                          [
                            0,
                            "#0d0887"
                          ],
                          [
                            0.1111111111111111,
                            "#46039f"
                          ],
                          [
                            0.2222222222222222,
                            "#7201a8"
                          ],
                          [
                            0.3333333333333333,
                            "#9c179e"
                          ],
                          [
                            0.4444444444444444,
                            "#bd3786"
                          ],
                          [
                            0.5555555555555556,
                            "#d8576b"
                          ],
                          [
                            0.6666666666666666,
                            "#ed7953"
                          ],
                          [
                            0.7777777777777778,
                            "#fb9f3a"
                          ],
                          [
                            0.8888888888888888,
                            "#fdca26"
                          ],
                          [
                            1,
                            "#f0f921"
                          ]
                        ],
                        "type": "histogram2dcontour"
                      }
                    ],
                    "mesh3d": [
                      {
                        "colorbar": {
                          "outlinewidth": 0,
                          "ticks": ""
                        },
                        "type": "mesh3d"
                      }
                    ],
                    "parcoords": [
                      {
                        "line": {
                          "colorbar": {
                            "outlinewidth": 0,
                            "ticks": ""
                          }
                        },
                        "type": "parcoords"
                      }
                    ],
                    "pie": [
                      {
                        "automargin": true,
                        "type": "pie"
                      }
                    ],
                    "scatter": [
                      {
                        "marker": {
                          "line": {
                            "color": "#283442"
                          }
                        },
                        "type": "scatter"
                      }
                    ],
                    "scatter3d": [
                      {
                        "line": {
                          "colorbar": {
                            "outlinewidth": 0,
                            "ticks": ""
                          }
                        },
                        "marker": {
                          "colorbar": {
                            "outlinewidth": 0,
                            "ticks": ""
                          }
                        },
                        "type": "scatter3d"
                      }
                    ],
                    "scattercarpet": [
                      {
                        "marker": {
                          "colorbar": {
                            "outlinewidth": 0,
                            "ticks": ""
                          }
                        },
                        "type": "scattercarpet"
                      }
                    ],
                    "scattergeo": [
                      {
                        "marker": {
                          "colorbar": {
                            "outlinewidth": 0,
                            "ticks": ""
                          }
                        },
                        "type": "scattergeo"
                      }
                    ],
                    "scattergl": [
                      {
                        "marker": {
                          "line": {
                            "color": "#283442"
                          }
                        },
                        "type": "scattergl"
                      }
                    ],
                    "scattermapbox": [
                      {
                        "marker": {
                          "colorbar": {
                            "outlinewidth": 0,
                            "ticks": ""
                          }
                        },
                        "type": "scattermapbox"
                      }
                    ],
                    "scatterpolar": [
                      {
                        "marker": {
                          "colorbar": {
                            "outlinewidth": 0,
                            "ticks": ""
                          }
                        },
                        "type": "scatterpolar"
                      }
                    ],
                    "scatterpolargl": [
                      {
                        "marker": {
                          "colorbar": {
                            "outlinewidth": 0,
                            "ticks": ""
                          }
                        },
                        "type": "scatterpolargl"
                      }
                    ],
                    "scatterternary": [
                      {
                        "marker": {
                          "colorbar": {
                            "outlinewidth": 0,
                            "ticks": ""
                          }
                        },
                        "type": "scatterternary"
                      }
                    ],
                    "surface": [
                      {
                        "colorbar": {
                          "outlinewidth": 0,
                          "ticks": ""
                        },
                        "colorscale": [
                          [
                            0,
                            "#0d0887"
                          ],
                          [
                            0.1111111111111111,
                            "#46039f"
                          ],
                          [
                            0.2222222222222222,
                            "#7201a8"
                          ],
                          [
                            0.3333333333333333,
                            "#9c179e"
                          ],
                          [
                            0.4444444444444444,
                            "#bd3786"
                          ],
                          [
                            0.5555555555555556,
                            "#d8576b"
                          ],
                          [
                            0.6666666666666666,
                            "#ed7953"
                          ],
                          [
                            0.7777777777777778,
                            "#fb9f3a"
                          ],
                          [
                            0.8888888888888888,
                            "#fdca26"
                          ],
                          [
                            1,
                            "#f0f921"
                          ]
                        ],
                        "type": "surface"
                      }
                    ],
                    "table": [
                      {
                        "cells": {
                          "fill": {
                            "color": "#506784"
                          },
                          "line": {
                            "color": "rgb(17,17,17)"
                          }
                        },
                        "header": {
                          "fill": {
                            "color": "#2a3f5f"
                          },
                          "line": {
                            "color": "rgb(17,17,17)"
                          }
                        },
                        "type": "table"
                      }
                    ]
                  },
                  "layout": {
                    "annotationdefaults": {
                      "arrowcolor": "#f2f5fa",
                      "arrowhead": 0,
                      "arrowwidth": 1
                    },
                    "autotypenumbers": "strict",
                    "coloraxis": {
                      "colorbar": {
                        "outlinewidth": 0,
                        "ticks": ""
                      }
                    },
                    "colorscale": {
                      "diverging": [
                        [
                          0,
                          "#8e0152"
                        ],
                        [
                          0.1,
                          "#c51b7d"
                        ],
                        [
                          0.2,
                          "#de77ae"
                        ],
                        [
                          0.3,
                          "#f1b6da"
                        ],
                        [
                          0.4,
                          "#fde0ef"
                        ],
                        [
                          0.5,
                          "#f7f7f7"
                        ],
                        [
                          0.6,
                          "#e6f5d0"
                        ],
                        [
                          0.7,
                          "#b8e186"
                        ],
                        [
                          0.8,
                          "#7fbc41"
                        ],
                        [
                          0.9,
                          "#4d9221"
                        ],
                        [
                          1,
                          "#276419"
                        ]
                      ],
                      "sequential": [
                        [
                          0,
                          "#0d0887"
                        ],
                        [
                          0.1111111111111111,
                          "#46039f"
                        ],
                        [
                          0.2222222222222222,
                          "#7201a8"
                        ],
                        [
                          0.3333333333333333,
                          "#9c179e"
                        ],
                        [
                          0.4444444444444444,
                          "#bd3786"
                        ],
                        [
                          0.5555555555555556,
                          "#d8576b"
                        ],
                        [
                          0.6666666666666666,
                          "#ed7953"
                        ],
                        [
                          0.7777777777777778,
                          "#fb9f3a"
                        ],
                        [
                          0.8888888888888888,
                          "#fdca26"
                        ],
                        [
                          1,
                          "#f0f921"
                        ]
                      ],
                      "sequentialminus": [
                        [
                          0,
                          "#0d0887"
                        ],
                        [
                          0.1111111111111111,
                          "#46039f"
                        ],
                        [
                          0.2222222222222222,
                          "#7201a8"
                        ],
                        [
                          0.3333333333333333,
                          "#9c179e"
                        ],
                        [
                          0.4444444444444444,
                          "#bd3786"
                        ],
                        [
                          0.5555555555555556,
                          "#d8576b"
                        ],
                        [
                          0.6666666666666666,
                          "#ed7953"
                        ],
                        [
                          0.7777777777777778,
                          "#fb9f3a"
                        ],
                        [
                          0.8888888888888888,
                          "#fdca26"
                        ],
                        [
                          1,
                          "#f0f921"
                        ]
                      ]
                    },
                    "colorway": [
                      "#636efa",
                      "#EF553B",
                      "#00cc96",
                      "#ab63fa",
                      "#FFA15A",
                      "#19d3f3",
                      "#FF6692",
                      "#B6E880",
                      "#FF97FF",
                      "#FECB52"
                    ],
                    "font": {
                      "color": "#f2f5fa"
                    },
                    "geo": {
                      "bgcolor": "rgb(17,17,17)",
                      "lakecolor": "rgb(17,17,17)",
                      "landcolor": "rgb(17,17,17)",
                      "showlakes": true,
                      "showland": true,
                      "subunitcolor": "#506784"
                    },
                    "hoverlabel": {
                      "align": "left"
                    },
                    "hovermode": "closest",
                    "mapbox": {
                      "style": "dark"
                    },
                    "paper_bgcolor": "rgb(17,17,17)",
                    "plot_bgcolor": "rgb(17,17,17)",
                    "polar": {
                      "angularaxis": {
                        "gridcolor": "#506784",
                        "linecolor": "#506784",
                        "ticks": ""
                      },
                      "bgcolor": "rgb(17,17,17)",
                      "radialaxis": {
                        "gridcolor": "#506784",
                        "linecolor": "#506784",
                        "ticks": ""
                      }
                    },
                    "scene": {
                      "xaxis": {
                        "backgroundcolor": "rgb(17,17,17)",
                        "gridcolor": "#506784",
                        "gridwidth": 2,
                        "linecolor": "#506784",
                        "showbackground": true,
                        "ticks": "",
                        "zerolinecolor": "#C8D4E3"
                      },
                      "yaxis": {
                        "backgroundcolor": "rgb(17,17,17)",
                        "gridcolor": "#506784",
                        "gridwidth": 2,
                        "linecolor": "#506784",
                        "showbackground": true,
                        "ticks": "",
                        "zerolinecolor": "#C8D4E3"
                      },
                      "zaxis": {
                        "backgroundcolor": "rgb(17,17,17)",
                        "gridcolor": "#506784",
                        "gridwidth": 2,
                        "linecolor": "#506784",
                        "showbackground": true,
                        "ticks": "",
                        "zerolinecolor": "#C8D4E3"
                      }
                    },
                    "shapedefaults": {
                      "line": {
                        "color": "#f2f5fa"
                      }
                    },
                    "sliderdefaults": {
                      "bgcolor": "#C8D4E3",
                      "bordercolor": "rgb(17,17,17)",
                      "borderwidth": 1,
                      "tickwidth": 0
                    },
                    "ternary": {
                      "aaxis": {
                        "gridcolor": "#506784",
                        "linecolor": "#506784",
                        "ticks": ""
                      },
                      "baxis": {
                        "gridcolor": "#506784",
                        "linecolor": "#506784",
                        "ticks": ""
                      },
                      "bgcolor": "rgb(17,17,17)",
                      "caxis": {
                        "gridcolor": "#506784",
                        "linecolor": "#506784",
                        "ticks": ""
                      }
                    },
                    "title": {
                      "x": 0.05
                    },
                    "updatemenudefaults": {
                      "bgcolor": "#506784",
                      "borderwidth": 0
                    },
                    "xaxis": {
                      "automargin": true,
                      "gridcolor": "#283442",
                      "linecolor": "#506784",
                      "ticks": "",
                      "title": {
                        "standoff": 15
                      },
                      "zerolinecolor": "#283442",
                      "zerolinewidth": 2
                    },
                    "yaxis": {
                      "automargin": true,
                      "gridcolor": "#283442",
                      "linecolor": "#506784",
                      "ticks": "",
                      "title": {
                        "standoff": 15
                      },
                      "zerolinecolor": "#283442",
                      "zerolinewidth": 2
                    }
                  }
                },
                "title": {
                  "text": "Radial Bar Chart of Tweet Metrics by Day"
                }
              }
            }
          },
          "metadata": {},
          "output_type": "display_data"
        }
      ],
      "source": [
        "import plotly.express as px\n",
        "\n",
        "# Aggregate data by weekday\n",
        "aggregated_df = df.groupby('Weekday').agg({\n",
        "    'Reach': 'sum',\n",
        "    'RetweetCount': 'sum',\n",
        "    'Likes': 'sum'\n",
        "}).reset_index()\n",
        "\n",
        "# Melt the DataFrame to have a long format suitable for px.bar_polar\n",
        "aggregated_df_melted = aggregated_df.melt(id_vars='Weekday', value_vars=['Reach', 'RetweetCount', 'Likes'], var_name='Metric', value_name='Count')\n",
        "\n",
        "fig = px.bar_polar(aggregated_df_melted, r='Count', theta='Weekday', color='Metric',\n",
        "                   color_discrete_sequence=px.colors.qualitative.Bold,\n",
        "                   title='Radial Bar Chart of Tweet Metrics by Day',\n",
        "                   labels={'Count': 'Count', 'Metric': 'Metric', 'Weekday': 'Day of the Week'},\n",
        "                   template='plotly_dark'\n",
        "                   )\n",
        "fig.show()"
      ]
    },
    {
      "cell_type": "markdown",
      "metadata": {
        "id": "EDEHzPNRzHqD"
      },
      "source": [
        "The radial bar chart provides a clear visual representation of tweet metrics (Reach, RetweetCount, Likes) aggregated by weekday. It enables quick insights into engagement patterns across different days, helping in optimizing social media strategies, content scheduling, and understanding audience behavior based on weekday trends."
      ]
    },
    {
      "cell_type": "markdown",
      "metadata": {
        "id": "DW7ff5_Fy69e"
      },
      "source": [
        "## **Insights:**\n",
        "\n",
        "**Comparison Across Metrics:**\n",
        "\n",
        "Visualize and compare the total counts of Reach, RetweetCount, and Likes for each weekday.\n",
        "Identify which metrics have higher counts on specific days, indicating stronger engagement or activity.\n",
        "\n",
        "**Peak Engagement Days:**\n",
        "\n",
        "Identify weekdays with higher bars for each metric, suggesting peak engagement days for tweets.\n",
        "This can help in scheduling tweets or targeting specific days for maximum impact.\n",
        "\n",
        "**Metric Contributions:**\n",
        "\n",
        "Understand the relative contribution of each metric (Reach, RetweetCount, Likes) to overall engagement on different weekdays.\n",
        "Determine which metrics drive more interactions or audience reach on average.\n",
        "\n",
        "**Pattern Recognition:**\n",
        "\n",
        "Look for patterns or trends across weekdays for different metrics.\n",
        "For example, weekdays with high RetweetCount but lower Likes might indicate content that is more likely to be shared than liked."
      ]
    },
    {
      "cell_type": "code",
      "execution_count": 19,
      "metadata": {
        "colab": {
          "base_uri": "https://localhost:8080/",
          "height": 542
        },
        "id": "CyPR8ab7tTkf",
        "outputId": "c0d44713-6e64-4f29-802a-9b8498aed983"
      },
      "outputs": [
        {
          "data": {
            "application/vnd.plotly.v1+json": {
              "config": {
                "plotlyServerURL": "https://plot.ly"
              },
              "data": [
                {
                  "geo": "geo",
                  "hovertemplate": "Hour of Day=6<br>Reach=%{marker.size}<br>Country=%{location}<br>Retweet Count=%{marker.color}<extra></extra>",
                  "legendgroup": "",
                  "locationmode": "country names",
                  "locations": [
                    "Albania",
                    "Argentina",
                    "Australia",
                    "Austria",
                    "Bangladesh",
                    "Belgium",
                    "Brazil",
                    "Bulgaria",
                    "Cambodia",
                    "Canada",
                    "Chile",
                    "China",
                    "Colombia",
                    "Cuba",
                    "Czech Republic",
                    "Denmark",
                    "Dominican Republic",
                    "Ecuador",
                    "Egypt",
                    "Estonia",
                    "Finland",
                    "France",
                    "Georgia",
                    "Germany",
                    "Ghana",
                    "Greece",
                    "Greenland",
                    "Hungary",
                    "Iceland",
                    "India",
                    "Indonesia",
                    "Ireland",
                    "Israel",
                    "Italy",
                    "Japan",
                    "Jordan",
                    "Kenya",
                    "Latvia",
                    "Lebanon",
                    "Lithuania",
                    "Luxembourg",
                    "Malaysia",
                    "Mexico",
                    "Morocco",
                    "Netherlands",
                    "Nigeria",
                    "Norway",
                    "Oman",
                    "Pakistan",
                    "Peru",
                    "Philippines",
                    "Poland",
                    "Portugal",
                    "Qatar",
                    "Romania",
                    "Russia",
                    "Russian Federation",
                    "Rwanda",
                    "Saint Vincent and the Grenadines",
                    "Saudi Arabia",
                    "Senegal",
                    "Serbia",
                    "Singapore",
                    "South Africa",
                    "South Korea",
                    "Spain",
                    "Sri Lanka",
                    "Sweden",
                    "Switzerland",
                    "Taiwan",
                    "Tajikistan",
                    "Thailand",
                    "Turkey",
                    "Uganda",
                    "Ukraine",
                    "United Arab Emirates",
                    "United Kingdom",
                    "United States",
                    "Venezuela",
                    "Viet Nam",
                    "Zambia"
                  ],
                  "marker": {
                    "color": [
                      0,
                      811,
                      450,
                      179,
                      1,
                      393,
                      1100,
                      5,
                      0,
                      407,
                      73,
                      120,
                      92,
                      0,
                      51,
                      31,
                      21,
                      0,
                      0,
                      140,
                      201,
                      790,
                      0,
                      1497,
                      0,
                      1,
                      13,
                      189,
                      172,
                      4172,
                      93,
                      120,
                      15,
                      597,
                      218,
                      0,
                      420,
                      74,
                      0,
                      12,
                      18,
                      462,
                      31,
                      1,
                      680,
                      62,
                      199,
                      1,
                      165,
                      361,
                      482,
                      22,
                      1,
                      0,
                      2,
                      5,
                      0,
                      0,
                      0,
                      1,
                      0,
                      52,
                      18,
                      76,
                      327,
                      368,
                      15,
                      300,
                      6,
                      186,
                      3,
                      1019,
                      74,
                      192,
                      0,
                      192,
                      2193,
                      12529,
                      798,
                      4,
                      89
                    ],
                    "coloraxis": "coloraxis",
                    "size": [
                      87,
                      10063,
                      52063,
                      19991,
                      22604,
                      41166,
                      30639,
                      2944,
                      1220,
                      457416,
                      36823,
                      1479,
                      59065,
                      197,
                      3492,
                      2392,
                      459,
                      35,
                      1007,
                      591,
                      46832,
                      201489,
                      802,
                      220978,
                      1067,
                      1934,
                      39,
                      925,
                      1082,
                      524609,
                      79068,
                      120897,
                      13028,
                      60012,
                      16365,
                      27053,
                      4720,
                      2325,
                      270,
                      2613,
                      14254,
                      2224,
                      6318,
                      3126,
                      86572,
                      29912,
                      13932,
                      480,
                      44168,
                      5229,
                      15559,
                      5126,
                      275,
                      5249,
                      4564,
                      8292,
                      571,
                      661,
                      2260,
                      2342,
                      192,
                      13346,
                      1172,
                      7487,
                      65181,
                      126702,
                      792,
                      20100,
                      5569,
                      3772,
                      30,
                      24425,
                      4033,
                      3378,
                      666,
                      18346,
                      1688314,
                      15130167,
                      3081,
                      1848,
                      362
                    ],
                    "sizemode": "area",
                    "sizeref": 174950.93,
                    "symbol": "circle"
                  },
                  "mode": "markers",
                  "name": "",
                  "showlegend": false,
                  "type": "scattergeo"
                }
              ],
              "frames": [
                {
                  "data": [
                    {
                      "geo": "geo",
                      "hovertemplate": "Hour of Day=6<br>Reach=%{marker.size}<br>Country=%{location}<br>Retweet Count=%{marker.color}<extra></extra>",
                      "legendgroup": "",
                      "locationmode": "country names",
                      "locations": [
                        "Albania",
                        "Argentina",
                        "Australia",
                        "Austria",
                        "Bangladesh",
                        "Belgium",
                        "Brazil",
                        "Bulgaria",
                        "Cambodia",
                        "Canada",
                        "Chile",
                        "China",
                        "Colombia",
                        "Cuba",
                        "Czech Republic",
                        "Denmark",
                        "Dominican Republic",
                        "Ecuador",
                        "Egypt",
                        "Estonia",
                        "Finland",
                        "France",
                        "Georgia",
                        "Germany",
                        "Ghana",
                        "Greece",
                        "Greenland",
                        "Hungary",
                        "Iceland",
                        "India",
                        "Indonesia",
                        "Ireland",
                        "Israel",
                        "Italy",
                        "Japan",
                        "Jordan",
                        "Kenya",
                        "Latvia",
                        "Lebanon",
                        "Lithuania",
                        "Luxembourg",
                        "Malaysia",
                        "Mexico",
                        "Morocco",
                        "Netherlands",
                        "Nigeria",
                        "Norway",
                        "Oman",
                        "Pakistan",
                        "Peru",
                        "Philippines",
                        "Poland",
                        "Portugal",
                        "Qatar",
                        "Romania",
                        "Russia",
                        "Russian Federation",
                        "Rwanda",
                        "Saint Vincent and the Grenadines",
                        "Saudi Arabia",
                        "Senegal",
                        "Serbia",
                        "Singapore",
                        "South Africa",
                        "South Korea",
                        "Spain",
                        "Sri Lanka",
                        "Sweden",
                        "Switzerland",
                        "Taiwan",
                        "Tajikistan",
                        "Thailand",
                        "Turkey",
                        "Uganda",
                        "Ukraine",
                        "United Arab Emirates",
                        "United Kingdom",
                        "United States",
                        "Venezuela",
                        "Viet Nam",
                        "Zambia"
                      ],
                      "marker": {
                        "color": [
                          0,
                          811,
                          450,
                          179,
                          1,
                          393,
                          1100,
                          5,
                          0,
                          407,
                          73,
                          120,
                          92,
                          0,
                          51,
                          31,
                          21,
                          0,
                          0,
                          140,
                          201,
                          790,
                          0,
                          1497,
                          0,
                          1,
                          13,
                          189,
                          172,
                          4172,
                          93,
                          120,
                          15,
                          597,
                          218,
                          0,
                          420,
                          74,
                          0,
                          12,
                          18,
                          462,
                          31,
                          1,
                          680,
                          62,
                          199,
                          1,
                          165,
                          361,
                          482,
                          22,
                          1,
                          0,
                          2,
                          5,
                          0,
                          0,
                          0,
                          1,
                          0,
                          52,
                          18,
                          76,
                          327,
                          368,
                          15,
                          300,
                          6,
                          186,
                          3,
                          1019,
                          74,
                          192,
                          0,
                          192,
                          2193,
                          12529,
                          798,
                          4,
                          89
                        ],
                        "coloraxis": "coloraxis",
                        "size": [
                          87,
                          10063,
                          52063,
                          19991,
                          22604,
                          41166,
                          30639,
                          2944,
                          1220,
                          457416,
                          36823,
                          1479,
                          59065,
                          197,
                          3492,
                          2392,
                          459,
                          35,
                          1007,
                          591,
                          46832,
                          201489,
                          802,
                          220978,
                          1067,
                          1934,
                          39,
                          925,
                          1082,
                          524609,
                          79068,
                          120897,
                          13028,
                          60012,
                          16365,
                          27053,
                          4720,
                          2325,
                          270,
                          2613,
                          14254,
                          2224,
                          6318,
                          3126,
                          86572,
                          29912,
                          13932,
                          480,
                          44168,
                          5229,
                          15559,
                          5126,
                          275,
                          5249,
                          4564,
                          8292,
                          571,
                          661,
                          2260,
                          2342,
                          192,
                          13346,
                          1172,
                          7487,
                          65181,
                          126702,
                          792,
                          20100,
                          5569,
                          3772,
                          30,
                          24425,
                          4033,
                          3378,
                          666,
                          18346,
                          1688314,
                          15130167,
                          3081,
                          1848,
                          362
                        ],
                        "sizemode": "area",
                        "sizeref": 174950.93,
                        "symbol": "circle"
                      },
                      "mode": "markers",
                      "name": "",
                      "showlegend": false,
                      "type": "scattergeo"
                    }
                  ],
                  "name": "6"
                },
                {
                  "data": [
                    {
                      "geo": "geo",
                      "hovertemplate": "Hour of Day=7<br>Reach=%{marker.size}<br>Country=%{location}<br>Retweet Count=%{marker.color}<extra></extra>",
                      "legendgroup": "",
                      "locationmode": "country names",
                      "locations": [
                        "Albania",
                        "Argentina",
                        "Armenia",
                        "Australia",
                        "Austria",
                        "Bahamas",
                        "Bangladesh",
                        "Belarus",
                        "Belgium",
                        "Bosnia and Herzegovina",
                        "Brazil",
                        "Bulgaria",
                        "Canada",
                        "Chile",
                        "China",
                        "Colombia",
                        "Croatia",
                        "Cuba",
                        "Cyprus",
                        "Czech Republic",
                        "Denmark",
                        "Ecuador",
                        "Egypt",
                        "El Salvador",
                        "Finland",
                        "France",
                        "Georgia",
                        "Germany",
                        "Ghana",
                        "Greece",
                        "Honduras",
                        "Hungary",
                        "Iceland",
                        "India",
                        "Indonesia",
                        "Iraq",
                        "Ireland",
                        "Israel",
                        "Italy",
                        "Japan",
                        "Jordan",
                        "Kenya",
                        "Latvia",
                        "Lebanon",
                        "Luxembourg",
                        "Malaysia",
                        "Mauritius",
                        "Mexico",
                        "Morocco",
                        "Nepal",
                        "Netherlands",
                        "New Zealand",
                        "Nigeria",
                        "Norway",
                        "Pakistan",
                        "Panama",
                        "Peru",
                        "Philippines",
                        "Poland",
                        "Portugal",
                        "Romania",
                        "Russia",
                        "Saudi Arabia",
                        "Serbia",
                        "Slovenia",
                        "South Africa",
                        "South Korea",
                        "Spain",
                        "Sweden",
                        "Switzerland",
                        "Taiwan",
                        "Tanzania",
                        "Thailand",
                        "Turkey",
                        "United Arab Emirates",
                        "United Kingdom",
                        "United States",
                        "Venezuela",
                        "Viet Nam",
                        "Vietnam",
                        "Zambia",
                        "Zimbabwe"
                      ],
                      "marker": {
                        "color": [
                          127,
                          762,
                          0,
                          436,
                          11,
                          13,
                          3,
                          0,
                          2,
                          1,
                          364,
                          12,
                          150,
                          37,
                          5,
                          652,
                          52,
                          0,
                          0,
                          8,
                          15,
                          400,
                          1,
                          0,
                          108,
                          934,
                          0,
                          998,
                          4,
                          9,
                          0,
                          0,
                          0,
                          4976,
                          84,
                          0,
                          981,
                          17,
                          91,
                          67,
                          1,
                          22,
                          0,
                          0,
                          1,
                          414,
                          1,
                          3,
                          4,
                          308,
                          333,
                          4,
                          117,
                          268,
                          25,
                          1,
                          51,
                          432,
                          2,
                          2,
                          8,
                          1,
                          11,
                          35,
                          1,
                          599,
                          435,
                          851,
                          102,
                          6,
                          93,
                          67,
                          587,
                          65,
                          38,
                          2085,
                          29035,
                          565,
                          4,
                          0,
                          1,
                          0
                        ],
                        "coloraxis": "coloraxis",
                        "size": [
                          425,
                          8656,
                          91,
                          208286,
                          665,
                          152,
                          18849,
                          636,
                          13731,
                          457,
                          20835,
                          44,
                          456271,
                          39797,
                          2283,
                          24337,
                          448,
                          544,
                          612,
                          306,
                          1859,
                          1009,
                          13456,
                          3768,
                          29672,
                          223310,
                          408,
                          146936,
                          6559,
                          3671,
                          563,
                          935,
                          1952,
                          441124,
                          40443,
                          21,
                          98384,
                          6895,
                          25189,
                          19223,
                          4352,
                          22255,
                          2477,
                          281,
                          1549,
                          3110,
                          595,
                          1751,
                          5489,
                          169,
                          77263,
                          1720,
                          27314,
                          6148,
                          10410,
                          1961,
                          1960,
                          28496,
                          7888,
                          19000,
                          3016,
                          1773,
                          2939,
                          6098,
                          1057,
                          6878,
                          9392,
                          112235,
                          16577,
                          10723,
                          2728,
                          520,
                          63797,
                          2889,
                          40338,
                          1155881,
                          21241979,
                          2958,
                          1449,
                          14,
                          331,
                          6
                        ],
                        "sizemode": "area",
                        "sizeref": 174950.93,
                        "symbol": "circle"
                      },
                      "mode": "markers",
                      "name": "",
                      "showlegend": false,
                      "type": "scattergeo"
                    }
                  ],
                  "name": "7"
                },
                {
                  "data": [
                    {
                      "geo": "geo",
                      "hovertemplate": "Hour of Day=9<br>Reach=%{marker.size}<br>Country=%{location}<br>Retweet Count=%{marker.color}<extra></extra>",
                      "legendgroup": "",
                      "locationmode": "country names",
                      "locations": [
                        "Albania",
                        "Angola",
                        "Argentina",
                        "Australia",
                        "Austria",
                        "Bahamas",
                        "Bangladesh",
                        "Belgium",
                        "Bolivia",
                        "Brazil",
                        "Bulgaria",
                        "Cameroon",
                        "Canada",
                        "Chile",
                        "China",
                        "Colombia",
                        "Croatia",
                        "Cyprus",
                        "Czech Republic",
                        "Denmark",
                        "Ecuador",
                        "Estonia",
                        "Finland",
                        "France",
                        "Germany",
                        "Ghana",
                        "Greece",
                        "Guinea",
                        "Hungary",
                        "Iceland",
                        "India",
                        "Indonesia",
                        "Ireland",
                        "Israel",
                        "Italy",
                        "Jamaica",
                        "Japan",
                        "Jordan",
                        "Kenya",
                        "Latvia",
                        "Lebanon",
                        "Lithuania",
                        "Luxembourg",
                        "Macedonia",
                        "Malaysia",
                        "Mexico",
                        "Morocco",
                        "Nepal",
                        "Netherlands",
                        "New Zealand",
                        "Nigeria",
                        "Norway",
                        "Pakistan",
                        "Panama",
                        "Peru",
                        "Philippines",
                        "Poland",
                        "Portugal",
                        "Puerto Rico",
                        "Qatar",
                        "Romania",
                        "Russia",
                        "Saint Vincent and the Grenadines",
                        "Saudi Arabia",
                        "Serbia",
                        "Slovakia",
                        "Slovenia",
                        "South Africa",
                        "South Korea",
                        "Spain",
                        "Sri Lanka",
                        "Sweden",
                        "Switzerland",
                        "Taiwan",
                        "Thailand",
                        "Tunisia",
                        "Turkey",
                        "Uganda",
                        "Ukraine",
                        "United Arab Emirates",
                        "United Kingdom",
                        "United States",
                        "Venezuela",
                        "Viet Nam",
                        "Vietnam"
                      ],
                      "marker": {
                        "color": [
                          0,
                          4,
                          322,
                          707,
                          52,
                          8,
                          4,
                          421,
                          4,
                          627,
                          3,
                          169,
                          885,
                          29,
                          452,
                          143,
                          0,
                          0,
                          45,
                          18,
                          64,
                          10,
                          155,
                          622,
                          1063,
                          0,
                          1,
                          0,
                          10,
                          1,
                          6809,
                          86,
                          280,
                          7,
                          96,
                          85,
                          36,
                          63,
                          43,
                          97,
                          0,
                          97,
                          7,
                          0,
                          92,
                          52,
                          0,
                          5,
                          586,
                          5,
                          60,
                          4,
                          63,
                          32,
                          331,
                          552,
                          63,
                          3,
                          0,
                          11,
                          62,
                          111,
                          0,
                          11,
                          403,
                          20,
                          30,
                          100,
                          19,
                          418,
                          0,
                          151,
                          5,
                          357,
                          52,
                          0,
                          28,
                          4,
                          1,
                          8,
                          2428,
                          22199,
                          1024,
                          14,
                          0
                        ],
                        "coloraxis": "coloraxis",
                        "size": [
                          85,
                          52,
                          25869,
                          153828,
                          35087,
                          138,
                          3773,
                          19572,
                          87,
                          37506,
                          4012,
                          148,
                          485791,
                          41295,
                          9836,
                          4612,
                          133,
                          63,
                          13439,
                          3850,
                          179,
                          331,
                          9696,
                          251591,
                          240163,
                          791,
                          2003,
                          864,
                          1487,
                          1950,
                          328556,
                          9956,
                          46265,
                          8012,
                          11170,
                          994,
                          24638,
                          12820,
                          714,
                          983,
                          30,
                          0,
                          6060,
                          995,
                          8754,
                          2398,
                          51,
                          740,
                          404412,
                          5251,
                          10665,
                          9844,
                          6431,
                          58,
                          2878,
                          6613,
                          7946,
                          5682,
                          954,
                          1044,
                          208,
                          2449,
                          366,
                          196222,
                          35203,
                          190,
                          4916,
                          8425,
                          45931,
                          189831,
                          2301,
                          24908,
                          3797,
                          46294,
                          61172,
                          8,
                          1926,
                          3625,
                          205,
                          84536,
                          1528394,
                          40642199,
                          3954,
                          432,
                          1863
                        ],
                        "sizemode": "area",
                        "sizeref": 174950.93,
                        "symbol": "circle"
                      },
                      "mode": "markers",
                      "name": "",
                      "showlegend": false,
                      "type": "scattergeo"
                    }
                  ],
                  "name": "9"
                },
                {
                  "data": [
                    {
                      "geo": "geo",
                      "hovertemplate": "Hour of Day=10<br>Reach=%{marker.size}<br>Country=%{location}<br>Retweet Count=%{marker.color}<extra></extra>",
                      "legendgroup": "",
                      "locationmode": "country names",
                      "locations": [
                        "Albania",
                        "Anguilla",
                        "Argentina",
                        "Australia",
                        "Austria",
                        "Bahamas",
                        "Bangladesh",
                        "Belarus",
                        "Belgium",
                        "Bolivia",
                        "Bosnia and Herzegovina",
                        "Brazil",
                        "Bulgaria",
                        "Cameroon",
                        "Canada",
                        "Chile",
                        "China",
                        "Colombia",
                        "Croatia",
                        "Czech Republic",
                        "Denmark",
                        "Dominican Republic",
                        "Ecuador",
                        "Egypt",
                        "Estonia",
                        "Finland",
                        "France",
                        "Georgia",
                        "Germany",
                        "Ghana",
                        "Greece",
                        "Guatemala",
                        "Guinea",
                        "Hungary",
                        "India",
                        "Indonesia",
                        "Ireland",
                        "Israel",
                        "Italy",
                        "Jamaica",
                        "Japan",
                        "Jordan",
                        "Kenya",
                        "Latvia",
                        "Lebanon",
                        "Malaysia",
                        "Mauritius",
                        "Mexico",
                        "Morocco",
                        "Namibia",
                        "Nepal",
                        "Netherlands",
                        "New Zealand",
                        "Nigeria",
                        "Norway",
                        "Pakistan",
                        "Panama",
                        "Paraguay",
                        "Peru",
                        "Philippines",
                        "Poland",
                        "Portugal",
                        "Qatar",
                        "Romania",
                        "Russia",
                        "Saint Vincent and the Grenadines",
                        "Saudi Arabia",
                        "Serbia",
                        "Slovakia",
                        "Slovenia",
                        "South Africa",
                        "South Korea",
                        "Spain",
                        "Sri Lanka",
                        "Sudan",
                        "Sweden",
                        "Switzerland",
                        "Taiwan",
                        "Thailand",
                        "Tunisia",
                        "Turkey",
                        "Ukraine",
                        "United Arab Emirates",
                        "United Kingdom",
                        "United States",
                        "Venezuela",
                        "Vietnam",
                        "Zimbabwe"
                      ],
                      "marker": {
                        "color": [
                          0,
                          0,
                          132,
                          743,
                          69,
                          6,
                          20,
                          3,
                          42,
                          6,
                          0,
                          872,
                          487,
                          0,
                          829,
                          22,
                          143,
                          162,
                          3,
                          5,
                          12,
                          0,
                          33,
                          1,
                          0,
                          167,
                          2281,
                          0,
                          2326,
                          3,
                          30,
                          0,
                          0,
                          2,
                          7081,
                          208,
                          328,
                          11,
                          371,
                          0,
                          98,
                          1,
                          333,
                          0,
                          0,
                          60,
                          2,
                          110,
                          0,
                          0,
                          2,
                          836,
                          6,
                          3,
                          283,
                          23,
                          117,
                          73,
                          108,
                          229,
                          270,
                          53,
                          3,
                          5,
                          368,
                          0,
                          63,
                          7,
                          7,
                          0,
                          48,
                          2,
                          1173,
                          13,
                          79,
                          198,
                          31,
                          74,
                          229,
                          1,
                          47,
                          324,
                          14,
                          3196,
                          23829,
                          487,
                          0,
                          3
                        ],
                        "coloraxis": "coloraxis",
                        "size": [
                          87,
                          239,
                          19438,
                          34728,
                          12741,
                          137,
                          21195,
                          1908,
                          34826,
                          363,
                          142,
                          25049,
                          418,
                          1312,
                          94824,
                          2719,
                          5513,
                          8200,
                          140,
                          3886,
                          2558,
                          7,
                          2599,
                          12641,
                          149,
                          10502,
                          401873,
                          411,
                          654333,
                          1592,
                          5134,
                          200,
                          1800,
                          1211,
                          735783,
                          21286,
                          159500,
                          8117,
                          20278,
                          1476,
                          24201,
                          2434,
                          7623,
                          1658,
                          283,
                          5648,
                          577,
                          7702,
                          3529,
                          397,
                          46,
                          82649,
                          6945,
                          16160,
                          8034,
                          21683,
                          3166,
                          429,
                          2337,
                          12936,
                          15139,
                          16122,
                          545,
                          3951,
                          4544,
                          367,
                          2429,
                          2096,
                          26,
                          163,
                          12575,
                          9990,
                          136713,
                          30,
                          370,
                          39949,
                          5951,
                          1168,
                          53559,
                          281,
                          1757,
                          310,
                          14584,
                          1571428,
                          62654534,
                          9781,
                          385,
                          1203
                        ],
                        "sizemode": "area",
                        "sizeref": 174950.93,
                        "symbol": "circle"
                      },
                      "mode": "markers",
                      "name": "",
                      "showlegend": false,
                      "type": "scattergeo"
                    }
                  ],
                  "name": "10"
                },
                {
                  "data": [
                    {
                      "geo": "geo",
                      "hovertemplate": "Hour of Day=11<br>Reach=%{marker.size}<br>Country=%{location}<br>Retweet Count=%{marker.color}<extra></extra>",
                      "legendgroup": "",
                      "locationmode": "country names",
                      "locations": [
                        "Albania",
                        "Argentina",
                        "Australia",
                        "Austria",
                        "Bangladesh",
                        "Belarus",
                        "Belgium",
                        "Bolivia",
                        "Bosnia and Herzegovina",
                        "Brazil",
                        "Bulgaria",
                        "Canada",
                        "Chile",
                        "China",
                        "Colombia",
                        "Croatia",
                        "Cuba",
                        "Czech Republic",
                        "Denmark",
                        "Dominican Republic",
                        "Ecuador",
                        "Egypt",
                        "Finland",
                        "France",
                        "Georgia",
                        "Germany",
                        "Ghana",
                        "Greece",
                        "Guatemala",
                        "Guinea",
                        "Hungary",
                        "Iceland",
                        "India",
                        "Indonesia",
                        "Ireland",
                        "Israel",
                        "Italy",
                        "Japan",
                        "Jordan",
                        "Kenya",
                        "Korea (Republic of)",
                        "Latvia",
                        "Lebanon",
                        "Luxembourg",
                        "Malaysia",
                        "Mexico",
                        "Mongolia",
                        "Morocco",
                        "Nepal",
                        "Netherlands",
                        "New Zealand",
                        "Nigeria",
                        "Norway",
                        "Pakistan",
                        "Panama",
                        "Peru",
                        "Philippines",
                        "Poland",
                        "Portugal",
                        "Puerto Rico",
                        "Romania",
                        "Russia",
                        "Saudi Arabia",
                        "Serbia",
                        "Slovakia",
                        "Slovenia",
                        "South Africa",
                        "South Korea",
                        "Spain",
                        "Sweden",
                        "Switzerland",
                        "Taiwan",
                        "Thailand",
                        "Tunisia",
                        "Turkey",
                        "Uganda",
                        "Ukraine",
                        "United Arab Emirates",
                        "United Kingdom",
                        "United States",
                        "Uruguay",
                        "Venezuela",
                        "Vietnam",
                        "Zimbabwe"
                      ],
                      "marker": {
                        "color": [
                          0,
                          157,
                          159,
                          9,
                          12,
                          40,
                          40,
                          6,
                          1,
                          582,
                          71,
                          572,
                          19,
                          8,
                          284,
                          22,
                          0,
                          1,
                          67,
                          0,
                          3,
                          19,
                          62,
                          1057,
                          0,
                          1415,
                          0,
                          79,
                          5,
                          0,
                          0,
                          2,
                          5791,
                          69,
                          247,
                          25,
                          331,
                          168,
                          3,
                          162,
                          0,
                          110,
                          0,
                          1,
                          624,
                          42,
                          1,
                          13,
                          0,
                          668,
                          76,
                          194,
                          17,
                          217,
                          12,
                          2,
                          93,
                          82,
                          8,
                          0,
                          46,
                          25,
                          8,
                          8,
                          16,
                          9,
                          74,
                          4,
                          435,
                          82,
                          42,
                          128,
                          132,
                          1,
                          273,
                          21,
                          3,
                          71,
                          2807,
                          18113,
                          18,
                          1191,
                          0,
                          0
                        ],
                        "coloraxis": "coloraxis",
                        "size": [
                          87,
                          17036,
                          260054,
                          9845,
                          19080,
                          214,
                          17853,
                          3087,
                          110,
                          30829,
                          2786,
                          195159,
                          4940,
                          2646,
                          9333,
                          2948,
                          203,
                          11470,
                          3249,
                          1562,
                          597,
                          1319,
                          16433,
                          169546,
                          393,
                          624491,
                          2687,
                          4653,
                          96,
                          930,
                          9451,
                          2002,
                          503716,
                          20928,
                          144461,
                          140549,
                          47371,
                          22128,
                          763,
                          133127,
                          124,
                          2460,
                          413,
                          4578,
                          305,
                          225670,
                          10974,
                          5341,
                          338,
                          57709,
                          11434,
                          13430,
                          2616,
                          37421,
                          6146,
                          5248,
                          73504,
                          19383,
                          847,
                          178,
                          5015,
                          2780,
                          3973,
                          3294,
                          1101,
                          1247,
                          19058,
                          8715,
                          123923,
                          57584,
                          2708,
                          17977,
                          59754,
                          178,
                          2543,
                          971,
                          1100,
                          40626,
                          1613079,
                          69980372,
                          39,
                          1492,
                          1137,
                          479
                        ],
                        "sizemode": "area",
                        "sizeref": 174950.93,
                        "symbol": "circle"
                      },
                      "mode": "markers",
                      "name": "",
                      "showlegend": false,
                      "type": "scattergeo"
                    }
                  ],
                  "name": "11"
                },
                {
                  "data": [
                    {
                      "geo": "geo",
                      "hovertemplate": "Hour of Day=13<br>Reach=%{marker.size}<br>Country=%{location}<br>Retweet Count=%{marker.color}<extra></extra>",
                      "legendgroup": "",
                      "locationmode": "country names",
                      "locations": [
                        "Albania",
                        "Argentina",
                        "Australia",
                        "Austria",
                        "Bangladesh",
                        "Belgium",
                        "Bolivia",
                        "Bosnia and Herzegovina",
                        "Brazil",
                        "Bulgaria",
                        "Burkina Faso",
                        "Cameroon",
                        "Canada",
                        "Chile",
                        "China",
                        "Colombia",
                        "Costa Rica",
                        "Croatia",
                        "Cyprus",
                        "Czech Republic",
                        "Denmark",
                        "Dominican Republic",
                        "Ecuador",
                        "Egypt",
                        "Estonia",
                        "Finland",
                        "France",
                        "Germany",
                        "Ghana",
                        "Greece",
                        "Haiti",
                        "Hungary",
                        "Iceland",
                        "India",
                        "Indonesia",
                        "Ireland",
                        "Israel",
                        "Italy",
                        "Japan",
                        "Kenya",
                        "Latvia",
                        "Luxembourg",
                        "Malaysia",
                        "Maldives",
                        "Mauritius",
                        "Mexico",
                        "Morocco",
                        "Netherlands",
                        "New Zealand",
                        "Nicaragua",
                        "Nigeria",
                        "Norway",
                        "Oman",
                        "Pakistan",
                        "Peru",
                        "Philippines",
                        "Poland",
                        "Portugal",
                        "Romania",
                        "Russia",
                        "Russian Federation",
                        "Saint Vincent and the Grenadines",
                        "Saudi Arabia",
                        "Serbia",
                        "Singapore",
                        "Slovenia",
                        "South Africa",
                        "South Korea",
                        "Spain",
                        "Sri Lanka",
                        "Sweden",
                        "Switzerland",
                        "Taiwan",
                        "Tunisia",
                        "Turkey",
                        "Uganda",
                        "Ukraine",
                        "United Arab Emirates",
                        "United Kingdom",
                        "United States",
                        "Uruguay",
                        "Venezuela",
                        "Zambia"
                      ],
                      "marker": {
                        "color": [
                          0,
                          492,
                          1299,
                          42,
                          1,
                          47,
                          1,
                          0,
                          477,
                          5,
                          0,
                          0,
                          344,
                          74,
                          2031,
                          46,
                          6,
                          0,
                          0,
                          65,
                          19,
                          0,
                          14,
                          0,
                          0,
                          65,
                          2174,
                          903,
                          22,
                          22,
                          3,
                          46,
                          1,
                          2795,
                          5,
                          304,
                          10,
                          129,
                          37,
                          62,
                          0,
                          30,
                          72,
                          1,
                          0,
                          14,
                          0,
                          541,
                          201,
                          2,
                          320,
                          1,
                          3,
                          117,
                          22,
                          387,
                          27,
                          18,
                          21,
                          72,
                          1,
                          0,
                          37,
                          63,
                          0,
                          333,
                          475,
                          1,
                          1989,
                          74,
                          129,
                          277,
                          12,
                          1,
                          9,
                          2,
                          0,
                          26,
                          2432,
                          18969,
                          4,
                          78,
                          0
                        ],
                        "coloraxis": "coloraxis",
                        "size": [
                          86,
                          10182,
                          129854,
                          7247,
                          18904,
                          31549,
                          2318,
                          72,
                          31536,
                          444,
                          554,
                          81,
                          875775,
                          3808,
                          39538,
                          13722,
                          43,
                          314,
                          217,
                          16628,
                          606,
                          280,
                          639,
                          155,
                          263,
                          7932,
                          200813,
                          208944,
                          345,
                          6160,
                          1345,
                          889,
                          515,
                          316725,
                          17666,
                          80938,
                          1755,
                          19002,
                          21425,
                          817,
                          356,
                          4633,
                          5232,
                          4799,
                          1970,
                          3481,
                          1560,
                          40051,
                          254610,
                          435,
                          22166,
                          263,
                          2451,
                          7817,
                          1293,
                          11173,
                          25741,
                          6220,
                          3929,
                          4005,
                          231,
                          366,
                          97441,
                          2715,
                          1306,
                          773,
                          16848,
                          6973,
                          88590,
                          153,
                          25172,
                          3382,
                          65,
                          288,
                          5126,
                          187,
                          1034,
                          33693,
                          2394486,
                          41465324,
                          258,
                          1281,
                          721
                        ],
                        "sizemode": "area",
                        "sizeref": 174950.93,
                        "symbol": "circle"
                      },
                      "mode": "markers",
                      "name": "",
                      "showlegend": false,
                      "type": "scattergeo"
                    }
                  ],
                  "name": "13"
                },
                {
                  "data": [
                    {
                      "geo": "geo",
                      "hovertemplate": "Hour of Day=3<br>Reach=%{marker.size}<br>Country=%{location}<br>Retweet Count=%{marker.color}<extra></extra>",
                      "legendgroup": "",
                      "locationmode": "country names",
                      "locations": [
                        "Algeria",
                        "Argentina",
                        "Australia",
                        "Austria",
                        "Bangladesh",
                        "Belgium",
                        "Bosnia and Herzegovina",
                        "Brazil",
                        "Bulgaria",
                        "Canada",
                        "China",
                        "Colombia",
                        "Czech Republic",
                        "Denmark",
                        "Finland",
                        "France",
                        "Germany",
                        "Ghana",
                        "Greece",
                        "Guinea",
                        "Hungary",
                        "Iceland",
                        "India",
                        "Indonesia",
                        "Ireland",
                        "Israel",
                        "Italy",
                        "Jamaica",
                        "Japan",
                        "Kenya",
                        "Lithuania",
                        "Luxembourg",
                        "Malawi",
                        "Malaysia",
                        "Mauritius",
                        "Mongolia",
                        "Morocco",
                        "Nepal",
                        "Netherlands",
                        "New Zealand",
                        "Nigeria",
                        "Norway",
                        "Oman",
                        "Pakistan",
                        "Panama",
                        "Philippines",
                        "Poland",
                        "Portugal",
                        "Qatar",
                        "Romania",
                        "Russia",
                        "Saudi Arabia",
                        "Serbia",
                        "South Africa",
                        "South Korea",
                        "Spain",
                        "Sudan",
                        "Sweden",
                        "Switzerland",
                        "Taiwan",
                        "Thailand",
                        "Turkey",
                        "Ukraine",
                        "United Arab Emirates",
                        "United Kingdom",
                        "United States",
                        "Venezuela",
                        "Viet Nam"
                      ],
                      "marker": {
                        "color": [
                          2,
                          131,
                          633,
                          55,
                          21,
                          47,
                          0,
                          472,
                          28,
                          25,
                          35,
                          3,
                          48,
                          291,
                          403,
                          1803,
                          2407,
                          0,
                          2,
                          0,
                          49,
                          3,
                          5540,
                          315,
                          803,
                          3,
                          409,
                          6,
                          172,
                          0,
                          0,
                          3,
                          0,
                          26,
                          1,
                          1,
                          0,
                          0,
                          850,
                          18,
                          40,
                          148,
                          0,
                          53,
                          0,
                          922,
                          48,
                          9,
                          0,
                          8,
                          256,
                          0,
                          5,
                          9,
                          58,
                          1071,
                          0,
                          227,
                          185,
                          120,
                          9,
                          348,
                          141,
                          2,
                          5520,
                          3496,
                          22,
                          0
                        ],
                        "coloraxis": "coloraxis",
                        "size": [
                          192,
                          4010,
                          157259,
                          5570,
                          5867,
                          12295,
                          105,
                          7365,
                          3036,
                          39083,
                          1285,
                          2184,
                          3618,
                          1649,
                          9961,
                          171746,
                          483458,
                          1973,
                          2009,
                          887,
                          3977,
                          2356,
                          214706,
                          18528,
                          46926,
                          3084,
                          12968,
                          244,
                          16478,
                          53254,
                          61,
                          4047,
                          1249,
                          1151,
                          655,
                          14145,
                          441,
                          479,
                          30402,
                          5715,
                          4651,
                          1745,
                          419,
                          11406,
                          58,
                          10189,
                          7762,
                          2563,
                          165,
                          3747,
                          3046,
                          369,
                          5579,
                          8947,
                          118553,
                          73282,
                          158,
                          163123,
                          9541,
                          41007,
                          664,
                          1916,
                          7374,
                          9249,
                          1739531,
                          4580836,
                          102,
                          138
                        ],
                        "sizemode": "area",
                        "sizeref": 174950.93,
                        "symbol": "circle"
                      },
                      "mode": "markers",
                      "name": "",
                      "showlegend": false,
                      "type": "scattergeo"
                    }
                  ],
                  "name": "3"
                },
                {
                  "data": [
                    {
                      "geo": "geo",
                      "hovertemplate": "Hour of Day=12<br>Reach=%{marker.size}<br>Country=%{location}<br>Retweet Count=%{marker.color}<extra></extra>",
                      "legendgroup": "",
                      "locationmode": "country names",
                      "locations": [
                        "Algeria",
                        "Argentina",
                        "Armenia",
                        "Australia",
                        "Austria",
                        "Bangladesh",
                        "Belarus",
                        "Belgium",
                        "Bolivia",
                        "Brazil",
                        "Bulgaria",
                        "Canada",
                        "Chad",
                        "Chile",
                        "China",
                        "Colombia",
                        "Croatia",
                        "Cuba",
                        "Cyprus",
                        "Czech Republic",
                        "Denmark",
                        "Ecuador",
                        "Egypt",
                        "Estonia",
                        "Finland",
                        "France",
                        "Germany",
                        "Ghana",
                        "Greece",
                        "Hong Kong",
                        "Hungary",
                        "India",
                        "Indonesia",
                        "Ireland",
                        "Israel",
                        "Italy",
                        "Jamaica",
                        "Japan",
                        "Kenya",
                        "Lithuania",
                        "Luxembourg",
                        "Malaysia",
                        "Maldives",
                        "Mexico",
                        "Morocco",
                        "Nepal",
                        "Netherlands",
                        "New Zealand",
                        "Nicaragua",
                        "Nigeria",
                        "Norway",
                        "Pakistan",
                        "Panama",
                        "Peru",
                        "Philippines",
                        "Poland",
                        "Portugal",
                        "Qatar",
                        "Romania",
                        "Russia",
                        "Rwanda",
                        "Saudi Arabia",
                        "Serbia",
                        "Slovenia",
                        "South Africa",
                        "South Korea",
                        "Spain",
                        "Sri Lanka",
                        "Sweden",
                        "Switzerland",
                        "Taiwan",
                        "Tanzania",
                        "Turkey",
                        "Uganda",
                        "Ukraine",
                        "United Arab Emirates",
                        "United Kingdom",
                        "United States",
                        "Uruguay",
                        "Venezuela",
                        "Zambia",
                        "Zimbabwe"
                      ],
                      "marker": {
                        "color": [
                          10,
                          485,
                          24,
                          1295,
                          55,
                          0,
                          20,
                          213,
                          6,
                          1011,
                          4,
                          509,
                          0,
                          5,
                          78,
                          28,
                          7,
                          0,
                          0,
                          34,
                          237,
                          9,
                          0,
                          12,
                          93,
                          1401,
                          1234,
                          0,
                          51,
                          0,
                          81,
                          3950,
                          5,
                          134,
                          18,
                          223,
                          0,
                          140,
                          118,
                          10,
                          4,
                          105,
                          3,
                          152,
                          0,
                          0,
                          768,
                          37,
                          0,
                          26,
                          50,
                          131,
                          1,
                          178,
                          59,
                          252,
                          33,
                          12,
                          15,
                          58,
                          19,
                          0,
                          31,
                          0,
                          142,
                          5,
                          1301,
                          1,
                          262,
                          26,
                          70,
                          53,
                          47,
                          81,
                          66,
                          23,
                          2609,
                          16535,
                          8,
                          75,
                          0,
                          3
                        ],
                        "coloraxis": "coloraxis",
                        "size": [
                          350,
                          26475,
                          106,
                          190624,
                          7728,
                          19126,
                          141,
                          8096,
                          2554,
                          17780,
                          465,
                          664253,
                          167,
                          6138,
                          2760,
                          1315,
                          1496,
                          269,
                          215,
                          5654,
                          4361,
                          602,
                          95,
                          3185,
                          5539,
                          209322,
                          352973,
                          27,
                          5653,
                          36,
                          3019,
                          898344,
                          46968,
                          43716,
                          7710,
                          20974,
                          37,
                          22815,
                          34356,
                          499,
                          3034,
                          6580,
                          9653,
                          32433,
                          1661,
                          331,
                          48615,
                          17575,
                          1248,
                          5402,
                          10526,
                          27632,
                          99,
                          543,
                          2354,
                          13050,
                          3536,
                          6846,
                          8287,
                          6395,
                          936,
                          97816,
                          2956,
                          573,
                          24342,
                          9833,
                          104438,
                          242,
                          34221,
                          3604,
                          9067,
                          553,
                          1424,
                          462,
                          4069,
                          17758,
                          2697991,
                          60256655,
                          938,
                          1577,
                          2116,
                          199
                        ],
                        "sizemode": "area",
                        "sizeref": 174950.93,
                        "symbol": "circle"
                      },
                      "mode": "markers",
                      "name": "",
                      "showlegend": false,
                      "type": "scattergeo"
                    }
                  ],
                  "name": "12"
                },
                {
                  "data": [
                    {
                      "geo": "geo",
                      "hovertemplate": "Hour of Day=4<br>Reach=%{marker.size}<br>Country=%{location}<br>Retweet Count=%{marker.color}<extra></extra>",
                      "legendgroup": "",
                      "locationmode": "country names",
                      "locations": [
                        "Angola",
                        "Argentina",
                        "Australia",
                        "Austria",
                        "Bangladesh",
                        "Belgium",
                        "Bolivia",
                        "Brazil",
                        "Bulgaria",
                        "Canada",
                        "Chile",
                        "China",
                        "Colombia",
                        "Croatia",
                        "Cyprus",
                        "Czech Republic",
                        "Denmark",
                        "Finland",
                        "France",
                        "Germany",
                        "Ghana",
                        "Greece",
                        "Hungary",
                        "India",
                        "Indonesia",
                        "Ireland",
                        "Israel",
                        "Italy",
                        "Japan",
                        "Kenya",
                        "Kyrgyzstan",
                        "Lithuania",
                        "Luxembourg",
                        "Macedonia",
                        "Malaysia",
                        "Mauritius",
                        "Mexico",
                        "Morocco",
                        "Netherlands",
                        "New Zealand",
                        "Nigeria",
                        "Norway",
                        "Pakistan",
                        "Peru",
                        "Philippines",
                        "Poland",
                        "Portugal",
                        "Qatar",
                        "Russia",
                        "Saudi Arabia",
                        "Serbia",
                        "Singapore",
                        "South Africa",
                        "South Korea",
                        "Spain",
                        "Sri Lanka",
                        "Sudan",
                        "Sweden",
                        "Switzerland",
                        "Taiwan",
                        "Thailand",
                        "Turkey",
                        "Uganda",
                        "Ukraine",
                        "United Arab Emirates",
                        "United Kingdom",
                        "United States",
                        "Venezuela",
                        "Viet Nam"
                      ],
                      "marker": {
                        "color": [
                          2,
                          87,
                          1938,
                          344,
                          5,
                          4,
                          5,
                          532,
                          7,
                          30,
                          30,
                          44,
                          29,
                          7,
                          0,
                          5,
                          2,
                          48,
                          1207,
                          1133,
                          0,
                          20,
                          114,
                          5020,
                          57,
                          633,
                          1,
                          221,
                          71,
                          118,
                          4,
                          0,
                          0,
                          3,
                          1,
                          2,
                          1,
                          0,
                          795,
                          6,
                          67,
                          584,
                          237,
                          40,
                          20,
                          23,
                          44,
                          2,
                          1,
                          133,
                          19,
                          0,
                          1,
                          346,
                          1006,
                          0,
                          31,
                          660,
                          5,
                          169,
                          17,
                          13,
                          0,
                          7,
                          51,
                          3884,
                          5315,
                          611,
                          0
                        ],
                        "coloraxis": "coloraxis",
                        "size": [
                          52,
                          17109,
                          108201,
                          10767,
                          19841,
                          40599,
                          48,
                          12104,
                          344,
                          829986,
                          237,
                          2306,
                          6386,
                          697,
                          218,
                          14269,
                          3683,
                          14724,
                          126879,
                          313558,
                          1243,
                          477,
                          10252,
                          372790,
                          27523,
                          58202,
                          73,
                          59742,
                          25590,
                          65771,
                          1056,
                          56,
                          2958,
                          315,
                          306,
                          1980,
                          3757,
                          2088,
                          44433,
                          4663,
                          15505,
                          2357,
                          37042,
                          125,
                          4130,
                          4514,
                          2217,
                          228,
                          3727,
                          4205,
                          46152,
                          792,
                          6033,
                          64512,
                          54701,
                          345,
                          1260,
                          8916,
                          9222,
                          6164,
                          9991,
                          6440,
                          646,
                          20,
                          5669,
                          1407174,
                          3405667,
                          3310,
                          84
                        ],
                        "sizemode": "area",
                        "sizeref": 174950.93,
                        "symbol": "circle"
                      },
                      "mode": "markers",
                      "name": "",
                      "showlegend": false,
                      "type": "scattergeo"
                    }
                  ],
                  "name": "4"
                },
                {
                  "data": [
                    {
                      "geo": "geo",
                      "hovertemplate": "Hour of Day=5<br>Reach=%{marker.size}<br>Country=%{location}<br>Retweet Count=%{marker.color}<extra></extra>",
                      "legendgroup": "",
                      "locationmode": "country names",
                      "locations": [
                        "Angola",
                        "Argentina",
                        "Australia",
                        "Austria",
                        "Bahamas",
                        "Bangladesh",
                        "Belarus",
                        "Belgium",
                        "Brazil",
                        "Bulgaria",
                        "Cambodia",
                        "Cameroon",
                        "Canada",
                        "Chile",
                        "China",
                        "Colombia",
                        "Czech Republic",
                        "Denmark",
                        "Ecuador",
                        "Egypt",
                        "Estonia",
                        "Finland",
                        "France",
                        "Germany",
                        "Greece",
                        "Guinea",
                        "Hungary",
                        "Iceland",
                        "India",
                        "Indonesia",
                        "Ireland",
                        "Israel",
                        "Italy",
                        "Ivory Coast",
                        "Japan",
                        "Jordan",
                        "Kenya",
                        "Korea (Republic of)",
                        "Latvia",
                        "Lithuania",
                        "Luxembourg",
                        "Malaysia",
                        "Mauritius",
                        "Morocco",
                        "Nepal",
                        "Netherlands",
                        "New Zealand",
                        "Nigeria",
                        "Norway",
                        "Oman",
                        "Pakistan",
                        "Peru",
                        "Philippines",
                        "Poland",
                        "Portugal",
                        "Qatar",
                        "Romania",
                        "Russia",
                        "Saudi Arabia",
                        "Serbia",
                        "Slovenia",
                        "South Africa",
                        "South Korea",
                        "South Sudan",
                        "Spain",
                        "Sri Lanka",
                        "Sweden",
                        "Switzerland",
                        "Taiwan",
                        "Thailand",
                        "Tunisia",
                        "Turkey",
                        "Uganda",
                        "Ukraine",
                        "United Arab Emirates",
                        "United Kingdom",
                        "United States",
                        "Venezuela",
                        "Viet Nam",
                        "Zimbabwe"
                      ],
                      "marker": {
                        "color": [
                          26,
                          208,
                          742,
                          4,
                          6,
                          2,
                          4,
                          62,
                          653,
                          1,
                          1,
                          0,
                          92,
                          100,
                          185,
                          169,
                          10,
                          4,
                          3,
                          0,
                          0,
                          20,
                          858,
                          1156,
                          6,
                          0,
                          37,
                          0,
                          3469,
                          62,
                          522,
                          1,
                          189,
                          0,
                          39,
                          1,
                          13,
                          1,
                          1,
                          8,
                          0,
                          1,
                          0,
                          2,
                          0,
                          309,
                          1,
                          182,
                          37,
                          0,
                          267,
                          0,
                          882,
                          218,
                          1,
                          26,
                          25,
                          174,
                          1,
                          7,
                          7,
                          60,
                          47,
                          0,
                          711,
                          21,
                          66,
                          4,
                          116,
                          617,
                          2,
                          25,
                          11,
                          0,
                          4,
                          1875,
                          6342,
                          399,
                          6,
                          102
                        ],
                        "coloraxis": "coloraxis",
                        "size": [
                          63,
                          5428,
                          85378,
                          3526,
                          145,
                          20095,
                          113,
                          72883,
                          13339,
                          65,
                          269,
                          657,
                          658121,
                          4593,
                          6777,
                          16923,
                          3944,
                          2075,
                          1165,
                          112,
                          132,
                          13533,
                          138563,
                          603576,
                          545,
                          914,
                          2580,
                          1539,
                          482548,
                          8465,
                          73173,
                          1807,
                          15798,
                          265,
                          25460,
                          1113,
                          16,
                          544,
                          1980,
                          4327,
                          2839,
                          403,
                          500,
                          84,
                          326,
                          146041,
                          3043,
                          49220,
                          1544,
                          195,
                          77297,
                          574,
                          18391,
                          20562,
                          140,
                          428,
                          947,
                          2906,
                          680,
                          4040,
                          2074,
                          17745,
                          36167,
                          151,
                          51211,
                          41,
                          16641,
                          13678,
                          7098,
                          12785,
                          280,
                          1158,
                          3374,
                          566,
                          8311,
                          1382118,
                          5792696,
                          3294,
                          1274,
                          976
                        ],
                        "sizemode": "area",
                        "sizeref": 174950.93,
                        "symbol": "circle"
                      },
                      "mode": "markers",
                      "name": "",
                      "showlegend": false,
                      "type": "scattergeo"
                    }
                  ],
                  "name": "5"
                },
                {
                  "data": [
                    {
                      "geo": "geo",
                      "hovertemplate": "Hour of Day=18<br>Reach=%{marker.size}<br>Country=%{location}<br>Retweet Count=%{marker.color}<extra></extra>",
                      "legendgroup": "",
                      "locationmode": "country names",
                      "locations": [
                        "Angola",
                        "Argentina",
                        "Australia",
                        "Austria",
                        "Bangladesh",
                        "Belgium",
                        "Bolivia",
                        "Brazil",
                        "Cameroon",
                        "Canada",
                        "Chile",
                        "China",
                        "Colombia",
                        "Cyprus",
                        "Czech Republic",
                        "Denmark",
                        "Dominican Republic",
                        "Ecuador",
                        "Egypt",
                        "Finland",
                        "France",
                        "Georgia",
                        "Germany",
                        "Ghana",
                        "Greece",
                        "Hong Kong",
                        "Hungary",
                        "India",
                        "Indonesia",
                        "Ireland",
                        "Israel",
                        "Italy",
                        "Japan",
                        "Kenya",
                        "Kyrgyzstan",
                        "Latvia",
                        "Malaysia",
                        "Mexico",
                        "Morocco",
                        "Nepal",
                        "Netherlands",
                        "New Zealand",
                        "Nigeria",
                        "Norway",
                        "Pakistan",
                        "Panama",
                        "Papua New Guinea",
                        "Peru",
                        "Philippines",
                        "Portugal",
                        "Qatar",
                        "Romania",
                        "Russia",
                        "Saint Vincent and the Grenadines",
                        "Serbia",
                        "Singapore",
                        "South Africa",
                        "South Korea",
                        "Spain",
                        "Sri Lanka",
                        "Sweden",
                        "Switzerland",
                        "Taiwan",
                        "Thailand",
                        "Turkey",
                        "Uganda",
                        "Ukraine",
                        "United Arab Emirates",
                        "United Kingdom",
                        "United States",
                        "Venezuela",
                        "Viet Nam",
                        "Vietnam"
                      ],
                      "marker": {
                        "color": [
                          49,
                          198,
                          603,
                          2,
                          0,
                          56,
                          0,
                          426,
                          4,
                          184,
                          1,
                          742,
                          118,
                          0,
                          7,
                          22,
                          75,
                          3,
                          5,
                          0,
                          195,
                          0,
                          685,
                          0,
                          0,
                          1,
                          0,
                          1591,
                          42,
                          85,
                          0,
                          3,
                          260,
                          0,
                          4,
                          0,
                          22,
                          33,
                          0,
                          7,
                          135,
                          26,
                          38,
                          5,
                          151,
                          75,
                          3,
                          0,
                          101,
                          68,
                          58,
                          1,
                          4,
                          0,
                          0,
                          1,
                          44,
                          229,
                          210,
                          34,
                          67,
                          2,
                          605,
                          663,
                          0,
                          20,
                          0,
                          1,
                          797,
                          13008,
                          7,
                          0,
                          149
                        ],
                        "coloraxis": "coloraxis",
                        "size": [
                          170,
                          6684,
                          343460,
                          881,
                          13076,
                          4048,
                          247,
                          46716,
                          3802,
                          203351,
                          10147,
                          14382,
                          6978,
                          8731,
                          3708,
                          660,
                          517,
                          2291,
                          20,
                          493,
                          39043,
                          406,
                          91171,
                          214,
                          994,
                          1320,
                          1417,
                          473894,
                          18866,
                          8903,
                          1776,
                          30298,
                          54525,
                          71,
                          406,
                          844,
                          7596,
                          2044,
                          1213,
                          1822,
                          19619,
                          9287,
                          43091,
                          3371,
                          27298,
                          434,
                          131,
                          631,
                          4175,
                          38359,
                          1163,
                          2454,
                          241606,
                          366,
                          796,
                          5190,
                          9421,
                          199827,
                          38251,
                          69,
                          2527,
                          760,
                          42264,
                          3470,
                          9439,
                          3549,
                          606,
                          11910,
                          430007,
                          31276218,
                          1932,
                          408,
                          134
                        ],
                        "sizemode": "area",
                        "sizeref": 174950.93,
                        "symbol": "circle"
                      },
                      "mode": "markers",
                      "name": "",
                      "showlegend": false,
                      "type": "scattergeo"
                    }
                  ],
                  "name": "18"
                },
                {
                  "data": [
                    {
                      "geo": "geo",
                      "hovertemplate": "Hour of Day=22<br>Reach=%{marker.size}<br>Country=%{location}<br>Retweet Count=%{marker.color}<extra></extra>",
                      "legendgroup": "",
                      "locationmode": "country names",
                      "locations": [
                        "Anguilla",
                        "Argentina",
                        "Australia",
                        "Austria",
                        "Bangladesh",
                        "Belgium",
                        "Brazil",
                        "Bulgaria",
                        "Canada",
                        "Chile",
                        "China",
                        "Colombia",
                        "Czech Republic",
                        "Denmark",
                        "Finland",
                        "France",
                        "Georgia",
                        "Germany",
                        "Ghana",
                        "Guinea",
                        "Hong Kong",
                        "Hungary",
                        "India",
                        "Indonesia",
                        "Ireland",
                        "Israel",
                        "Italy",
                        "Japan",
                        "Kenya",
                        "Latvia",
                        "Luxembourg",
                        "Malaysia",
                        "Maldives",
                        "Mauritius",
                        "Mexico",
                        "Mongolia",
                        "Morocco",
                        "Nepal",
                        "Netherlands",
                        "New Zealand",
                        "Nigeria",
                        "Norway",
                        "Pakistan",
                        "Panama",
                        "Peru",
                        "Philippines",
                        "Poland",
                        "Portugal",
                        "Romania",
                        "Russia",
                        "Saudi Arabia",
                        "Serbia",
                        "Slovenia",
                        "South Africa",
                        "South Korea",
                        "Spain",
                        "Sweden",
                        "Switzerland",
                        "Taiwan",
                        "Tajikistan",
                        "Thailand",
                        "Uganda",
                        "Ukraine",
                        "United Arab Emirates",
                        "United Kingdom",
                        "United States",
                        "Venezuela",
                        "Viet Nam",
                        "Vietnam"
                      ],
                      "marker": {
                        "color": [
                          1,
                          121,
                          819,
                          2,
                          0,
                          175,
                          44,
                          24,
                          430,
                          0,
                          1133,
                          0,
                          495,
                          0,
                          70,
                          4366,
                          0,
                          1026,
                          7,
                          0,
                          0,
                          3,
                          5177,
                          81,
                          96,
                          40,
                          207,
                          233,
                          87,
                          27,
                          9,
                          0,
                          1,
                          7,
                          211,
                          3,
                          0,
                          0,
                          14,
                          106,
                          1,
                          0,
                          11,
                          60,
                          0,
                          1020,
                          62,
                          14,
                          42,
                          4,
                          10,
                          2,
                          7,
                          171,
                          233,
                          175,
                          363,
                          0,
                          458,
                          0,
                          38,
                          11,
                          9,
                          13,
                          1016,
                          12995,
                          362,
                          0,
                          0
                        ],
                        "coloraxis": "coloraxis",
                        "size": [
                          267,
                          6262,
                          199800,
                          647,
                          10360,
                          135,
                          9528,
                          387,
                          46246,
                          36621,
                          21557,
                          27987,
                          1401,
                          419,
                          8661,
                          106566,
                          403,
                          50868,
                          120,
                          5304,
                          491,
                          447,
                          314175,
                          26473,
                          4464,
                          1970,
                          4793,
                          29785,
                          2503,
                          89,
                          4720,
                          662,
                          4797,
                          9525,
                          22516,
                          40954,
                          370,
                          593,
                          16058,
                          14131,
                          1189,
                          219,
                          8742,
                          53,
                          1541,
                          13363,
                          12457,
                          1825,
                          761,
                          436,
                          790,
                          4083,
                          565,
                          6750,
                          54204,
                          35379,
                          5129,
                          954,
                          11603,
                          93,
                          3420,
                          330,
                          3202,
                          43746,
                          485813,
                          7672596,
                          1435,
                          866,
                          933
                        ],
                        "sizemode": "area",
                        "sizeref": 174950.93,
                        "symbol": "circle"
                      },
                      "mode": "markers",
                      "name": "",
                      "showlegend": false,
                      "type": "scattergeo"
                    }
                  ],
                  "name": "22"
                },
                {
                  "data": [
                    {
                      "geo": "geo",
                      "hovertemplate": "Hour of Day=0<br>Reach=%{marker.size}<br>Country=%{location}<br>Retweet Count=%{marker.color}<extra></extra>",
                      "legendgroup": "",
                      "locationmode": "country names",
                      "locations": [
                        "Argentina",
                        "Australia",
                        "Austria",
                        "Bahamas",
                        "Bangladesh",
                        "Belgium",
                        "Bosnia and Herzegovina",
                        "Brazil",
                        "Bulgaria",
                        "Cameroon",
                        "Canada",
                        "China",
                        "Colombia",
                        "Croatia",
                        "Cuba",
                        "Czech Republic",
                        "Denmark",
                        "Egypt",
                        "Finland",
                        "France",
                        "Georgia",
                        "Germany",
                        "Ghana",
                        "Greece",
                        "Guinea",
                        "Hong Kong",
                        "Hungary",
                        "India",
                        "Indonesia",
                        "Iraq",
                        "Ireland",
                        "Israel",
                        "Italy",
                        "Japan",
                        "Jordan",
                        "Kenya",
                        "Latvia",
                        "Lebanon",
                        "Luxembourg",
                        "Malaysia",
                        "Mexico",
                        "Morocco",
                        "Nepal",
                        "Netherlands",
                        "New Zealand",
                        "Nigeria",
                        "Norway",
                        "Pakistan",
                        "Philippines",
                        "Poland",
                        "Qatar",
                        "Romania",
                        "Russia",
                        "Serbia",
                        "Singapore",
                        "South Africa",
                        "South Korea",
                        "South Sudan",
                        "Spain",
                        "Sri Lanka",
                        "Sweden",
                        "Switzerland",
                        "Taiwan",
                        "Thailand",
                        "Tunisia",
                        "Turkey",
                        "Uganda",
                        "Ukraine",
                        "United Arab Emirates",
                        "United Kingdom",
                        "United States",
                        "Uruguay",
                        "Venezuela",
                        "Viet Nam",
                        "Vietnam",
                        "Zimbabwe"
                      ],
                      "marker": {
                        "color": [
                          9,
                          1125,
                          134,
                          3,
                          75,
                          33,
                          17,
                          89,
                          4,
                          2,
                          269,
                          1,
                          64,
                          0,
                          0,
                          21,
                          45,
                          0,
                          122,
                          3765,
                          0,
                          3009,
                          11,
                          9,
                          0,
                          0,
                          97,
                          4422,
                          274,
                          0,
                          129,
                          112,
                          139,
                          314,
                          1,
                          2,
                          68,
                          4,
                          0,
                          12,
                          24,
                          67,
                          0,
                          268,
                          55,
                          34,
                          252,
                          89,
                          27,
                          59,
                          1,
                          175,
                          150,
                          3,
                          0,
                          96,
                          213,
                          0,
                          1784,
                          4,
                          724,
                          2,
                          28,
                          32,
                          2,
                          4,
                          0,
                          78,
                          42,
                          2893,
                          9576,
                          0,
                          1,
                          0,
                          0,
                          0
                        ],
                        "coloraxis": "coloraxis",
                        "size": [
                          1393,
                          97156,
                          2188,
                          140,
                          6009,
                          9220,
                          110,
                          11756,
                          598,
                          2548,
                          67163,
                          3421,
                          2729,
                          35,
                          204,
                          1722,
                          22274,
                          1047,
                          26109,
                          153007,
                          410,
                          156060,
                          309,
                          524,
                          6332,
                          19,
                          3089,
                          239207,
                          19424,
                          5825,
                          12821,
                          10969,
                          8759,
                          31436,
                          586,
                          19310,
                          1877,
                          429,
                          2665,
                          1292,
                          2102,
                          3319,
                          698,
                          59077,
                          12788,
                          1713,
                          4774,
                          8757,
                          6756,
                          11133,
                          2735,
                          2554,
                          2279,
                          13188,
                          1211,
                          12557,
                          659006,
                          155,
                          75472,
                          25891,
                          69733,
                          6474,
                          272,
                          1289,
                          206,
                          2124,
                          6164,
                          151,
                          9540,
                          732800,
                          15086415,
                          1288,
                          726,
                          102,
                          2763,
                          4876
                        ],
                        "sizemode": "area",
                        "sizeref": 174950.93,
                        "symbol": "circle"
                      },
                      "mode": "markers",
                      "name": "",
                      "showlegend": false,
                      "type": "scattergeo"
                    }
                  ],
                  "name": "0"
                },
                {
                  "data": [
                    {
                      "geo": "geo",
                      "hovertemplate": "Hour of Day=1<br>Reach=%{marker.size}<br>Country=%{location}<br>Retweet Count=%{marker.color}<extra></extra>",
                      "legendgroup": "",
                      "locationmode": "country names",
                      "locations": [
                        "Argentina",
                        "Australia",
                        "Austria",
                        "Bangladesh",
                        "Belarus",
                        "Belgium",
                        "Bosnia and Herzegovina",
                        "Brazil",
                        "Burundi",
                        "Cambodia",
                        "Cameroon",
                        "Canada",
                        "Chile",
                        "China",
                        "Cyprus",
                        "Czech Republic",
                        "Denmark",
                        "Ecuador",
                        "Egypt",
                        "Estonia",
                        "Finland",
                        "France",
                        "Germany",
                        "Ghana",
                        "Greece",
                        "Guinea",
                        "Hungary",
                        "India",
                        "Indonesia",
                        "Ireland",
                        "Israel",
                        "Italy",
                        "Japan",
                        "Jordan",
                        "Kenya",
                        "Korea (Republic of)",
                        "Latvia",
                        "Lebanon",
                        "Luxembourg",
                        "Macedonia",
                        "Malaysia",
                        "Morocco",
                        "Netherlands",
                        "New Zealand",
                        "Nigeria",
                        "Norway",
                        "Pakistan",
                        "Peru",
                        "Philippines",
                        "Poland",
                        "Portugal",
                        "Qatar",
                        "Romania",
                        "Russia",
                        "Russian Federation",
                        "Saint Vincent and the Grenadines",
                        "Saudi Arabia",
                        "Serbia",
                        "Singapore",
                        "Slovakia",
                        "Slovenia",
                        "South Africa",
                        "South Korea",
                        "Spain",
                        "Sri Lanka",
                        "Sweden",
                        "Switzerland",
                        "Taiwan",
                        "Thailand",
                        "Turkey",
                        "Ukraine",
                        "United Arab Emirates",
                        "United Kingdom",
                        "United States",
                        "Venezuela",
                        "Viet Nam"
                      ],
                      "marker": {
                        "color": [
                          84,
                          1046,
                          0,
                          8,
                          32,
                          423,
                          0,
                          153,
                          8,
                          0,
                          11,
                          198,
                          0,
                          743,
                          156,
                          243,
                          18,
                          1,
                          8,
                          2,
                          333,
                          3965,
                          1858,
                          0,
                          1,
                          0,
                          88,
                          2620,
                          95,
                          528,
                          10,
                          489,
                          154,
                          3,
                          106,
                          0,
                          149,
                          0,
                          14,
                          22,
                          510,
                          407,
                          77,
                          173,
                          155,
                          287,
                          28,
                          0,
                          116,
                          12,
                          20,
                          11,
                          13,
                          309,
                          0,
                          1,
                          34,
                          46,
                          0,
                          72,
                          1559,
                          412,
                          269,
                          1086,
                          0,
                          925,
                          383,
                          323,
                          5,
                          23,
                          33,
                          8,
                          4980,
                          4507,
                          0,
                          2
                        ],
                        "coloraxis": "coloraxis",
                        "size": [
                          5629,
                          154552,
                          366,
                          857,
                          1550,
                          18396,
                          74,
                          12389,
                          1198,
                          28,
                          1449,
                          228422,
                          481,
                          26726,
                          288,
                          5000,
                          5669,
                          604,
                          2694,
                          276,
                          30182,
                          197066,
                          298650,
                          211,
                          324,
                          923,
                          2866,
                          547858,
                          20665,
                          27887,
                          18252,
                          29452,
                          59286,
                          1213,
                          4298,
                          5377,
                          206,
                          30,
                          6170,
                          300,
                          3757,
                          5784,
                          119485,
                          14482,
                          7344,
                          7679,
                          11986,
                          38393,
                          37132,
                          23205,
                          290,
                          2356,
                          8627,
                          4839,
                          86,
                          288,
                          4890,
                          5612,
                          131,
                          226,
                          5112,
                          12635,
                          46377,
                          81816,
                          192,
                          392902,
                          11436,
                          74204,
                          2665,
                          1215,
                          476,
                          5152,
                          622781,
                          26511253,
                          577,
                          828
                        ],
                        "sizemode": "area",
                        "sizeref": 174950.93,
                        "symbol": "circle"
                      },
                      "mode": "markers",
                      "name": "",
                      "showlegend": false,
                      "type": "scattergeo"
                    }
                  ],
                  "name": "1"
                },
                {
                  "data": [
                    {
                      "geo": "geo",
                      "hovertemplate": "Hour of Day=2<br>Reach=%{marker.size}<br>Country=%{location}<br>Retweet Count=%{marker.color}<extra></extra>",
                      "legendgroup": "",
                      "locationmode": "country names",
                      "locations": [
                        "Argentina",
                        "Australia",
                        "Austria",
                        "Bahamas",
                        "Bangladesh",
                        "Belarus",
                        "Belgium",
                        "Bosnia and Herzegovina",
                        "Brazil",
                        "Cambodia",
                        "Cameroon",
                        "Canada",
                        "Chile",
                        "China",
                        "Colombia",
                        "Croatia",
                        "Cyprus",
                        "Czech Republic",
                        "Denmark",
                        "Egypt",
                        "Estonia",
                        "Finland",
                        "France",
                        "Germany",
                        "Ghana",
                        "Greece",
                        "Hungary",
                        "India",
                        "Indonesia",
                        "Ireland",
                        "Israel",
                        "Italy",
                        "Japan",
                        "Jordan",
                        "Kenya",
                        "Kyrgyzstan",
                        "Latvia",
                        "Luxembourg",
                        "Malaysia",
                        "Mexico",
                        "Morocco",
                        "Nepal",
                        "Netherlands",
                        "New Zealand",
                        "Nigeria",
                        "Norway",
                        "Pakistan",
                        "Panama",
                        "Peru",
                        "Philippines",
                        "Poland",
                        "Portugal",
                        "Qatar",
                        "Romania",
                        "Russia",
                        "Rwanda",
                        "Saudi Arabia",
                        "Serbia",
                        "Singapore",
                        "Slovakia",
                        "Slovenia",
                        "South Africa",
                        "South Korea",
                        "Spain",
                        "Sri Lanka",
                        "Sweden",
                        "Switzerland",
                        "Taiwan",
                        "Tanzania",
                        "Thailand",
                        "Turkey",
                        "Ukraine",
                        "United Arab Emirates",
                        "United Kingdom",
                        "United States",
                        "Venezuela",
                        "Viet Nam",
                        "Vietnam",
                        "Zambia"
                      ],
                      "marker": {
                        "color": [
                          14,
                          1443,
                          40,
                          16,
                          3,
                          12,
                          107,
                          0,
                          415,
                          0,
                          1,
                          101,
                          46,
                          142,
                          23,
                          0,
                          0,
                          8,
                          32,
                          2,
                          1,
                          435,
                          3192,
                          2784,
                          106,
                          1,
                          5,
                          7454,
                          1158,
                          813,
                          40,
                          507,
                          60,
                          4,
                          92,
                          0,
                          0,
                          21,
                          665,
                          5,
                          0,
                          1,
                          479,
                          15,
                          89,
                          114,
                          117,
                          1,
                          0,
                          94,
                          173,
                          0,
                          6,
                          4,
                          1,
                          3,
                          17,
                          6,
                          0,
                          0,
                          279,
                          33,
                          66,
                          467,
                          0,
                          161,
                          43,
                          224,
                          26,
                          0,
                          199,
                          73,
                          75,
                          5349,
                          3689,
                          0,
                          0,
                          0,
                          1
                        ],
                        "coloraxis": "coloraxis",
                        "size": [
                          1853,
                          103854,
                          9778,
                          276,
                          6643,
                          113,
                          25028,
                          33,
                          6336,
                          28,
                          2501,
                          23524,
                          1829,
                          5421,
                          8738,
                          142,
                          604,
                          5498,
                          7569,
                          1407,
                          237,
                          31693,
                          242720,
                          162020,
                          3568,
                          2517,
                          2059,
                          257443,
                          12736,
                          70255,
                          8824,
                          25252,
                          21829,
                          41677,
                          88659,
                          142,
                          899,
                          16412,
                          38675,
                          1970,
                          949,
                          24298,
                          33837,
                          8302,
                          2568,
                          2497,
                          10234,
                          328,
                          182,
                          29610,
                          6363,
                          634,
                          3297,
                          2393,
                          11038,
                          457,
                          98208,
                          2342,
                          1048,
                          1368,
                          6486,
                          15161,
                          10414,
                          166432,
                          579,
                          190878,
                          4324,
                          18008,
                          47,
                          678,
                          12167,
                          1919,
                          7377,
                          979620,
                          13994487,
                          9987,
                          690,
                          355,
                          430
                        ],
                        "sizemode": "area",
                        "sizeref": 174950.93,
                        "symbol": "circle"
                      },
                      "mode": "markers",
                      "name": "",
                      "showlegend": false,
                      "type": "scattergeo"
                    }
                  ],
                  "name": "2"
                },
                {
                  "data": [
                    {
                      "geo": "geo",
                      "hovertemplate": "Hour of Day=8<br>Reach=%{marker.size}<br>Country=%{location}<br>Retweet Count=%{marker.color}<extra></extra>",
                      "legendgroup": "",
                      "locationmode": "country names",
                      "locations": [
                        "Argentina",
                        "Australia",
                        "Austria",
                        "Bahamas",
                        "Bangladesh",
                        "Belarus",
                        "Belgium",
                        "Bolivia",
                        "Brazil",
                        "Bulgaria",
                        "Canada",
                        "Chile",
                        "China",
                        "Colombia",
                        "Cuba",
                        "Czech Republic",
                        "Denmark",
                        "Ecuador",
                        "Egypt",
                        "Estonia",
                        "Finland",
                        "France",
                        "Georgia",
                        "Germany",
                        "Greece",
                        "Guyana",
                        "Hungary",
                        "India",
                        "Indonesia",
                        "Ireland",
                        "Israel",
                        "Italy",
                        "Jamaica",
                        "Japan",
                        "Jordan",
                        "Kenya",
                        "Latvia",
                        "Lithuania",
                        "Luxembourg",
                        "Macedonia",
                        "Malaysia",
                        "Mexico",
                        "Morocco",
                        "Nepal",
                        "Netherlands",
                        "New Zealand",
                        "Nigeria",
                        "Norway",
                        "Pakistan",
                        "Panama",
                        "Peru",
                        "Philippines",
                        "Poland",
                        "Portugal",
                        "Romania",
                        "Russia",
                        "Rwanda",
                        "Saudi Arabia",
                        "Serbia",
                        "Singapore",
                        "Slovakia",
                        "South Africa",
                        "South Korea",
                        "Spain",
                        "Sri Lanka",
                        "Sweden",
                        "Switzerland",
                        "Taiwan",
                        "Tanzania",
                        "Thailand",
                        "Turkey",
                        "Uganda",
                        "United Arab Emirates",
                        "United Kingdom",
                        "United States",
                        "Venezuela",
                        "Viet Nam",
                        "Vietnam",
                        "Zimbabwe"
                      ],
                      "marker": {
                        "color": [
                          50,
                          294,
                          71,
                          27,
                          0,
                          1,
                          418,
                          1,
                          637,
                          1,
                          280,
                          2,
                          6,
                          2,
                          1,
                          7,
                          6,
                          4,
                          0,
                          13,
                          46,
                          1555,
                          0,
                          1178,
                          0,
                          16,
                          22,
                          5589,
                          59,
                          153,
                          399,
                          71,
                          6,
                          77,
                          5,
                          10,
                          1,
                          1,
                          11,
                          389,
                          66,
                          128,
                          0,
                          140,
                          70,
                          2,
                          151,
                          11,
                          8,
                          0,
                          104,
                          311,
                          37,
                          74,
                          60,
                          5,
                          4,
                          2,
                          5,
                          0,
                          0,
                          56,
                          269,
                          1334,
                          59,
                          275,
                          57,
                          502,
                          59,
                          5,
                          14,
                          2,
                          36,
                          3340,
                          14930,
                          437,
                          6,
                          5,
                          5
                        ],
                        "coloraxis": "coloraxis",
                        "size": [
                          33020,
                          163820,
                          4349,
                          282,
                          14302,
                          78,
                          47309,
                          7624,
                          17796,
                          4781,
                          67456,
                          1066,
                          1265,
                          24379,
                          3518,
                          1056,
                          1083,
                          81,
                          565,
                          2451,
                          37091,
                          192497,
                          807,
                          182749,
                          443,
                          14,
                          945,
                          389244,
                          23943,
                          90780,
                          2859,
                          43827,
                          1564,
                          19142,
                          343,
                          25295,
                          3778,
                          193,
                          4490,
                          271,
                          3101,
                          962,
                          1856,
                          711,
                          102317,
                          1883,
                          9268,
                          6821,
                          20515,
                          1279,
                          2553,
                          26714,
                          19583,
                          24065,
                          3912,
                          1325,
                          463,
                          407,
                          3693,
                          124,
                          633,
                          14616,
                          12740,
                          125027,
                          546,
                          160906,
                          5288,
                          28561,
                          984,
                          10522,
                          2963,
                          1650,
                          26682,
                          1355768,
                          35269345,
                          8492,
                          1152,
                          70,
                          188
                        ],
                        "sizemode": "area",
                        "sizeref": 174950.93,
                        "symbol": "circle"
                      },
                      "mode": "markers",
                      "name": "",
                      "showlegend": false,
                      "type": "scattergeo"
                    }
                  ],
                  "name": "8"
                },
                {
                  "data": [
                    {
                      "geo": "geo",
                      "hovertemplate": "Hour of Day=14<br>Reach=%{marker.size}<br>Country=%{location}<br>Retweet Count=%{marker.color}<extra></extra>",
                      "legendgroup": "",
                      "locationmode": "country names",
                      "locations": [
                        "Argentina",
                        "Australia",
                        "Austria",
                        "Bangladesh",
                        "Belarus",
                        "Belgium",
                        "Bolivia",
                        "Bosnia and Herzegovina",
                        "Brazil",
                        "Bulgaria",
                        "Canada",
                        "China",
                        "Colombia",
                        "Costa Rica",
                        "Croatia",
                        "Cte d'Ivoire",
                        "Cyprus",
                        "Czech Republic",
                        "Denmark",
                        "Dominican Republic",
                        "Ecuador",
                        "Egypt",
                        "Finland",
                        "France",
                        "Georgia",
                        "Germany",
                        "Ghana",
                        "Greece",
                        "Guatemala",
                        "Hungary",
                        "India",
                        "Indonesia",
                        "Ireland",
                        "Israel",
                        "Italy",
                        "Japan",
                        "Jordan",
                        "Kenya",
                        "Latvia",
                        "Luxembourg",
                        "Macedonia",
                        "Malaysia",
                        "Mexico",
                        "Moldova",
                        "Mongolia",
                        "Netherlands",
                        "New Zealand",
                        "Nigeria",
                        "Norway",
                        "Pakistan",
                        "Palestinian Territory",
                        "Peru",
                        "Philippines",
                        "Poland",
                        "Portugal",
                        "Romania",
                        "Russia",
                        "Russian Federation",
                        "Rwanda",
                        "Serbia",
                        "Singapore",
                        "Slovakia",
                        "Slovenia",
                        "South Africa",
                        "South Korea",
                        "Spain",
                        "Sweden",
                        "Switzerland",
                        "Taiwan",
                        "Tanzania",
                        "Thailand",
                        "Tunisia",
                        "Turkey",
                        "Uganda",
                        "United Arab Emirates",
                        "United Kingdom",
                        "United States",
                        "Venezuela"
                      ],
                      "marker": {
                        "color": [
                          73,
                          2261,
                          208,
                          0,
                          0,
                          15,
                          0,
                          1,
                          633,
                          1,
                          667,
                          488,
                          128,
                          0,
                          90,
                          0,
                          4,
                          8,
                          9,
                          0,
                          193,
                          0,
                          144,
                          2694,
                          0,
                          1500,
                          97,
                          1,
                          0,
                          198,
                          947,
                          14,
                          259,
                          39,
                          366,
                          220,
                          3,
                          71,
                          0,
                          1,
                          6,
                          7,
                          275,
                          60,
                          3,
                          497,
                          197,
                          2,
                          7,
                          88,
                          77,
                          127,
                          356,
                          264,
                          47,
                          76,
                          13,
                          0,
                          13,
                          55,
                          9,
                          0,
                          2,
                          232,
                          250,
                          1208,
                          145,
                          59,
                          18,
                          4,
                          1,
                          1,
                          181,
                          3,
                          5,
                          2931,
                          17554,
                          1031
                        ],
                        "coloraxis": "coloraxis",
                        "size": [
                          20291,
                          153140,
                          5904,
                          12840,
                          27,
                          4419,
                          2197,
                          444,
                          15853,
                          2752,
                          296855,
                          11699,
                          11503,
                          1300,
                          110,
                          596,
                          7170,
                          1431,
                          1269,
                          348,
                          2692,
                          98,
                          9020,
                          132936,
                          826,
                          241759,
                          246,
                          6428,
                          2054,
                          2624,
                          137037,
                          17214,
                          54835,
                          9166,
                          20737,
                          49972,
                          2509,
                          737,
                          3089,
                          1390,
                          215,
                          369,
                          6904,
                          12,
                          3632,
                          66123,
                          77632,
                          7764,
                          3462,
                          26503,
                          1072,
                          2089,
                          9247,
                          22054,
                          2296,
                          654,
                          7168,
                          312,
                          571,
                          5523,
                          315,
                          6,
                          435,
                          12433,
                          85077,
                          134213,
                          77484,
                          5632,
                          5358,
                          927,
                          381,
                          269,
                          14338,
                          2214,
                          32504,
                          1169608,
                          56014774,
                          5043
                        ],
                        "sizemode": "area",
                        "sizeref": 174950.93,
                        "symbol": "circle"
                      },
                      "mode": "markers",
                      "name": "",
                      "showlegend": false,
                      "type": "scattergeo"
                    }
                  ],
                  "name": "14"
                },
                {
                  "data": [
                    {
                      "geo": "geo",
                      "hovertemplate": "Hour of Day=15<br>Reach=%{marker.size}<br>Country=%{location}<br>Retweet Count=%{marker.color}<extra></extra>",
                      "legendgroup": "",
                      "locationmode": "country names",
                      "locations": [
                        "Argentina",
                        "Australia",
                        "Austria",
                        "Bangladesh",
                        "Belgium",
                        "Benin",
                        "Bolivia",
                        "Bolivia (Plurinational State of)",
                        "Bosnia and Herzegovina",
                        "Brazil",
                        "Bulgaria",
                        "Canada",
                        "Chile",
                        "China",
                        "Colombia",
                        "Croatia",
                        "Cyprus",
                        "Czech Republic",
                        "Denmark",
                        "Ecuador",
                        "El Salvador",
                        "Estonia",
                        "Finland",
                        "France",
                        "Georgia",
                        "Germany",
                        "Ghana",
                        "Greece",
                        "Hungary",
                        "Iceland",
                        "India",
                        "Indonesia",
                        "Ireland",
                        "Israel",
                        "Italy",
                        "Ivory Coast",
                        "Japan",
                        "Kenya",
                        "Latvia",
                        "Malaysia",
                        "Maldives",
                        "Mexico",
                        "Morocco",
                        "Netherlands",
                        "New Zealand",
                        "Nigeria",
                        "Norway",
                        "Oman",
                        "Pakistan",
                        "Panama",
                        "Paraguay",
                        "Peru",
                        "Philippines",
                        "Poland",
                        "Portugal",
                        "Qatar",
                        "Republic of the Congo",
                        "Romania",
                        "Russia",
                        "Saudi Arabia",
                        "Serbia",
                        "Singapore",
                        "Slovakia",
                        "South Africa",
                        "South Korea",
                        "Spain",
                        "Sri Lanka",
                        "Sweden",
                        "Switzerland",
                        "Taiwan",
                        "Thailand",
                        "Tunisia",
                        "Turkey",
                        "Uganda",
                        "Ukraine",
                        "United Arab Emirates",
                        "United Kingdom",
                        "United States",
                        "Venezuela",
                        "Venezuela (Bolivarian Republic of)"
                      ],
                      "marker": {
                        "color": [
                          181,
                          2432,
                          6,
                          1,
                          72,
                          1,
                          0,
                          0,
                          1,
                          494,
                          0,
                          83,
                          13,
                          3,
                          491,
                          5,
                          1,
                          23,
                          222,
                          10,
                          0,
                          2,
                          78,
                          944,
                          0,
                          1203,
                          12,
                          0,
                          277,
                          1,
                          878,
                          2,
                          369,
                          65,
                          352,
                          0,
                          253,
                          2,
                          0,
                          118,
                          1,
                          98,
                          0,
                          377,
                          288,
                          20,
                          30,
                          0,
                          4,
                          0,
                          1,
                          0,
                          160,
                          75,
                          23,
                          7,
                          5,
                          16,
                          5,
                          4,
                          6,
                          0,
                          151,
                          86,
                          37,
                          1591,
                          0,
                          730,
                          2,
                          96,
                          66,
                          1,
                          12,
                          137,
                          89,
                          1,
                          4127,
                          18502,
                          166,
                          4
                        ],
                        "coloraxis": "coloraxis",
                        "size": [
                          8757,
                          419206,
                          2195,
                          6951,
                          15892,
                          157,
                          4043,
                          226,
                          60,
                          48863,
                          777,
                          144729,
                          42388,
                          1098,
                          11559,
                          25,
                          436,
                          849,
                          2293,
                          1690,
                          6351,
                          5685,
                          4680,
                          179884,
                          403,
                          395703,
                          11444,
                          436,
                          1201,
                          622,
                          478312,
                          10821,
                          110563,
                          1584,
                          21843,
                          574,
                          110355,
                          971,
                          3416,
                          33688,
                          4818,
                          6735,
                          1577,
                          21157,
                          22835,
                          45315,
                          5555,
                          649,
                          21232,
                          130,
                          178,
                          7103,
                          67008,
                          6076,
                          22418,
                          1000,
                          18730,
                          4345,
                          581,
                          879,
                          2559,
                          91,
                          975,
                          11293,
                          49669,
                          95643,
                          327,
                          11705,
                          1423,
                          20419,
                          2130,
                          150,
                          19768,
                          3340,
                          1069,
                          30436,
                          918685,
                          53306065,
                          22898,
                          2320
                        ],
                        "sizemode": "area",
                        "sizeref": 174950.93,
                        "symbol": "circle"
                      },
                      "mode": "markers",
                      "name": "",
                      "showlegend": false,
                      "type": "scattergeo"
                    }
                  ],
                  "name": "15"
                },
                {
                  "data": [
                    {
                      "geo": "geo",
                      "hovertemplate": "Hour of Day=16<br>Reach=%{marker.size}<br>Country=%{location}<br>Retweet Count=%{marker.color}<extra></extra>",
                      "legendgroup": "",
                      "locationmode": "country names",
                      "locations": [
                        "Argentina",
                        "Australia",
                        "Austria",
                        "Bangladesh",
                        "Belgium",
                        "Brazil",
                        "Bulgaria",
                        "Canada",
                        "Chile",
                        "China",
                        "Colombia",
                        "Costa Rica",
                        "Croatia",
                        "Czech Republic",
                        "Ecuador",
                        "Egypt",
                        "Estonia",
                        "Finland",
                        "France",
                        "Germany",
                        "Ghana",
                        "Greece",
                        "Hong Kong",
                        "India",
                        "Indonesia",
                        "Ireland",
                        "Israel",
                        "Italy",
                        "Ivory Coast",
                        "Japan",
                        "Kenya",
                        "Lebanon",
                        "Luxembourg",
                        "Malaysia",
                        "Mexico",
                        "Nepal",
                        "Netherlands",
                        "New Zealand",
                        "Nigeria",
                        "Norway",
                        "Pakistan",
                        "Panama",
                        "Peru",
                        "Philippines",
                        "Poland",
                        "Portugal",
                        "Qatar",
                        "Romania",
                        "Russia",
                        "Saint Vincent and the Grenadines",
                        "Saudi Arabia",
                        "Serbia",
                        "Singapore",
                        "South Africa",
                        "South Korea",
                        "Spain",
                        "Sri Lanka",
                        "Sweden",
                        "Switzerland",
                        "Taiwan",
                        "Thailand",
                        "Turkey",
                        "Uganda",
                        "Ukraine",
                        "United Arab Emirates",
                        "United Kingdom",
                        "United States",
                        "Venezuela",
                        "Vietnam"
                      ],
                      "marker": {
                        "color": [
                          125,
                          1798,
                          1,
                          0,
                          175,
                          2705,
                          4,
                          323,
                          58,
                          127,
                          121,
                          0,
                          2,
                          43,
                          1,
                          1,
                          6,
                          6,
                          913,
                          1303,
                          2,
                          2,
                          11,
                          959,
                          41,
                          74,
                          16,
                          328,
                          1,
                          542,
                          0,
                          0,
                          0,
                          15,
                          18,
                          6,
                          132,
                          811,
                          4,
                          4,
                          0,
                          39,
                          23,
                          218,
                          17,
                          24,
                          7,
                          4,
                          5,
                          0,
                          0,
                          11,
                          0,
                          98,
                          113,
                          479,
                          0,
                          64,
                          7,
                          276,
                          149,
                          1,
                          39,
                          0,
                          10,
                          2573,
                          16413,
                          568,
                          0
                        ],
                        "coloraxis": "coloraxis",
                        "size": [
                          11546,
                          417346,
                          672,
                          2469,
                          54339,
                          24120,
                          387,
                          101229,
                          1306,
                          5290,
                          6421,
                          644,
                          91,
                          4612,
                          153,
                          12599,
                          1268,
                          4575,
                          105496,
                          284818,
                          863,
                          4541,
                          993,
                          216378,
                          47787,
                          32998,
                          5699,
                          18756,
                          260,
                          108129,
                          13502,
                          272,
                          1668,
                          1166,
                          6205,
                          46,
                          58057,
                          33752,
                          9150,
                          2000,
                          17767,
                          3683,
                          6066,
                          66651,
                          8476,
                          3776,
                          990,
                          1614,
                          2098,
                          2588,
                          959,
                          2327,
                          244,
                          14013,
                          173407,
                          138239,
                          151,
                          20960,
                          5225,
                          18746,
                          1251,
                          10131,
                          1164,
                          1472,
                          7894,
                          683864,
                          64630356,
                          2092,
                          111
                        ],
                        "sizemode": "area",
                        "sizeref": 174950.93,
                        "symbol": "circle"
                      },
                      "mode": "markers",
                      "name": "",
                      "showlegend": false,
                      "type": "scattergeo"
                    }
                  ],
                  "name": "16"
                },
                {
                  "data": [
                    {
                      "geo": "geo",
                      "hovertemplate": "Hour of Day=17<br>Reach=%{marker.size}<br>Country=%{location}<br>Retweet Count=%{marker.color}<extra></extra>",
                      "legendgroup": "",
                      "locationmode": "country names",
                      "locations": [
                        "Argentina",
                        "Australia",
                        "Austria",
                        "Bangladesh",
                        "Belgium",
                        "Botswana",
                        "Brazil",
                        "Canada",
                        "Chile",
                        "China",
                        "Colombia",
                        "Croatia",
                        "Cyprus",
                        "Czech Republic",
                        "Denmark",
                        "Ecuador",
                        "Egypt",
                        "Estonia",
                        "Finland",
                        "France",
                        "Germany",
                        "Ghana",
                        "Hungary",
                        "India",
                        "Indonesia",
                        "Ireland",
                        "Israel",
                        "Italy",
                        "Ivory Coast",
                        "Jamaica",
                        "Japan",
                        "Kenya",
                        "Korea (Republic of)",
                        "Latvia",
                        "Lebanon",
                        "Luxembourg",
                        "Malaysia",
                        "Mexico",
                        "Mongolia",
                        "Morocco",
                        "Nepal",
                        "Netherlands",
                        "New Zealand",
                        "Nigeria",
                        "Norway",
                        "Pakistan",
                        "Panama",
                        "Peru",
                        "Philippines",
                        "Poland",
                        "Portugal",
                        "Puerto Rico",
                        "Qatar",
                        "Romania",
                        "Russia",
                        "Saint Vincent and the Grenadines",
                        "Saudi Arabia",
                        "Serbia",
                        "Singapore",
                        "South Africa",
                        "South Korea",
                        "Spain",
                        "Sweden",
                        "Switzerland",
                        "Taiwan",
                        "Thailand",
                        "Tunisia",
                        "Turkey",
                        "Uganda",
                        "Ukraine",
                        "United Arab Emirates",
                        "United Kingdom",
                        "United States",
                        "Venezuela",
                        "Venezuela (Bolivarian Republic of)",
                        "Viet Nam",
                        "Vietnam",
                        "Zambia"
                      ],
                      "marker": {
                        "color": [
                          261,
                          1364,
                          22,
                          0,
                          19,
                          1,
                          494,
                          258,
                          26,
                          2793,
                          65,
                          0,
                          2,
                          19,
                          34,
                          23,
                          0,
                          0,
                          15,
                          169,
                          632,
                          271,
                          28,
                          909,
                          21,
                          61,
                          0,
                          71,
                          5,
                          102,
                          301,
                          0,
                          1,
                          15,
                          0,
                          0,
                          51,
                          41,
                          21,
                          10,
                          0,
                          641,
                          26,
                          0,
                          0,
                          6,
                          0,
                          88,
                          6,
                          28,
                          2,
                          9,
                          0,
                          0,
                          12,
                          0,
                          5,
                          2,
                          0,
                          1,
                          238,
                          1039,
                          7,
                          2,
                          378,
                          0,
                          1,
                          7,
                          13,
                          0,
                          9,
                          1196,
                          15729,
                          186,
                          0,
                          4,
                          8,
                          0
                        ],
                        "coloraxis": "coloraxis",
                        "size": [
                          4620,
                          529759,
                          3234,
                          14130,
                          16496,
                          3714,
                          25392,
                          48885,
                          18747,
                          55441,
                          3000,
                          3327,
                          410,
                          3316,
                          4831,
                          1464,
                          3463,
                          3393,
                          2546,
                          130767,
                          220567,
                          3522,
                          1535,
                          737385,
                          22316,
                          12928,
                          1752,
                          39663,
                          297,
                          975,
                          174867,
                          376,
                          49,
                          5128,
                          114,
                          1438,
                          19680,
                          11903,
                          10493,
                          1402,
                          583,
                          47075,
                          13315,
                          3917,
                          124,
                          29974,
                          62,
                          1429,
                          8898,
                          7065,
                          581,
                          390,
                          2640,
                          212,
                          970,
                          1756,
                          753,
                          883,
                          380,
                          9308,
                          353401,
                          102366,
                          4013,
                          896,
                          20603,
                          957,
                          274,
                          2667,
                          1424,
                          290,
                          30123,
                          466859,
                          35137532,
                          2037,
                          27,
                          402,
                          432,
                          23
                        ],
                        "sizemode": "area",
                        "sizeref": 174950.93,
                        "symbol": "circle"
                      },
                      "mode": "markers",
                      "name": "",
                      "showlegend": false,
                      "type": "scattergeo"
                    }
                  ],
                  "name": "17"
                },
                {
                  "data": [
                    {
                      "geo": "geo",
                      "hovertemplate": "Hour of Day=19<br>Reach=%{marker.size}<br>Country=%{location}<br>Retweet Count=%{marker.color}<extra></extra>",
                      "legendgroup": "",
                      "locationmode": "country names",
                      "locations": [
                        "Argentina",
                        "Australia",
                        "Austria",
                        "Bangladesh",
                        "Belgium",
                        "Brazil",
                        "Cambodia",
                        "Cameroon",
                        "Canada",
                        "Chile",
                        "China",
                        "Colombia",
                        "Cuba",
                        "Cyprus",
                        "Czech Republic",
                        "Ecuador",
                        "Estonia",
                        "France",
                        "Georgia",
                        "Germany",
                        "Ghana",
                        "Greece",
                        "Hungary",
                        "India",
                        "Indonesia",
                        "Ireland",
                        "Israel",
                        "Italy",
                        "Japan",
                        "Jordan",
                        "Kenya",
                        "Latvia",
                        "Malaysia",
                        "Mexico",
                        "Mongolia",
                        "Morocco",
                        "Netherlands",
                        "New Zealand",
                        "Nigeria",
                        "Norway",
                        "Pakistan",
                        "Paraguay",
                        "Peru",
                        "Philippines",
                        "Poland",
                        "Portugal",
                        "Saudi Arabia",
                        "Serbia",
                        "Singapore",
                        "South Africa",
                        "South Korea",
                        "Spain",
                        "Sri Lanka",
                        "Sweden",
                        "Switzerland",
                        "Taiwan",
                        "Thailand",
                        "Turkey",
                        "United Arab Emirates",
                        "United Kingdom",
                        "United States",
                        "Venezuela",
                        "Viet Nam",
                        "Vietnam"
                      ],
                      "marker": {
                        "color": [
                          121,
                          1167,
                          9,
                          29,
                          99,
                          999,
                          0,
                          0,
                          424,
                          51,
                          33,
                          326,
                          0,
                          1,
                          0,
                          45,
                          2,
                          163,
                          0,
                          110,
                          12,
                          3,
                          0,
                          3915,
                          30,
                          12,
                          1,
                          0,
                          255,
                          0,
                          0,
                          0,
                          0,
                          6,
                          3,
                          0,
                          0,
                          102,
                          56,
                          11,
                          30,
                          34,
                          81,
                          166,
                          2,
                          74,
                          11,
                          4,
                          4,
                          1,
                          82,
                          69,
                          0,
                          0,
                          0,
                          274,
                          50,
                          45,
                          4,
                          727,
                          39875,
                          252,
                          0,
                          31
                        ],
                        "coloraxis": "coloraxis",
                        "size": [
                          9179,
                          436920,
                          1471,
                          15586,
                          30996,
                          121592,
                          354,
                          3048,
                          222505,
                          10440,
                          1277,
                          6652,
                          197,
                          216,
                          80,
                          244,
                          2018,
                          15913,
                          403,
                          114759,
                          2170,
                          4050,
                          658,
                          292934,
                          8708,
                          8999,
                          122,
                          29377,
                          57033,
                          423,
                          483,
                          1717,
                          2353,
                          3577,
                          3628,
                          1912,
                          5374,
                          97649,
                          3773,
                          119,
                          30759,
                          285,
                          2744,
                          21856,
                          1624,
                          955,
                          398,
                          2239,
                          1401,
                          6390,
                          91567,
                          13025,
                          346,
                          1238,
                          1237,
                          73322,
                          9836,
                          159,
                          8358,
                          269052,
                          29033035,
                          3625,
                          460,
                          2070
                        ],
                        "sizemode": "area",
                        "sizeref": 174950.93,
                        "symbol": "circle"
                      },
                      "mode": "markers",
                      "name": "",
                      "showlegend": false,
                      "type": "scattergeo"
                    }
                  ],
                  "name": "19"
                },
                {
                  "data": [
                    {
                      "geo": "geo",
                      "hovertemplate": "Hour of Day=20<br>Reach=%{marker.size}<br>Country=%{location}<br>Retweet Count=%{marker.color}<extra></extra>",
                      "legendgroup": "",
                      "locationmode": "country names",
                      "locations": [
                        "Argentina",
                        "Australia",
                        "Bangladesh",
                        "Belgium",
                        "Brazil",
                        "Cambodia",
                        "Canada",
                        "Chile",
                        "China",
                        "Colombia",
                        "Costa Rica",
                        "Cuba",
                        "Cyprus",
                        "Democratic Republic of the Congo",
                        "Denmark",
                        "Ecuador",
                        "Egypt",
                        "El Salvador",
                        "Finland",
                        "France",
                        "Germany",
                        "Ghana",
                        "Guatemala",
                        "Honduras",
                        "Hungary",
                        "India",
                        "Indonesia",
                        "Ireland",
                        "Italy",
                        "Japan",
                        "Korea (Republic of)",
                        "Latvia",
                        "Malaysia",
                        "Mexico",
                        "Morocco",
                        "Nepal",
                        "Netherlands",
                        "New Zealand",
                        "Nicaragua",
                        "Nigeria",
                        "Norway",
                        "Pakistan",
                        "Panama",
                        "Peru",
                        "Philippines",
                        "Poland",
                        "Portugal",
                        "Romania",
                        "Russia",
                        "Russian Federation",
                        "Saudi Arabia",
                        "Serbia",
                        "Singapore",
                        "Solomon Islands",
                        "South Africa",
                        "South Korea",
                        "Spain",
                        "Sri Lanka",
                        "Sweden",
                        "Switzerland",
                        "Taiwan",
                        "Thailand",
                        "United Arab Emirates",
                        "United Kingdom",
                        "United States",
                        "Uruguay",
                        "Venezuela",
                        "Viet Nam",
                        "Vietnam"
                      ],
                      "marker": {
                        "color": [
                          85,
                          818,
                          12,
                          5,
                          451,
                          0,
                          237,
                          22,
                          23,
                          266,
                          18,
                          1,
                          0,
                          15,
                          0,
                          0,
                          0,
                          9,
                          7,
                          212,
                          305,
                          1,
                          65,
                          44,
                          0,
                          5117,
                          0,
                          11,
                          10,
                          376,
                          11,
                          0,
                          49,
                          25,
                          105,
                          52,
                          22,
                          225,
                          5,
                          2,
                          0,
                          3,
                          2,
                          35,
                          178,
                          1,
                          19,
                          322,
                          16,
                          0,
                          1,
                          0,
                          3,
                          0,
                          9,
                          771,
                          33,
                          0,
                          1,
                          0,
                          353,
                          86,
                          36,
                          303,
                          15777,
                          65,
                          380,
                          2,
                          0
                        ],
                        "coloraxis": "coloraxis",
                        "size": [
                          6944,
                          169691,
                          7916,
                          10547,
                          4912,
                          152,
                          65113,
                          36864,
                          3699,
                          2674,
                          1334,
                          116,
                          8489,
                          6,
                          43,
                          1282,
                          0,
                          111,
                          569,
                          50988,
                          60793,
                          1189,
                          3755,
                          517,
                          2827,
                          167288,
                          6744,
                          7912,
                          2520,
                          77352,
                          427,
                          1681,
                          4082,
                          4672,
                          3953,
                          26509,
                          7799,
                          22908,
                          434,
                          2909,
                          320,
                          15902,
                          26,
                          979,
                          4305,
                          5127,
                          3597,
                          29,
                          160,
                          312,
                          61727,
                          1044,
                          1614,
                          1688,
                          164,
                          79293,
                          10257,
                          2082,
                          4362,
                          1111,
                          19055,
                          5823,
                          13172,
                          237826,
                          20810242,
                          85,
                          829,
                          758,
                          359
                        ],
                        "sizemode": "area",
                        "sizeref": 174950.93,
                        "symbol": "circle"
                      },
                      "mode": "markers",
                      "name": "",
                      "showlegend": false,
                      "type": "scattergeo"
                    }
                  ],
                  "name": "20"
                },
                {
                  "data": [
                    {
                      "geo": "geo",
                      "hovertemplate": "Hour of Day=21<br>Reach=%{marker.size}<br>Country=%{location}<br>Retweet Count=%{marker.color}<extra></extra>",
                      "legendgroup": "",
                      "locationmode": "country names",
                      "locations": [
                        "Argentina",
                        "Australia",
                        "Austria",
                        "Bangladesh",
                        "Belgium",
                        "Brazil",
                        "Bulgaria",
                        "Canada",
                        "Chile",
                        "China",
                        "Colombia",
                        "Ecuador",
                        "Estonia",
                        "Finland",
                        "France",
                        "Germany",
                        "Ghana",
                        "Hungary",
                        "India",
                        "Indonesia",
                        "Ireland",
                        "Italy",
                        "Japan",
                        "Kenya",
                        "Latvia",
                        "Malaysia",
                        "Maldives",
                        "Mexico",
                        "Montenegro",
                        "Morocco",
                        "Nepal",
                        "Netherlands",
                        "New Zealand",
                        "Nigeria",
                        "Pakistan",
                        "Panama",
                        "Peru",
                        "Philippines",
                        "Poland",
                        "Russia",
                        "Saudi Arabia",
                        "Serbia",
                        "Singapore",
                        "South Africa",
                        "South Korea",
                        "Spain",
                        "Sweden",
                        "Switzerland",
                        "Taiwan",
                        "Thailand",
                        "Turkey",
                        "Uganda",
                        "United Arab Emirates",
                        "United Kingdom",
                        "United States",
                        "Venezuela",
                        "Viet Nam",
                        "Vietnam"
                      ],
                      "marker": {
                        "color": [
                          90,
                          1120,
                          0,
                          1,
                          40,
                          130,
                          1,
                          478,
                          131,
                          2889,
                          90,
                          154,
                          43,
                          26,
                          666,
                          133,
                          114,
                          4,
                          5037,
                          164,
                          1,
                          0,
                          25,
                          24,
                          1,
                          3,
                          0,
                          119,
                          14,
                          19,
                          0,
                          464,
                          300,
                          6,
                          101,
                          8,
                          76,
                          9,
                          0,
                          134,
                          1,
                          0,
                          0,
                          63,
                          190,
                          45,
                          108,
                          0,
                          505,
                          83,
                          15,
                          157,
                          35,
                          494,
                          14451,
                          68,
                          2,
                          0
                        ],
                        "coloraxis": "coloraxis",
                        "size": [
                          19553,
                          139431,
                          447,
                          1668,
                          35060,
                          1110,
                          87,
                          530859,
                          527,
                          103823,
                          3544,
                          155,
                          477,
                          1389,
                          29129,
                          131668,
                          3856,
                          1871,
                          216752,
                          14340,
                          7433,
                          28583,
                          20063,
                          5089,
                          1682,
                          882,
                          4797,
                          2421,
                          208,
                          116,
                          1031,
                          16860,
                          6826,
                          20269,
                          9143,
                          3977,
                          1020,
                          5744,
                          1209,
                          426,
                          4030,
                          2682,
                          54241,
                          4467,
                          18673,
                          33520,
                          2454,
                          405,
                          16494,
                          14746,
                          17854,
                          490,
                          23785,
                          228825,
                          6743872,
                          15793,
                          248,
                          569
                        ],
                        "sizemode": "area",
                        "sizeref": 174950.93,
                        "symbol": "circle"
                      },
                      "mode": "markers",
                      "name": "",
                      "showlegend": false,
                      "type": "scattergeo"
                    }
                  ],
                  "name": "21"
                },
                {
                  "data": [
                    {
                      "geo": "geo",
                      "hovertemplate": "Hour of Day=23<br>Reach=%{marker.size}<br>Country=%{location}<br>Retweet Count=%{marker.color}<extra></extra>",
                      "legendgroup": "",
                      "locationmode": "country names",
                      "locations": [
                        "Argentina",
                        "Australia",
                        "Austria",
                        "Bahamas",
                        "Bangladesh",
                        "Belarus",
                        "Belgium",
                        "Bolivia",
                        "Bosnia and Herzegovina",
                        "Brazil",
                        "Bulgaria",
                        "Canada",
                        "Chile",
                        "China",
                        "Colombia",
                        "Czech Republic",
                        "Denmark",
                        "Ecuador",
                        "Finland",
                        "France",
                        "Germany",
                        "Ghana",
                        "Greece",
                        "Guinea",
                        "Hong Kong",
                        "Hungary",
                        "India",
                        "Indonesia",
                        "Ireland",
                        "Israel",
                        "Italy",
                        "Japan",
                        "Kenya",
                        "Latvia",
                        "Luxembourg",
                        "Macao",
                        "Malaysia",
                        "Mexico",
                        "Morocco",
                        "Netherlands",
                        "New Zealand",
                        "Nigeria",
                        "Norway",
                        "Pakistan",
                        "Panama",
                        "Peru",
                        "Philippines",
                        "Poland",
                        "Qatar",
                        "Romania",
                        "Russia",
                        "Saudi Arabia",
                        "Serbia",
                        "Singapore",
                        "Slovenia",
                        "South Africa",
                        "South Korea",
                        "Spain",
                        "Sri Lanka",
                        "Sudan",
                        "Sweden",
                        "Switzerland",
                        "Syria",
                        "Taiwan",
                        "Thailand",
                        "Turkey",
                        "Uganda",
                        "Ukraine",
                        "United Arab Emirates",
                        "United Kingdom",
                        "United States",
                        "Vietnam"
                      ],
                      "marker": {
                        "color": [
                          206,
                          967,
                          24,
                          12,
                          0,
                          5,
                          219,
                          1,
                          2,
                          98,
                          4,
                          155,
                          23,
                          263,
                          133,
                          0,
                          109,
                          162,
                          366,
                          3963,
                          2110,
                          0,
                          2,
                          0,
                          0,
                          18,
                          4622,
                          318,
                          1,
                          69,
                          56,
                          313,
                          0,
                          234,
                          1,
                          8,
                          7,
                          10,
                          7,
                          606,
                          79,
                          42,
                          11,
                          2,
                          0,
                          1,
                          40,
                          6,
                          0,
                          14,
                          68,
                          4,
                          7,
                          0,
                          385,
                          150,
                          446,
                          1185,
                          0,
                          5,
                          478,
                          68,
                          0,
                          82,
                          11,
                          94,
                          233,
                          59,
                          12,
                          1065,
                          10914,
                          21
                        ],
                        "coloraxis": "coloraxis",
                        "size": [
                          2816,
                          266367,
                          6302,
                          145,
                          1559,
                          1212,
                          42048,
                          1958,
                          118,
                          9232,
                          715,
                          28639,
                          30,
                          823,
                          2571,
                          342,
                          1562,
                          597,
                          11785,
                          130132,
                          63140,
                          196,
                          2199,
                          1800,
                          5509,
                          1852,
                          254991,
                          7495,
                          7116,
                          3268,
                          13642,
                          13600,
                          15937,
                          1144,
                          4290,
                          39,
                          141,
                          8210,
                          946,
                          13916,
                          5321,
                          5519,
                          3620,
                          9849,
                          905,
                          606,
                          3411,
                          8973,
                          549,
                          2579,
                          715,
                          8944,
                          832,
                          952,
                          1246,
                          36847,
                          48816,
                          25386,
                          34,
                          369,
                          5420,
                          3704,
                          347,
                          12456,
                          2333,
                          2453,
                          121,
                          6213,
                          6277,
                          352399,
                          8025620,
                          27
                        ],
                        "sizemode": "area",
                        "sizeref": 174950.93,
                        "symbol": "circle"
                      },
                      "mode": "markers",
                      "name": "",
                      "showlegend": false,
                      "type": "scattergeo"
                    }
                  ],
                  "name": "23"
                }
              ],
              "layout": {
                "coloraxis": {
                  "colorbar": {
                    "title": {
                      "text": "Retweet Count"
                    }
                  },
                  "colorscale": [
                    [
                      0,
                      "#0d0887"
                    ],
                    [
                      0.1111111111111111,
                      "#46039f"
                    ],
                    [
                      0.2222222222222222,
                      "#7201a8"
                    ],
                    [
                      0.3333333333333333,
                      "#9c179e"
                    ],
                    [
                      0.4444444444444444,
                      "#bd3786"
                    ],
                    [
                      0.5555555555555556,
                      "#d8576b"
                    ],
                    [
                      0.6666666666666666,
                      "#ed7953"
                    ],
                    [
                      0.7777777777777778,
                      "#fb9f3a"
                    ],
                    [
                      0.8888888888888888,
                      "#fdca26"
                    ],
                    [
                      1,
                      "#f0f921"
                    ]
                  ]
                },
                "geo": {
                  "center": {},
                  "domain": {
                    "x": [
                      0,
                      1
                    ],
                    "y": [
                      0,
                      1
                    ]
                  }
                },
                "legend": {
                  "itemsizing": "constant",
                  "tracegroupgap": 0
                },
                "sliders": [
                  {
                    "active": 0,
                    "currentvalue": {
                      "prefix": "Hour of Day="
                    },
                    "len": 0.9,
                    "pad": {
                      "b": 10,
                      "t": 60
                    },
                    "steps": [
                      {
                        "args": [
                          [
                            "6"
                          ],
                          {
                            "frame": {
                              "duration": 0,
                              "redraw": true
                            },
                            "fromcurrent": true,
                            "mode": "immediate",
                            "transition": {
                              "duration": 0,
                              "easing": "linear"
                            }
                          }
                        ],
                        "label": "6",
                        "method": "animate"
                      },
                      {
                        "args": [
                          [
                            "7"
                          ],
                          {
                            "frame": {
                              "duration": 0,
                              "redraw": true
                            },
                            "fromcurrent": true,
                            "mode": "immediate",
                            "transition": {
                              "duration": 0,
                              "easing": "linear"
                            }
                          }
                        ],
                        "label": "7",
                        "method": "animate"
                      },
                      {
                        "args": [
                          [
                            "9"
                          ],
                          {
                            "frame": {
                              "duration": 0,
                              "redraw": true
                            },
                            "fromcurrent": true,
                            "mode": "immediate",
                            "transition": {
                              "duration": 0,
                              "easing": "linear"
                            }
                          }
                        ],
                        "label": "9",
                        "method": "animate"
                      },
                      {
                        "args": [
                          [
                            "10"
                          ],
                          {
                            "frame": {
                              "duration": 0,
                              "redraw": true
                            },
                            "fromcurrent": true,
                            "mode": "immediate",
                            "transition": {
                              "duration": 0,
                              "easing": "linear"
                            }
                          }
                        ],
                        "label": "10",
                        "method": "animate"
                      },
                      {
                        "args": [
                          [
                            "11"
                          ],
                          {
                            "frame": {
                              "duration": 0,
                              "redraw": true
                            },
                            "fromcurrent": true,
                            "mode": "immediate",
                            "transition": {
                              "duration": 0,
                              "easing": "linear"
                            }
                          }
                        ],
                        "label": "11",
                        "method": "animate"
                      },
                      {
                        "args": [
                          [
                            "13"
                          ],
                          {
                            "frame": {
                              "duration": 0,
                              "redraw": true
                            },
                            "fromcurrent": true,
                            "mode": "immediate",
                            "transition": {
                              "duration": 0,
                              "easing": "linear"
                            }
                          }
                        ],
                        "label": "13",
                        "method": "animate"
                      },
                      {
                        "args": [
                          [
                            "3"
                          ],
                          {
                            "frame": {
                              "duration": 0,
                              "redraw": true
                            },
                            "fromcurrent": true,
                            "mode": "immediate",
                            "transition": {
                              "duration": 0,
                              "easing": "linear"
                            }
                          }
                        ],
                        "label": "3",
                        "method": "animate"
                      },
                      {
                        "args": [
                          [
                            "12"
                          ],
                          {
                            "frame": {
                              "duration": 0,
                              "redraw": true
                            },
                            "fromcurrent": true,
                            "mode": "immediate",
                            "transition": {
                              "duration": 0,
                              "easing": "linear"
                            }
                          }
                        ],
                        "label": "12",
                        "method": "animate"
                      },
                      {
                        "args": [
                          [
                            "4"
                          ],
                          {
                            "frame": {
                              "duration": 0,
                              "redraw": true
                            },
                            "fromcurrent": true,
                            "mode": "immediate",
                            "transition": {
                              "duration": 0,
                              "easing": "linear"
                            }
                          }
                        ],
                        "label": "4",
                        "method": "animate"
                      },
                      {
                        "args": [
                          [
                            "5"
                          ],
                          {
                            "frame": {
                              "duration": 0,
                              "redraw": true
                            },
                            "fromcurrent": true,
                            "mode": "immediate",
                            "transition": {
                              "duration": 0,
                              "easing": "linear"
                            }
                          }
                        ],
                        "label": "5",
                        "method": "animate"
                      },
                      {
                        "args": [
                          [
                            "18"
                          ],
                          {
                            "frame": {
                              "duration": 0,
                              "redraw": true
                            },
                            "fromcurrent": true,
                            "mode": "immediate",
                            "transition": {
                              "duration": 0,
                              "easing": "linear"
                            }
                          }
                        ],
                        "label": "18",
                        "method": "animate"
                      },
                      {
                        "args": [
                          [
                            "22"
                          ],
                          {
                            "frame": {
                              "duration": 0,
                              "redraw": true
                            },
                            "fromcurrent": true,
                            "mode": "immediate",
                            "transition": {
                              "duration": 0,
                              "easing": "linear"
                            }
                          }
                        ],
                        "label": "22",
                        "method": "animate"
                      },
                      {
                        "args": [
                          [
                            "0"
                          ],
                          {
                            "frame": {
                              "duration": 0,
                              "redraw": true
                            },
                            "fromcurrent": true,
                            "mode": "immediate",
                            "transition": {
                              "duration": 0,
                              "easing": "linear"
                            }
                          }
                        ],
                        "label": "0",
                        "method": "animate"
                      },
                      {
                        "args": [
                          [
                            "1"
                          ],
                          {
                            "frame": {
                              "duration": 0,
                              "redraw": true
                            },
                            "fromcurrent": true,
                            "mode": "immediate",
                            "transition": {
                              "duration": 0,
                              "easing": "linear"
                            }
                          }
                        ],
                        "label": "1",
                        "method": "animate"
                      },
                      {
                        "args": [
                          [
                            "2"
                          ],
                          {
                            "frame": {
                              "duration": 0,
                              "redraw": true
                            },
                            "fromcurrent": true,
                            "mode": "immediate",
                            "transition": {
                              "duration": 0,
                              "easing": "linear"
                            }
                          }
                        ],
                        "label": "2",
                        "method": "animate"
                      },
                      {
                        "args": [
                          [
                            "8"
                          ],
                          {
                            "frame": {
                              "duration": 0,
                              "redraw": true
                            },
                            "fromcurrent": true,
                            "mode": "immediate",
                            "transition": {
                              "duration": 0,
                              "easing": "linear"
                            }
                          }
                        ],
                        "label": "8",
                        "method": "animate"
                      },
                      {
                        "args": [
                          [
                            "14"
                          ],
                          {
                            "frame": {
                              "duration": 0,
                              "redraw": true
                            },
                            "fromcurrent": true,
                            "mode": "immediate",
                            "transition": {
                              "duration": 0,
                              "easing": "linear"
                            }
                          }
                        ],
                        "label": "14",
                        "method": "animate"
                      },
                      {
                        "args": [
                          [
                            "15"
                          ],
                          {
                            "frame": {
                              "duration": 0,
                              "redraw": true
                            },
                            "fromcurrent": true,
                            "mode": "immediate",
                            "transition": {
                              "duration": 0,
                              "easing": "linear"
                            }
                          }
                        ],
                        "label": "15",
                        "method": "animate"
                      },
                      {
                        "args": [
                          [
                            "16"
                          ],
                          {
                            "frame": {
                              "duration": 0,
                              "redraw": true
                            },
                            "fromcurrent": true,
                            "mode": "immediate",
                            "transition": {
                              "duration": 0,
                              "easing": "linear"
                            }
                          }
                        ],
                        "label": "16",
                        "method": "animate"
                      },
                      {
                        "args": [
                          [
                            "17"
                          ],
                          {
                            "frame": {
                              "duration": 0,
                              "redraw": true
                            },
                            "fromcurrent": true,
                            "mode": "immediate",
                            "transition": {
                              "duration": 0,
                              "easing": "linear"
                            }
                          }
                        ],
                        "label": "17",
                        "method": "animate"
                      },
                      {
                        "args": [
                          [
                            "19"
                          ],
                          {
                            "frame": {
                              "duration": 0,
                              "redraw": true
                            },
                            "fromcurrent": true,
                            "mode": "immediate",
                            "transition": {
                              "duration": 0,
                              "easing": "linear"
                            }
                          }
                        ],
                        "label": "19",
                        "method": "animate"
                      },
                      {
                        "args": [
                          [
                            "20"
                          ],
                          {
                            "frame": {
                              "duration": 0,
                              "redraw": true
                            },
                            "fromcurrent": true,
                            "mode": "immediate",
                            "transition": {
                              "duration": 0,
                              "easing": "linear"
                            }
                          }
                        ],
                        "label": "20",
                        "method": "animate"
                      },
                      {
                        "args": [
                          [
                            "21"
                          ],
                          {
                            "frame": {
                              "duration": 0,
                              "redraw": true
                            },
                            "fromcurrent": true,
                            "mode": "immediate",
                            "transition": {
                              "duration": 0,
                              "easing": "linear"
                            }
                          }
                        ],
                        "label": "21",
                        "method": "animate"
                      },
                      {
                        "args": [
                          [
                            "23"
                          ],
                          {
                            "frame": {
                              "duration": 0,
                              "redraw": true
                            },
                            "fromcurrent": true,
                            "mode": "immediate",
                            "transition": {
                              "duration": 0,
                              "easing": "linear"
                            }
                          }
                        ],
                        "label": "23",
                        "method": "animate"
                      }
                    ],
                    "x": 0.1,
                    "xanchor": "left",
                    "y": 0,
                    "yanchor": "top"
                  }
                ],
                "template": {
                  "data": {
                    "bar": [
                      {
                        "error_x": {
                          "color": "#2a3f5f"
                        },
                        "error_y": {
                          "color": "#2a3f5f"
                        },
                        "marker": {
                          "line": {
                            "color": "#E5ECF6",
                            "width": 0.5
                          },
                          "pattern": {
                            "fillmode": "overlay",
                            "size": 10,
                            "solidity": 0.2
                          }
                        },
                        "type": "bar"
                      }
                    ],
                    "barpolar": [
                      {
                        "marker": {
                          "line": {
                            "color": "#E5ECF6",
                            "width": 0.5
                          },
                          "pattern": {
                            "fillmode": "overlay",
                            "size": 10,
                            "solidity": 0.2
                          }
                        },
                        "type": "barpolar"
                      }
                    ],
                    "carpet": [
                      {
                        "aaxis": {
                          "endlinecolor": "#2a3f5f",
                          "gridcolor": "white",
                          "linecolor": "white",
                          "minorgridcolor": "white",
                          "startlinecolor": "#2a3f5f"
                        },
                        "baxis": {
                          "endlinecolor": "#2a3f5f",
                          "gridcolor": "white",
                          "linecolor": "white",
                          "minorgridcolor": "white",
                          "startlinecolor": "#2a3f5f"
                        },
                        "type": "carpet"
                      }
                    ],
                    "choropleth": [
                      {
                        "colorbar": {
                          "outlinewidth": 0,
                          "ticks": ""
                        },
                        "type": "choropleth"
                      }
                    ],
                    "contour": [
                      {
                        "colorbar": {
                          "outlinewidth": 0,
                          "ticks": ""
                        },
                        "colorscale": [
                          [
                            0,
                            "#0d0887"
                          ],
                          [
                            0.1111111111111111,
                            "#46039f"
                          ],
                          [
                            0.2222222222222222,
                            "#7201a8"
                          ],
                          [
                            0.3333333333333333,
                            "#9c179e"
                          ],
                          [
                            0.4444444444444444,
                            "#bd3786"
                          ],
                          [
                            0.5555555555555556,
                            "#d8576b"
                          ],
                          [
                            0.6666666666666666,
                            "#ed7953"
                          ],
                          [
                            0.7777777777777778,
                            "#fb9f3a"
                          ],
                          [
                            0.8888888888888888,
                            "#fdca26"
                          ],
                          [
                            1,
                            "#f0f921"
                          ]
                        ],
                        "type": "contour"
                      }
                    ],
                    "contourcarpet": [
                      {
                        "colorbar": {
                          "outlinewidth": 0,
                          "ticks": ""
                        },
                        "type": "contourcarpet"
                      }
                    ],
                    "heatmap": [
                      {
                        "colorbar": {
                          "outlinewidth": 0,
                          "ticks": ""
                        },
                        "colorscale": [
                          [
                            0,
                            "#0d0887"
                          ],
                          [
                            0.1111111111111111,
                            "#46039f"
                          ],
                          [
                            0.2222222222222222,
                            "#7201a8"
                          ],
                          [
                            0.3333333333333333,
                            "#9c179e"
                          ],
                          [
                            0.4444444444444444,
                            "#bd3786"
                          ],
                          [
                            0.5555555555555556,
                            "#d8576b"
                          ],
                          [
                            0.6666666666666666,
                            "#ed7953"
                          ],
                          [
                            0.7777777777777778,
                            "#fb9f3a"
                          ],
                          [
                            0.8888888888888888,
                            "#fdca26"
                          ],
                          [
                            1,
                            "#f0f921"
                          ]
                        ],
                        "type": "heatmap"
                      }
                    ],
                    "heatmapgl": [
                      {
                        "colorbar": {
                          "outlinewidth": 0,
                          "ticks": ""
                        },
                        "colorscale": [
                          [
                            0,
                            "#0d0887"
                          ],
                          [
                            0.1111111111111111,
                            "#46039f"
                          ],
                          [
                            0.2222222222222222,
                            "#7201a8"
                          ],
                          [
                            0.3333333333333333,
                            "#9c179e"
                          ],
                          [
                            0.4444444444444444,
                            "#bd3786"
                          ],
                          [
                            0.5555555555555556,
                            "#d8576b"
                          ],
                          [
                            0.6666666666666666,
                            "#ed7953"
                          ],
                          [
                            0.7777777777777778,
                            "#fb9f3a"
                          ],
                          [
                            0.8888888888888888,
                            "#fdca26"
                          ],
                          [
                            1,
                            "#f0f921"
                          ]
                        ],
                        "type": "heatmapgl"
                      }
                    ],
                    "histogram": [
                      {
                        "marker": {
                          "pattern": {
                            "fillmode": "overlay",
                            "size": 10,
                            "solidity": 0.2
                          }
                        },
                        "type": "histogram"
                      }
                    ],
                    "histogram2d": [
                      {
                        "colorbar": {
                          "outlinewidth": 0,
                          "ticks": ""
                        },
                        "colorscale": [
                          [
                            0,
                            "#0d0887"
                          ],
                          [
                            0.1111111111111111,
                            "#46039f"
                          ],
                          [
                            0.2222222222222222,
                            "#7201a8"
                          ],
                          [
                            0.3333333333333333,
                            "#9c179e"
                          ],
                          [
                            0.4444444444444444,
                            "#bd3786"
                          ],
                          [
                            0.5555555555555556,
                            "#d8576b"
                          ],
                          [
                            0.6666666666666666,
                            "#ed7953"
                          ],
                          [
                            0.7777777777777778,
                            "#fb9f3a"
                          ],
                          [
                            0.8888888888888888,
                            "#fdca26"
                          ],
                          [
                            1,
                            "#f0f921"
                          ]
                        ],
                        "type": "histogram2d"
                      }
                    ],
                    "histogram2dcontour": [
                      {
                        "colorbar": {
                          "outlinewidth": 0,
                          "ticks": ""
                        },
                        "colorscale": [
                          [
                            0,
                            "#0d0887"
                          ],
                          [
                            0.1111111111111111,
                            "#46039f"
                          ],
                          [
                            0.2222222222222222,
                            "#7201a8"
                          ],
                          [
                            0.3333333333333333,
                            "#9c179e"
                          ],
                          [
                            0.4444444444444444,
                            "#bd3786"
                          ],
                          [
                            0.5555555555555556,
                            "#d8576b"
                          ],
                          [
                            0.6666666666666666,
                            "#ed7953"
                          ],
                          [
                            0.7777777777777778,
                            "#fb9f3a"
                          ],
                          [
                            0.8888888888888888,
                            "#fdca26"
                          ],
                          [
                            1,
                            "#f0f921"
                          ]
                        ],
                        "type": "histogram2dcontour"
                      }
                    ],
                    "mesh3d": [
                      {
                        "colorbar": {
                          "outlinewidth": 0,
                          "ticks": ""
                        },
                        "type": "mesh3d"
                      }
                    ],
                    "parcoords": [
                      {
                        "line": {
                          "colorbar": {
                            "outlinewidth": 0,
                            "ticks": ""
                          }
                        },
                        "type": "parcoords"
                      }
                    ],
                    "pie": [
                      {
                        "automargin": true,
                        "type": "pie"
                      }
                    ],
                    "scatter": [
                      {
                        "fillpattern": {
                          "fillmode": "overlay",
                          "size": 10,
                          "solidity": 0.2
                        },
                        "type": "scatter"
                      }
                    ],
                    "scatter3d": [
                      {
                        "line": {
                          "colorbar": {
                            "outlinewidth": 0,
                            "ticks": ""
                          }
                        },
                        "marker": {
                          "colorbar": {
                            "outlinewidth": 0,
                            "ticks": ""
                          }
                        },
                        "type": "scatter3d"
                      }
                    ],
                    "scattercarpet": [
                      {
                        "marker": {
                          "colorbar": {
                            "outlinewidth": 0,
                            "ticks": ""
                          }
                        },
                        "type": "scattercarpet"
                      }
                    ],
                    "scattergeo": [
                      {
                        "marker": {
                          "colorbar": {
                            "outlinewidth": 0,
                            "ticks": ""
                          }
                        },
                        "type": "scattergeo"
                      }
                    ],
                    "scattergl": [
                      {
                        "marker": {
                          "colorbar": {
                            "outlinewidth": 0,
                            "ticks": ""
                          }
                        },
                        "type": "scattergl"
                      }
                    ],
                    "scattermapbox": [
                      {
                        "marker": {
                          "colorbar": {
                            "outlinewidth": 0,
                            "ticks": ""
                          }
                        },
                        "type": "scattermapbox"
                      }
                    ],
                    "scatterpolar": [
                      {
                        "marker": {
                          "colorbar": {
                            "outlinewidth": 0,
                            "ticks": ""
                          }
                        },
                        "type": "scatterpolar"
                      }
                    ],
                    "scatterpolargl": [
                      {
                        "marker": {
                          "colorbar": {
                            "outlinewidth": 0,
                            "ticks": ""
                          }
                        },
                        "type": "scatterpolargl"
                      }
                    ],
                    "scatterternary": [
                      {
                        "marker": {
                          "colorbar": {
                            "outlinewidth": 0,
                            "ticks": ""
                          }
                        },
                        "type": "scatterternary"
                      }
                    ],
                    "surface": [
                      {
                        "colorbar": {
                          "outlinewidth": 0,
                          "ticks": ""
                        },
                        "colorscale": [
                          [
                            0,
                            "#0d0887"
                          ],
                          [
                            0.1111111111111111,
                            "#46039f"
                          ],
                          [
                            0.2222222222222222,
                            "#7201a8"
                          ],
                          [
                            0.3333333333333333,
                            "#9c179e"
                          ],
                          [
                            0.4444444444444444,
                            "#bd3786"
                          ],
                          [
                            0.5555555555555556,
                            "#d8576b"
                          ],
                          [
                            0.6666666666666666,
                            "#ed7953"
                          ],
                          [
                            0.7777777777777778,
                            "#fb9f3a"
                          ],
                          [
                            0.8888888888888888,
                            "#fdca26"
                          ],
                          [
                            1,
                            "#f0f921"
                          ]
                        ],
                        "type": "surface"
                      }
                    ],
                    "table": [
                      {
                        "cells": {
                          "fill": {
                            "color": "#EBF0F8"
                          },
                          "line": {
                            "color": "white"
                          }
                        },
                        "header": {
                          "fill": {
                            "color": "#C8D4E3"
                          },
                          "line": {
                            "color": "white"
                          }
                        },
                        "type": "table"
                      }
                    ]
                  },
                  "layout": {
                    "annotationdefaults": {
                      "arrowcolor": "#2a3f5f",
                      "arrowhead": 0,
                      "arrowwidth": 1
                    },
                    "autotypenumbers": "strict",
                    "coloraxis": {
                      "colorbar": {
                        "outlinewidth": 0,
                        "ticks": ""
                      }
                    },
                    "colorscale": {
                      "diverging": [
                        [
                          0,
                          "#8e0152"
                        ],
                        [
                          0.1,
                          "#c51b7d"
                        ],
                        [
                          0.2,
                          "#de77ae"
                        ],
                        [
                          0.3,
                          "#f1b6da"
                        ],
                        [
                          0.4,
                          "#fde0ef"
                        ],
                        [
                          0.5,
                          "#f7f7f7"
                        ],
                        [
                          0.6,
                          "#e6f5d0"
                        ],
                        [
                          0.7,
                          "#b8e186"
                        ],
                        [
                          0.8,
                          "#7fbc41"
                        ],
                        [
                          0.9,
                          "#4d9221"
                        ],
                        [
                          1,
                          "#276419"
                        ]
                      ],
                      "sequential": [
                        [
                          0,
                          "#0d0887"
                        ],
                        [
                          0.1111111111111111,
                          "#46039f"
                        ],
                        [
                          0.2222222222222222,
                          "#7201a8"
                        ],
                        [
                          0.3333333333333333,
                          "#9c179e"
                        ],
                        [
                          0.4444444444444444,
                          "#bd3786"
                        ],
                        [
                          0.5555555555555556,
                          "#d8576b"
                        ],
                        [
                          0.6666666666666666,
                          "#ed7953"
                        ],
                        [
                          0.7777777777777778,
                          "#fb9f3a"
                        ],
                        [
                          0.8888888888888888,
                          "#fdca26"
                        ],
                        [
                          1,
                          "#f0f921"
                        ]
                      ],
                      "sequentialminus": [
                        [
                          0,
                          "#0d0887"
                        ],
                        [
                          0.1111111111111111,
                          "#46039f"
                        ],
                        [
                          0.2222222222222222,
                          "#7201a8"
                        ],
                        [
                          0.3333333333333333,
                          "#9c179e"
                        ],
                        [
                          0.4444444444444444,
                          "#bd3786"
                        ],
                        [
                          0.5555555555555556,
                          "#d8576b"
                        ],
                        [
                          0.6666666666666666,
                          "#ed7953"
                        ],
                        [
                          0.7777777777777778,
                          "#fb9f3a"
                        ],
                        [
                          0.8888888888888888,
                          "#fdca26"
                        ],
                        [
                          1,
                          "#f0f921"
                        ]
                      ]
                    },
                    "colorway": [
                      "#636efa",
                      "#EF553B",
                      "#00cc96",
                      "#ab63fa",
                      "#FFA15A",
                      "#19d3f3",
                      "#FF6692",
                      "#B6E880",
                      "#FF97FF",
                      "#FECB52"
                    ],
                    "font": {
                      "color": "#2a3f5f"
                    },
                    "geo": {
                      "bgcolor": "white",
                      "lakecolor": "white",
                      "landcolor": "#E5ECF6",
                      "showlakes": true,
                      "showland": true,
                      "subunitcolor": "white"
                    },
                    "hoverlabel": {
                      "align": "left"
                    },
                    "hovermode": "closest",
                    "mapbox": {
                      "style": "light"
                    },
                    "paper_bgcolor": "white",
                    "plot_bgcolor": "#E5ECF6",
                    "polar": {
                      "angularaxis": {
                        "gridcolor": "white",
                        "linecolor": "white",
                        "ticks": ""
                      },
                      "bgcolor": "#E5ECF6",
                      "radialaxis": {
                        "gridcolor": "white",
                        "linecolor": "white",
                        "ticks": ""
                      }
                    },
                    "scene": {
                      "xaxis": {
                        "backgroundcolor": "#E5ECF6",
                        "gridcolor": "white",
                        "gridwidth": 2,
                        "linecolor": "white",
                        "showbackground": true,
                        "ticks": "",
                        "zerolinecolor": "white"
                      },
                      "yaxis": {
                        "backgroundcolor": "#E5ECF6",
                        "gridcolor": "white",
                        "gridwidth": 2,
                        "linecolor": "white",
                        "showbackground": true,
                        "ticks": "",
                        "zerolinecolor": "white"
                      },
                      "zaxis": {
                        "backgroundcolor": "#E5ECF6",
                        "gridcolor": "white",
                        "gridwidth": 2,
                        "linecolor": "white",
                        "showbackground": true,
                        "ticks": "",
                        "zerolinecolor": "white"
                      }
                    },
                    "shapedefaults": {
                      "line": {
                        "color": "#2a3f5f"
                      }
                    },
                    "ternary": {
                      "aaxis": {
                        "gridcolor": "white",
                        "linecolor": "white",
                        "ticks": ""
                      },
                      "baxis": {
                        "gridcolor": "white",
                        "linecolor": "white",
                        "ticks": ""
                      },
                      "bgcolor": "#E5ECF6",
                      "caxis": {
                        "gridcolor": "white",
                        "linecolor": "white",
                        "ticks": ""
                      }
                    },
                    "title": {
                      "x": 0.05
                    },
                    "xaxis": {
                      "automargin": true,
                      "gridcolor": "white",
                      "linecolor": "white",
                      "ticks": "",
                      "title": {
                        "standoff": 15
                      },
                      "zerolinecolor": "white",
                      "zerolinewidth": 2
                    },
                    "yaxis": {
                      "automargin": true,
                      "gridcolor": "white",
                      "linecolor": "white",
                      "ticks": "",
                      "title": {
                        "standoff": 15
                      },
                      "zerolinecolor": "white",
                      "zerolinewidth": 2
                    }
                  }
                },
                "title": {
                  "text": "Animated Bubble Map of Tweet Metrics"
                },
                "updatemenus": [
                  {
                    "buttons": [
                      {
                        "args": [
                          null,
                          {
                            "frame": {
                              "duration": 500,
                              "redraw": true
                            },
                            "fromcurrent": true,
                            "mode": "immediate",
                            "transition": {
                              "duration": 500,
                              "easing": "linear"
                            }
                          }
                        ],
                        "label": "&#9654;",
                        "method": "animate"
                      },
                      {
                        "args": [
                          [
                            null
                          ],
                          {
                            "frame": {
                              "duration": 0,
                              "redraw": true
                            },
                            "fromcurrent": true,
                            "mode": "immediate",
                            "transition": {
                              "duration": 0,
                              "easing": "linear"
                            }
                          }
                        ],
                        "label": "&#9724;",
                        "method": "animate"
                      }
                    ],
                    "direction": "left",
                    "pad": {
                      "r": 10,
                      "t": 70
                    },
                    "showactive": false,
                    "type": "buttons",
                    "x": 0.1,
                    "xanchor": "right",
                    "y": 0,
                    "yanchor": "top"
                  }
                ]
              }
            }
          },
          "metadata": {},
          "output_type": "display_data"
        }
      ],
      "source": [
        "import plotly.express as px\n",
        "\n",
        "# Assuming you have 'Country', 'Hour', 'Reach', 'RetweetCount', 'Likes' columns\n",
        "# Aggregate data by country and hour\n",
        "aggregated_df = df.groupby(['Country', 'Hour']).agg({\n",
        "    'Reach': 'sum',\n",
        "    'RetweetCount': 'sum',\n",
        "    'Likes': 'sum'\n",
        "}).reset_index()\n",
        "\n",
        "# Create an animated bubble map\n",
        "fig = px.scatter_geo(aggregated_df, locations='Country', locationmode='country names', size='Reach',\n",
        "                     animation_frame='Hour', color='RetweetCount',\n",
        "                     title='Animated Bubble Map of Tweet Metrics',\n",
        "                     labels={'Country': 'Country', 'Reach': 'Reach', 'RetweetCount': 'Retweet Count', 'Hour': 'Hour of Day'})\n",
        "\n",
        "fig.show()\n"
      ]
    },
    {
      "cell_type": "markdown",
      "metadata": {
        "id": "-KThb8iCzZvV"
      },
      "source": [
        "The animated bubble map provides a dynamic and interactive way to visualize tweet metrics (Reach, Retweet Count) across different countries and hours. It facilitates understanding of temporal and geographic patterns in tweet engagement, supporting data-driven decisions for social media strategy optimization, audience targeting, and content scheduling."
      ]
    },
    {
      "cell_type": "markdown",
      "metadata": {
        "id": "Tq6gWa5Zzc2h"
      },
      "source": [
        "## **Insights:**\n",
        "**Temporal and Geographic Trends:**\n",
        "\n",
        "Track how metrics such as Reach and Retweet Count vary across different hours of the day and in different countries.\n",
        "Identify peak hours or periods when tweets achieve higher reach or receive more retweets, which can inform optimal posting times.\n",
        "\n",
        "**Comparative Analysis:**\n",
        "\n",
        "Compare engagement metrics (Retweet Count) with reach (Reach) visually using bubble size and color intensity.\n",
        "Spot correlations between high reach and high retweet counts, indicating popular or viral tweets that resonate across multiple countries.\n",
        "\n",
        "**Geographical Influence:**\n",
        "\n",
        "Visualize which countries contribute the most to overall reach or retweet activity based on bubble size and color.\n",
        "Identify regions where tweets tend to have higher engagement metrics, suggesting potential audience hotspots or targeted marketing opportunities.\n",
        "\n",
        "**Interactive Exploration:**\n",
        "\n",
        "Interact with the animated map to explore specific hours and their corresponding metrics dynamically.\n",
        "Drill down into specific countries or hours to understand localized trends or anomalies in tweet performance."
      ]
    },
    {
      "cell_type": "code",
      "execution_count": null,
      "metadata": {
        "id": "NfeLzOFewC8l"
      },
      "outputs": [],
      "source": []
    }
  ],
  "metadata": {
    "colab": {
      "provenance": []
    },
    "kernelspec": {
      "display_name": "Python 3",
      "name": "python3"
    },
    "language_info": {
      "codemirror_mode": {
        "name": "ipython",
        "version": 3
      },
      "file_extension": ".py",
      "mimetype": "text/x-python",
      "name": "python",
      "nbconvert_exporter": "python",
      "pygments_lexer": "ipython3",
      "version": "3.11.3"
    }
  },
  "nbformat": 4,
  "nbformat_minor": 0
}
